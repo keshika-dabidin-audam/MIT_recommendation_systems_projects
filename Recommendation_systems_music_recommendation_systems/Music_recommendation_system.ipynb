{
  "nbformat": 4,
  "nbformat_minor": 0,
  "metadata": {
    "kernelspec": {
      "display_name": "Python 3",
      "language": "python",
      "name": "python3"
    },
    "language_info": {
      "codemirror_mode": {
        "name": "ipython",
        "version": 3
      },
      "file_extension": ".py",
      "mimetype": "text/x-python",
      "name": "python",
      "nbconvert_exporter": "python",
      "pygments_lexer": "ipython3",
      "version": "3.8.3"
    },
    "colab": {
      "provenance": []
    }
  },
  "cells": [
    {
      "cell_type": "markdown",
      "metadata": {
        "id": "DyAjEw4OHmDb"
      },
      "source": [
        "# **Music Recommendation System**"
      ]
    },
    {
      "cell_type": "markdown",
      "metadata": {
        "id": "Km5ozaHFh_cU"
      },
      "source": [
        "By Dabidin Keshika"
      ]
    },
    {
      "cell_type": "markdown",
      "metadata": {
        "id": "BVUiyhYTHS1t"
      },
      "source": [
        "## **Problem Definition**\n",
        "\n",
        "**The context:** Why is this problem important to solve?<br>\n",
        "\n",
        "Internet-based entertainment companies rely significantly on the time spent by the consumers on their platform. It is essential for stakeholders to understand the type of content that is appreciated and enhances the time spent by and the experience of customers.\n",
        "Spotify is an international content provider which regularly releases a large volume and wide array of music online. Spotify users have little time to find and consume content that suits them. The Company has increased its market size considerably because of its ability to efficiently recommend the next song to be played by their consumers. In order to do that, smart recommendation systems are used. These can understand and process the users’ musical taste and provide relevant suggestions to the platform.\n",
        "\n",
        "\n",
        "**The objectives:** What is the intended goal?<br>\n",
        "In this project, we propose to implement and build a machine learning pipeline that combines content-based, collaborative recommendation engines as well as popularity-based systems to predict which songs a user will enjoy and recommend a list of 10 relevant songs to the user.\n",
        "\n",
        "\n",
        "\n",
        "\n",
        "**The key questions:** What are the key questions that need to be answered?<br>\n",
        "\n",
        "We have access to the user’s listening history and data concerning the listened songs from the ‘Million Songs Dataset’.\n",
        "\n",
        "To guide our exploration, there are some key questions that should be answered –\n",
        "1.\tWhich conditions need to be satisfied to achieve a good performance on collaborative-based recommendation?\n",
        "2.\tWhich method is suitable to apply in different cases?\n",
        "3.\tHow to measure similarities between songs?\n",
        "4.\tHow to build a suitable content-based recommendation method for this dataset?\n",
        "5.\tHow to measure the recommender system performance?\n",
        "\n",
        "\n",
        "**The problem formulation:** What are we trying to solve using data science?\n",
        "\n",
        "\n",
        "Finally, we will build a recommendation engine for songs in Spotify using the Million Songs Dataset. The following methods can be used to present recommendations.\n",
        "\n",
        "•\tContent-based – using keywords in the song or related titles (based on the keywords);\n",
        "\n",
        "•\tCollaborative Filtering – user-to-user similarity searches and item-to-item similarity searches;\n",
        "\n",
        "•\tPopularity-based – using the number of times a user listens to a song, it will give you suggestions;\n",
        "\n",
        "•\tCluster-based – exploring the similarities and differences in people's tastes in songs whilst clustering similar groups together; and,\n",
        "\n",
        "•\tContent-based – using keywords in the song or related titles (based on the keywords).\n",
        "\n",
        "\n",
        "\n",
        "\n",
        "\n",
        "\n",
        "## **Data Dictionary**\n",
        "\n",
        "The core data is the Taste Profile Subset released by the Echo Nest as part of the Million Song Dataset. There are two files in this dataset. The **first file** contains the details about the **song id**, **titles**, **release**, **artist name**, and the **year of release**. The second file contains the **user id**, **song id**, and the **play count** of users.\n",
        "\n",
        "**song_data**\n",
        "\n",
        "song_id - A unique id given to every song\n",
        "\n",
        "title - Title of the song\n",
        "\n",
        "Release - Name of the released album\n",
        "\n",
        "Artist_name - Name of the artist\n",
        "\n",
        "year - Year of release\n",
        "\n",
        "**count_data**\n",
        "\n",
        "user _id - A unique id given to the user\n",
        "\n",
        "song_id - A unique id given to the song\n",
        "\n",
        "play_count - Number of times the song was played\n",
        "\n",
        "## **Data Source**\n",
        "http://millionsongdataset.com/"
      ]
    },
    {
      "cell_type": "markdown",
      "metadata": {
        "id": "NRJtXkTrHxMQ"
      },
      "source": [
        "### **Importing Libraries and the Dataset**"
      ]
    },
    {
      "cell_type": "code",
      "source": [
        "# Mounting the drive\n",
        "from google.colab import drive\n",
        "drive.mount('/content/drive')"
      ],
      "metadata": {
        "id": "6SRzOPXI2Efn",
        "colab": {
          "base_uri": "https://localhost:8080/"
        },
        "outputId": "ad911dfb-572e-4ea8-95b2-6c918684e09d"
      },
      "execution_count": null,
      "outputs": [
        {
          "output_type": "stream",
          "name": "stdout",
          "text": [
            "Mounted at /content/drive\n"
          ]
        }
      ]
    },
    {
      "cell_type": "code",
      "metadata": {
        "id": "R4YvKrpzId3K"
      },
      "source": [
        "# Used to ignore the warning given as output of the code\n",
        "import warnings\n",
        "warnings.filterwarnings('ignore')\n",
        "\n",
        "# Basic libraries of python for numeric and dataframe computations\n",
        "import numpy as np\n",
        "import pandas as pd\n",
        "\n",
        "# Basic library for data visualization\n",
        "import matplotlib.pyplot as plt\n",
        "\n",
        "# Slightly advanced library for data visualization\n",
        "import seaborn as sns\n",
        "\n",
        "# To compute the cosine similarity between two vectors\n",
        "from sklearn.metrics.pairwise import cosine_similarity\n",
        "\n",
        "# A dictionary output that does not raise a key error\n",
        "from collections import defaultdict\n",
        "\n",
        "# A performance metrics in sklearn\n",
        "from sklearn.metrics import mean_squared_error"
      ],
      "execution_count": null,
      "outputs": []
    },
    {
      "cell_type": "markdown",
      "source": [
        "### **Load the dataset**"
      ],
      "metadata": {
        "id": "bUGKX140wf-S"
      }
    },
    {
      "cell_type": "code",
      "metadata": {
        "id": "si6ulhIYImck"
      },
      "source": [
        "# Importing the datasets\n",
        "# Change the path accordingly\n",
        "count_df = pd.read_csv('/content/drive/MyDrive/Colab Notebooks/Capstone/count_data.csv')\n",
        "song_df = pd.read_csv('/content/drive/MyDrive/Colab Notebooks/Capstone/song_data.csv')"
      ],
      "execution_count": null,
      "outputs": []
    },
    {
      "cell_type": "markdown",
      "metadata": {
        "id": "12TKB2M7XyC6"
      },
      "source": [
        "### **Understanding the data by viewing a few observations**"
      ]
    },
    {
      "cell_type": "code",
      "execution_count": null,
      "metadata": {
        "id": "GCLzBuYiXlPM",
        "colab": {
          "base_uri": "https://localhost:8080/",
          "height": 363
        },
        "outputId": "97b35b25-8110-4b43-992b-bf8ee70b80fe"
      },
      "outputs": [
        {
          "output_type": "execute_result",
          "data": {
            "text/plain": [
              "   Unnamed: 0                                   user_id             song_id  \\\n",
              "0           0  b80344d063b5ccb3212f76538f3d9e43d87dca9e  SOAKIMP12A8C130995   \n",
              "1           1  b80344d063b5ccb3212f76538f3d9e43d87dca9e  SOBBMDR12A8C13253B   \n",
              "2           2  b80344d063b5ccb3212f76538f3d9e43d87dca9e  SOBXHDL12A81C204C0   \n",
              "3           3  b80344d063b5ccb3212f76538f3d9e43d87dca9e  SOBYHAJ12A6701BF1D   \n",
              "4           4  b80344d063b5ccb3212f76538f3d9e43d87dca9e  SODACBL12A8C13C273   \n",
              "5           5  b80344d063b5ccb3212f76538f3d9e43d87dca9e  SODDNQT12A6D4F5F7E   \n",
              "6           6  b80344d063b5ccb3212f76538f3d9e43d87dca9e  SODXRTY12AB0180F3B   \n",
              "7           7  b80344d063b5ccb3212f76538f3d9e43d87dca9e  SOFGUAY12AB017B0A8   \n",
              "8           8  b80344d063b5ccb3212f76538f3d9e43d87dca9e  SOFRQTD12A81C233C0   \n",
              "9           9  b80344d063b5ccb3212f76538f3d9e43d87dca9e  SOHQWYZ12A6D4FA701   \n",
              "\n",
              "   play_count  \n",
              "0           1  \n",
              "1           2  \n",
              "2           1  \n",
              "3           1  \n",
              "4           1  \n",
              "5           5  \n",
              "6           1  \n",
              "7           1  \n",
              "8           1  \n",
              "9           1  "
            ],
            "text/html": [
              "\n",
              "  <div id=\"df-8fdea48e-42c3-4028-a2e8-fbb85e26217e\">\n",
              "    <div class=\"colab-df-container\">\n",
              "      <div>\n",
              "<style scoped>\n",
              "    .dataframe tbody tr th:only-of-type {\n",
              "        vertical-align: middle;\n",
              "    }\n",
              "\n",
              "    .dataframe tbody tr th {\n",
              "        vertical-align: top;\n",
              "    }\n",
              "\n",
              "    .dataframe thead th {\n",
              "        text-align: right;\n",
              "    }\n",
              "</style>\n",
              "<table border=\"1\" class=\"dataframe\">\n",
              "  <thead>\n",
              "    <tr style=\"text-align: right;\">\n",
              "      <th></th>\n",
              "      <th>Unnamed: 0</th>\n",
              "      <th>user_id</th>\n",
              "      <th>song_id</th>\n",
              "      <th>play_count</th>\n",
              "    </tr>\n",
              "  </thead>\n",
              "  <tbody>\n",
              "    <tr>\n",
              "      <th>0</th>\n",
              "      <td>0</td>\n",
              "      <td>b80344d063b5ccb3212f76538f3d9e43d87dca9e</td>\n",
              "      <td>SOAKIMP12A8C130995</td>\n",
              "      <td>1</td>\n",
              "    </tr>\n",
              "    <tr>\n",
              "      <th>1</th>\n",
              "      <td>1</td>\n",
              "      <td>b80344d063b5ccb3212f76538f3d9e43d87dca9e</td>\n",
              "      <td>SOBBMDR12A8C13253B</td>\n",
              "      <td>2</td>\n",
              "    </tr>\n",
              "    <tr>\n",
              "      <th>2</th>\n",
              "      <td>2</td>\n",
              "      <td>b80344d063b5ccb3212f76538f3d9e43d87dca9e</td>\n",
              "      <td>SOBXHDL12A81C204C0</td>\n",
              "      <td>1</td>\n",
              "    </tr>\n",
              "    <tr>\n",
              "      <th>3</th>\n",
              "      <td>3</td>\n",
              "      <td>b80344d063b5ccb3212f76538f3d9e43d87dca9e</td>\n",
              "      <td>SOBYHAJ12A6701BF1D</td>\n",
              "      <td>1</td>\n",
              "    </tr>\n",
              "    <tr>\n",
              "      <th>4</th>\n",
              "      <td>4</td>\n",
              "      <td>b80344d063b5ccb3212f76538f3d9e43d87dca9e</td>\n",
              "      <td>SODACBL12A8C13C273</td>\n",
              "      <td>1</td>\n",
              "    </tr>\n",
              "    <tr>\n",
              "      <th>5</th>\n",
              "      <td>5</td>\n",
              "      <td>b80344d063b5ccb3212f76538f3d9e43d87dca9e</td>\n",
              "      <td>SODDNQT12A6D4F5F7E</td>\n",
              "      <td>5</td>\n",
              "    </tr>\n",
              "    <tr>\n",
              "      <th>6</th>\n",
              "      <td>6</td>\n",
              "      <td>b80344d063b5ccb3212f76538f3d9e43d87dca9e</td>\n",
              "      <td>SODXRTY12AB0180F3B</td>\n",
              "      <td>1</td>\n",
              "    </tr>\n",
              "    <tr>\n",
              "      <th>7</th>\n",
              "      <td>7</td>\n",
              "      <td>b80344d063b5ccb3212f76538f3d9e43d87dca9e</td>\n",
              "      <td>SOFGUAY12AB017B0A8</td>\n",
              "      <td>1</td>\n",
              "    </tr>\n",
              "    <tr>\n",
              "      <th>8</th>\n",
              "      <td>8</td>\n",
              "      <td>b80344d063b5ccb3212f76538f3d9e43d87dca9e</td>\n",
              "      <td>SOFRQTD12A81C233C0</td>\n",
              "      <td>1</td>\n",
              "    </tr>\n",
              "    <tr>\n",
              "      <th>9</th>\n",
              "      <td>9</td>\n",
              "      <td>b80344d063b5ccb3212f76538f3d9e43d87dca9e</td>\n",
              "      <td>SOHQWYZ12A6D4FA701</td>\n",
              "      <td>1</td>\n",
              "    </tr>\n",
              "  </tbody>\n",
              "</table>\n",
              "</div>\n",
              "      <button class=\"colab-df-convert\" onclick=\"convertToInteractive('df-8fdea48e-42c3-4028-a2e8-fbb85e26217e')\"\n",
              "              title=\"Convert this dataframe to an interactive table.\"\n",
              "              style=\"display:none;\">\n",
              "        \n",
              "  <svg xmlns=\"http://www.w3.org/2000/svg\" height=\"24px\"viewBox=\"0 0 24 24\"\n",
              "       width=\"24px\">\n",
              "    <path d=\"M0 0h24v24H0V0z\" fill=\"none\"/>\n",
              "    <path d=\"M18.56 5.44l.94 2.06.94-2.06 2.06-.94-2.06-.94-.94-2.06-.94 2.06-2.06.94zm-11 1L8.5 8.5l.94-2.06 2.06-.94-2.06-.94L8.5 2.5l-.94 2.06-2.06.94zm10 10l.94 2.06.94-2.06 2.06-.94-2.06-.94-.94-2.06-.94 2.06-2.06.94z\"/><path d=\"M17.41 7.96l-1.37-1.37c-.4-.4-.92-.59-1.43-.59-.52 0-1.04.2-1.43.59L10.3 9.45l-7.72 7.72c-.78.78-.78 2.05 0 2.83L4 21.41c.39.39.9.59 1.41.59.51 0 1.02-.2 1.41-.59l7.78-7.78 2.81-2.81c.8-.78.8-2.07 0-2.86zM5.41 20L4 18.59l7.72-7.72 1.47 1.35L5.41 20z\"/>\n",
              "  </svg>\n",
              "      </button>\n",
              "      \n",
              "  <style>\n",
              "    .colab-df-container {\n",
              "      display:flex;\n",
              "      flex-wrap:wrap;\n",
              "      gap: 12px;\n",
              "    }\n",
              "\n",
              "    .colab-df-convert {\n",
              "      background-color: #E8F0FE;\n",
              "      border: none;\n",
              "      border-radius: 50%;\n",
              "      cursor: pointer;\n",
              "      display: none;\n",
              "      fill: #1967D2;\n",
              "      height: 32px;\n",
              "      padding: 0 0 0 0;\n",
              "      width: 32px;\n",
              "    }\n",
              "\n",
              "    .colab-df-convert:hover {\n",
              "      background-color: #E2EBFA;\n",
              "      box-shadow: 0px 1px 2px rgba(60, 64, 67, 0.3), 0px 1px 3px 1px rgba(60, 64, 67, 0.15);\n",
              "      fill: #174EA6;\n",
              "    }\n",
              "\n",
              "    [theme=dark] .colab-df-convert {\n",
              "      background-color: #3B4455;\n",
              "      fill: #D2E3FC;\n",
              "    }\n",
              "\n",
              "    [theme=dark] .colab-df-convert:hover {\n",
              "      background-color: #434B5C;\n",
              "      box-shadow: 0px 1px 3px 1px rgba(0, 0, 0, 0.15);\n",
              "      filter: drop-shadow(0px 1px 2px rgba(0, 0, 0, 0.3));\n",
              "      fill: #FFFFFF;\n",
              "    }\n",
              "  </style>\n",
              "\n",
              "      <script>\n",
              "        const buttonEl =\n",
              "          document.querySelector('#df-8fdea48e-42c3-4028-a2e8-fbb85e26217e button.colab-df-convert');\n",
              "        buttonEl.style.display =\n",
              "          google.colab.kernel.accessAllowed ? 'block' : 'none';\n",
              "\n",
              "        async function convertToInteractive(key) {\n",
              "          const element = document.querySelector('#df-8fdea48e-42c3-4028-a2e8-fbb85e26217e');\n",
              "          const dataTable =\n",
              "            await google.colab.kernel.invokeFunction('convertToInteractive',\n",
              "                                                     [key], {});\n",
              "          if (!dataTable) return;\n",
              "\n",
              "          const docLinkHtml = 'Like what you see? Visit the ' +\n",
              "            '<a target=\"_blank\" href=https://colab.research.google.com/notebooks/data_table.ipynb>data table notebook</a>'\n",
              "            + ' to learn more about interactive tables.';\n",
              "          element.innerHTML = '';\n",
              "          dataTable['output_type'] = 'display_data';\n",
              "          await google.colab.output.renderOutput(dataTable, element);\n",
              "          const docLink = document.createElement('div');\n",
              "          docLink.innerHTML = docLinkHtml;\n",
              "          element.appendChild(docLink);\n",
              "        }\n",
              "      </script>\n",
              "    </div>\n",
              "  </div>\n",
              "  "
            ]
          },
          "metadata": {},
          "execution_count": 4
        }
      ],
      "source": [
        "# See the first 10 records of count_df data\n",
        "count_df.head(10)"
      ]
    },
    {
      "cell_type": "code",
      "execution_count": null,
      "metadata": {
        "id": "tV1ed0ApXpu3",
        "colab": {
          "base_uri": "https://localhost:8080/",
          "height": 363
        },
        "outputId": "faf8b03e-9716-4c4a-8446-99da97c69d6e"
      },
      "outputs": [
        {
          "output_type": "execute_result",
          "data": {
            "text/plain": [
              "              song_id                                              title  \\\n",
              "0  SOQMMHC12AB0180CB8                                       Silent Night   \n",
              "1  SOVFVAK12A8C1350D9                                        Tanssi vaan   \n",
              "2  SOGTUKN12AB017F4F1                                  No One Could Ever   \n",
              "3  SOBNYVR12A8C13558C                                      Si Vos Querés   \n",
              "4  SOHSBXH12A8C13B0DF                                   Tangle Of Aspens   \n",
              "5  SOZVAPQ12A8C13B63C  Symphony No. 1 G minor \"Sinfonie Serieuse\"/All...   \n",
              "6  SOQVRHI12A6D4FB2D7                                   We Have Got Love   \n",
              "7  SOEYRFT12AB018936C                                  2 Da Beat Ch'yall   \n",
              "8  SOPMIYT12A6D4F851E                                            Goodbye   \n",
              "9  SOJCFMH12A8C13B0C2                         Mama_ mama can't you see ?   \n",
              "\n",
              "                                release  \\\n",
              "0                 Monster Ballads X-Mas   \n",
              "1                           Karkuteillä   \n",
              "2                                Butter   \n",
              "3                               De Culo   \n",
              "4  Rene Ablaze Presents Winter Sessions   \n",
              "5      Berwald: Symphonies Nos. 1/2/3/4   \n",
              "6             Strictly The Best Vol. 34   \n",
              "7                               Da Bomb   \n",
              "8                             Danny Boy   \n",
              "9  March to cadence with the US marines   \n",
              "\n",
              "                                      artist_name  year  \n",
              "0                                Faster Pussy cat  2003  \n",
              "1                                Karkkiautomaatti  1995  \n",
              "2                                  Hudson Mohawke  2006  \n",
              "3                                     Yerba Brava  2003  \n",
              "4                                      Der Mystic     0  \n",
              "5                                David Montgomery     0  \n",
              "6                              Sasha / Turbulence     0  \n",
              "7                                      Kris Kross  1993  \n",
              "8                                    Joseph Locke     0  \n",
              "9  The Sun Harbor's Chorus-Documentary Recordings     0  "
            ],
            "text/html": [
              "\n",
              "  <div id=\"df-bb6d3fd5-38e2-4a14-9d1c-dd5281940a56\">\n",
              "    <div class=\"colab-df-container\">\n",
              "      <div>\n",
              "<style scoped>\n",
              "    .dataframe tbody tr th:only-of-type {\n",
              "        vertical-align: middle;\n",
              "    }\n",
              "\n",
              "    .dataframe tbody tr th {\n",
              "        vertical-align: top;\n",
              "    }\n",
              "\n",
              "    .dataframe thead th {\n",
              "        text-align: right;\n",
              "    }\n",
              "</style>\n",
              "<table border=\"1\" class=\"dataframe\">\n",
              "  <thead>\n",
              "    <tr style=\"text-align: right;\">\n",
              "      <th></th>\n",
              "      <th>song_id</th>\n",
              "      <th>title</th>\n",
              "      <th>release</th>\n",
              "      <th>artist_name</th>\n",
              "      <th>year</th>\n",
              "    </tr>\n",
              "  </thead>\n",
              "  <tbody>\n",
              "    <tr>\n",
              "      <th>0</th>\n",
              "      <td>SOQMMHC12AB0180CB8</td>\n",
              "      <td>Silent Night</td>\n",
              "      <td>Monster Ballads X-Mas</td>\n",
              "      <td>Faster Pussy cat</td>\n",
              "      <td>2003</td>\n",
              "    </tr>\n",
              "    <tr>\n",
              "      <th>1</th>\n",
              "      <td>SOVFVAK12A8C1350D9</td>\n",
              "      <td>Tanssi vaan</td>\n",
              "      <td>Karkuteillä</td>\n",
              "      <td>Karkkiautomaatti</td>\n",
              "      <td>1995</td>\n",
              "    </tr>\n",
              "    <tr>\n",
              "      <th>2</th>\n",
              "      <td>SOGTUKN12AB017F4F1</td>\n",
              "      <td>No One Could Ever</td>\n",
              "      <td>Butter</td>\n",
              "      <td>Hudson Mohawke</td>\n",
              "      <td>2006</td>\n",
              "    </tr>\n",
              "    <tr>\n",
              "      <th>3</th>\n",
              "      <td>SOBNYVR12A8C13558C</td>\n",
              "      <td>Si Vos Querés</td>\n",
              "      <td>De Culo</td>\n",
              "      <td>Yerba Brava</td>\n",
              "      <td>2003</td>\n",
              "    </tr>\n",
              "    <tr>\n",
              "      <th>4</th>\n",
              "      <td>SOHSBXH12A8C13B0DF</td>\n",
              "      <td>Tangle Of Aspens</td>\n",
              "      <td>Rene Ablaze Presents Winter Sessions</td>\n",
              "      <td>Der Mystic</td>\n",
              "      <td>0</td>\n",
              "    </tr>\n",
              "    <tr>\n",
              "      <th>5</th>\n",
              "      <td>SOZVAPQ12A8C13B63C</td>\n",
              "      <td>Symphony No. 1 G minor \"Sinfonie Serieuse\"/All...</td>\n",
              "      <td>Berwald: Symphonies Nos. 1/2/3/4</td>\n",
              "      <td>David Montgomery</td>\n",
              "      <td>0</td>\n",
              "    </tr>\n",
              "    <tr>\n",
              "      <th>6</th>\n",
              "      <td>SOQVRHI12A6D4FB2D7</td>\n",
              "      <td>We Have Got Love</td>\n",
              "      <td>Strictly The Best Vol. 34</td>\n",
              "      <td>Sasha / Turbulence</td>\n",
              "      <td>0</td>\n",
              "    </tr>\n",
              "    <tr>\n",
              "      <th>7</th>\n",
              "      <td>SOEYRFT12AB018936C</td>\n",
              "      <td>2 Da Beat Ch'yall</td>\n",
              "      <td>Da Bomb</td>\n",
              "      <td>Kris Kross</td>\n",
              "      <td>1993</td>\n",
              "    </tr>\n",
              "    <tr>\n",
              "      <th>8</th>\n",
              "      <td>SOPMIYT12A6D4F851E</td>\n",
              "      <td>Goodbye</td>\n",
              "      <td>Danny Boy</td>\n",
              "      <td>Joseph Locke</td>\n",
              "      <td>0</td>\n",
              "    </tr>\n",
              "    <tr>\n",
              "      <th>9</th>\n",
              "      <td>SOJCFMH12A8C13B0C2</td>\n",
              "      <td>Mama_ mama can't you see ?</td>\n",
              "      <td>March to cadence with the US marines</td>\n",
              "      <td>The Sun Harbor's Chorus-Documentary Recordings</td>\n",
              "      <td>0</td>\n",
              "    </tr>\n",
              "  </tbody>\n",
              "</table>\n",
              "</div>\n",
              "      <button class=\"colab-df-convert\" onclick=\"convertToInteractive('df-bb6d3fd5-38e2-4a14-9d1c-dd5281940a56')\"\n",
              "              title=\"Convert this dataframe to an interactive table.\"\n",
              "              style=\"display:none;\">\n",
              "        \n",
              "  <svg xmlns=\"http://www.w3.org/2000/svg\" height=\"24px\"viewBox=\"0 0 24 24\"\n",
              "       width=\"24px\">\n",
              "    <path d=\"M0 0h24v24H0V0z\" fill=\"none\"/>\n",
              "    <path d=\"M18.56 5.44l.94 2.06.94-2.06 2.06-.94-2.06-.94-.94-2.06-.94 2.06-2.06.94zm-11 1L8.5 8.5l.94-2.06 2.06-.94-2.06-.94L8.5 2.5l-.94 2.06-2.06.94zm10 10l.94 2.06.94-2.06 2.06-.94-2.06-.94-.94-2.06-.94 2.06-2.06.94z\"/><path d=\"M17.41 7.96l-1.37-1.37c-.4-.4-.92-.59-1.43-.59-.52 0-1.04.2-1.43.59L10.3 9.45l-7.72 7.72c-.78.78-.78 2.05 0 2.83L4 21.41c.39.39.9.59 1.41.59.51 0 1.02-.2 1.41-.59l7.78-7.78 2.81-2.81c.8-.78.8-2.07 0-2.86zM5.41 20L4 18.59l7.72-7.72 1.47 1.35L5.41 20z\"/>\n",
              "  </svg>\n",
              "      </button>\n",
              "      \n",
              "  <style>\n",
              "    .colab-df-container {\n",
              "      display:flex;\n",
              "      flex-wrap:wrap;\n",
              "      gap: 12px;\n",
              "    }\n",
              "\n",
              "    .colab-df-convert {\n",
              "      background-color: #E8F0FE;\n",
              "      border: none;\n",
              "      border-radius: 50%;\n",
              "      cursor: pointer;\n",
              "      display: none;\n",
              "      fill: #1967D2;\n",
              "      height: 32px;\n",
              "      padding: 0 0 0 0;\n",
              "      width: 32px;\n",
              "    }\n",
              "\n",
              "    .colab-df-convert:hover {\n",
              "      background-color: #E2EBFA;\n",
              "      box-shadow: 0px 1px 2px rgba(60, 64, 67, 0.3), 0px 1px 3px 1px rgba(60, 64, 67, 0.15);\n",
              "      fill: #174EA6;\n",
              "    }\n",
              "\n",
              "    [theme=dark] .colab-df-convert {\n",
              "      background-color: #3B4455;\n",
              "      fill: #D2E3FC;\n",
              "    }\n",
              "\n",
              "    [theme=dark] .colab-df-convert:hover {\n",
              "      background-color: #434B5C;\n",
              "      box-shadow: 0px 1px 3px 1px rgba(0, 0, 0, 0.15);\n",
              "      filter: drop-shadow(0px 1px 2px rgba(0, 0, 0, 0.3));\n",
              "      fill: #FFFFFF;\n",
              "    }\n",
              "  </style>\n",
              "\n",
              "      <script>\n",
              "        const buttonEl =\n",
              "          document.querySelector('#df-bb6d3fd5-38e2-4a14-9d1c-dd5281940a56 button.colab-df-convert');\n",
              "        buttonEl.style.display =\n",
              "          google.colab.kernel.accessAllowed ? 'block' : 'none';\n",
              "\n",
              "        async function convertToInteractive(key) {\n",
              "          const element = document.querySelector('#df-bb6d3fd5-38e2-4a14-9d1c-dd5281940a56');\n",
              "          const dataTable =\n",
              "            await google.colab.kernel.invokeFunction('convertToInteractive',\n",
              "                                                     [key], {});\n",
              "          if (!dataTable) return;\n",
              "\n",
              "          const docLinkHtml = 'Like what you see? Visit the ' +\n",
              "            '<a target=\"_blank\" href=https://colab.research.google.com/notebooks/data_table.ipynb>data table notebook</a>'\n",
              "            + ' to learn more about interactive tables.';\n",
              "          element.innerHTML = '';\n",
              "          dataTable['output_type'] = 'display_data';\n",
              "          await google.colab.output.renderOutput(dataTable, element);\n",
              "          const docLink = document.createElement('div');\n",
              "          docLink.innerHTML = docLinkHtml;\n",
              "          element.appendChild(docLink);\n",
              "        }\n",
              "      </script>\n",
              "    </div>\n",
              "  </div>\n",
              "  "
            ]
          },
          "metadata": {},
          "execution_count": 5
        }
      ],
      "source": [
        "# See the first 10 records of song_df data\n",
        "song_df.head(10)"
      ]
    },
    {
      "cell_type": "markdown",
      "metadata": {
        "id": "bvKb5FHcXzcN"
      },
      "source": [
        "### **Let us check the data types and and missing values of each column**"
      ]
    },
    {
      "cell_type": "code",
      "execution_count": null,
      "metadata": {
        "id": "yyoHc_cnX19J",
        "colab": {
          "base_uri": "https://localhost:8080/"
        },
        "outputId": "47001a67-b9b9-4f85-c7c7-f83db7b6c075"
      },
      "outputs": [
        {
          "output_type": "stream",
          "name": "stdout",
          "text": [
            "<class 'pandas.core.frame.DataFrame'>\n",
            "RangeIndex: 2000000 entries, 0 to 1999999\n",
            "Data columns (total 4 columns):\n",
            " #   Column      Dtype \n",
            "---  ------      ----- \n",
            " 0   Unnamed: 0  int64 \n",
            " 1   user_id     object\n",
            " 2   song_id     object\n",
            " 3   play_count  int64 \n",
            "dtypes: int64(2), object(2)\n",
            "memory usage: 61.0+ MB\n"
          ]
        }
      ],
      "source": [
        "# See the info of the count_df data\n",
        "count_df.info()"
      ]
    },
    {
      "cell_type": "code",
      "execution_count": null,
      "metadata": {
        "id": "rz3zDx_LX42y",
        "colab": {
          "base_uri": "https://localhost:8080/"
        },
        "outputId": "38fc46ab-8458-4d78-8db3-93ab08a1ddc5"
      },
      "outputs": [
        {
          "output_type": "stream",
          "name": "stdout",
          "text": [
            "<class 'pandas.core.frame.DataFrame'>\n",
            "RangeIndex: 1000000 entries, 0 to 999999\n",
            "Data columns (total 5 columns):\n",
            " #   Column       Non-Null Count    Dtype \n",
            "---  ------       --------------    ----- \n",
            " 0   song_id      1000000 non-null  object\n",
            " 1   title        999985 non-null   object\n",
            " 2   release      999995 non-null   object\n",
            " 3   artist_name  1000000 non-null  object\n",
            " 4   year         1000000 non-null  int64 \n",
            "dtypes: int64(1), object(4)\n",
            "memory usage: 38.1+ MB\n"
          ]
        }
      ],
      "source": [
        "# See the info of the song_df data\n",
        "song_df.info()"
      ]
    },
    {
      "cell_type": "markdown",
      "metadata": {
        "id": "Ze2TlWxpYadn"
      },
      "source": [
        "#### **Observations and Insights:**\n",
        "In **count_df**, there are **2,000,000 rows** and **4 columns** :\n",
        "- The **Unnamed : 0 column** gives the number of the record and is of int64 type.\n",
        "- The **user_id** and the **song_id** gives the unique id of the user or the song respectively and these columns are of object type.\n",
        "- The **play_count** gives the number of times a song has been played and is of int64 type.\n",
        "\n",
        "We can use this dataset for the recommendation system.\n",
        "\n",
        "We will not need the **Unnamed : 0** column for our analysis. Hence, we can drop this column.\n",
        "\n",
        "In **song_df**, there are **1,000,000 rows** and **5 columns** :\n",
        "\n",
        "- The **song_id**, **title**, **release**, and **artist_name** give the song identification, the title of the song, the name of the released album and the artist related respectively. These columns are of object type.\n",
        "\n",
        "The song_id column can be used as a common key with the previous dataset to combine both datasets.\n",
        "\n",
        "- The **year** column gives the year during which the song was released. The data of this column is of int64 type.\n",
        "\n",
        "**We can also conclude that for the users data we have 2,000,000 samples while we have 1,000,000 songs available in the songs data**"
      ]
    },
    {
      "cell_type": "code",
      "execution_count": null,
      "metadata": {
        "id": "oTeurvID2T9U",
        "colab": {
          "base_uri": "https://localhost:8080/",
          "height": 206
        },
        "outputId": "cb0072e8-95f1-43e9-eadf-fb80e8cf2734"
      },
      "outputs": [
        {
          "output_type": "execute_result",
          "data": {
            "text/plain": [
              "                                    user_id             song_id  play_count  \\\n",
              "0  b80344d063b5ccb3212f76538f3d9e43d87dca9e  SOAKIMP12A8C130995           1   \n",
              "1  b80344d063b5ccb3212f76538f3d9e43d87dca9e  SOBBMDR12A8C13253B           2   \n",
              "2  b80344d063b5ccb3212f76538f3d9e43d87dca9e  SOBXHDL12A81C204C0           1   \n",
              "3  b80344d063b5ccb3212f76538f3d9e43d87dca9e  SOBYHAJ12A6701BF1D           1   \n",
              "4  b80344d063b5ccb3212f76538f3d9e43d87dca9e  SODACBL12A8C13C273           1   \n",
              "\n",
              "             title                        release    artist_name  year  \n",
              "0         The Cove             Thicker Than Water   Jack Johnson     0  \n",
              "1  Entre Dos Aguas            Flamenco Para Niños  Paco De Lucia  1976  \n",
              "2         Stronger                     Graduation     Kanye West  2007  \n",
              "3   Constellations              In Between Dreams   Jack Johnson  2005  \n",
              "4     Learn To Fly  There Is Nothing Left To Lose   Foo Fighters  1999  "
            ],
            "text/html": [
              "\n",
              "  <div id=\"df-1cad05d2-d103-48f0-ae92-8ee8d7d4ea12\">\n",
              "    <div class=\"colab-df-container\">\n",
              "      <div>\n",
              "<style scoped>\n",
              "    .dataframe tbody tr th:only-of-type {\n",
              "        vertical-align: middle;\n",
              "    }\n",
              "\n",
              "    .dataframe tbody tr th {\n",
              "        vertical-align: top;\n",
              "    }\n",
              "\n",
              "    .dataframe thead th {\n",
              "        text-align: right;\n",
              "    }\n",
              "</style>\n",
              "<table border=\"1\" class=\"dataframe\">\n",
              "  <thead>\n",
              "    <tr style=\"text-align: right;\">\n",
              "      <th></th>\n",
              "      <th>user_id</th>\n",
              "      <th>song_id</th>\n",
              "      <th>play_count</th>\n",
              "      <th>title</th>\n",
              "      <th>release</th>\n",
              "      <th>artist_name</th>\n",
              "      <th>year</th>\n",
              "    </tr>\n",
              "  </thead>\n",
              "  <tbody>\n",
              "    <tr>\n",
              "      <th>0</th>\n",
              "      <td>b80344d063b5ccb3212f76538f3d9e43d87dca9e</td>\n",
              "      <td>SOAKIMP12A8C130995</td>\n",
              "      <td>1</td>\n",
              "      <td>The Cove</td>\n",
              "      <td>Thicker Than Water</td>\n",
              "      <td>Jack Johnson</td>\n",
              "      <td>0</td>\n",
              "    </tr>\n",
              "    <tr>\n",
              "      <th>1</th>\n",
              "      <td>b80344d063b5ccb3212f76538f3d9e43d87dca9e</td>\n",
              "      <td>SOBBMDR12A8C13253B</td>\n",
              "      <td>2</td>\n",
              "      <td>Entre Dos Aguas</td>\n",
              "      <td>Flamenco Para Niños</td>\n",
              "      <td>Paco De Lucia</td>\n",
              "      <td>1976</td>\n",
              "    </tr>\n",
              "    <tr>\n",
              "      <th>2</th>\n",
              "      <td>b80344d063b5ccb3212f76538f3d9e43d87dca9e</td>\n",
              "      <td>SOBXHDL12A81C204C0</td>\n",
              "      <td>1</td>\n",
              "      <td>Stronger</td>\n",
              "      <td>Graduation</td>\n",
              "      <td>Kanye West</td>\n",
              "      <td>2007</td>\n",
              "    </tr>\n",
              "    <tr>\n",
              "      <th>3</th>\n",
              "      <td>b80344d063b5ccb3212f76538f3d9e43d87dca9e</td>\n",
              "      <td>SOBYHAJ12A6701BF1D</td>\n",
              "      <td>1</td>\n",
              "      <td>Constellations</td>\n",
              "      <td>In Between Dreams</td>\n",
              "      <td>Jack Johnson</td>\n",
              "      <td>2005</td>\n",
              "    </tr>\n",
              "    <tr>\n",
              "      <th>4</th>\n",
              "      <td>b80344d063b5ccb3212f76538f3d9e43d87dca9e</td>\n",
              "      <td>SODACBL12A8C13C273</td>\n",
              "      <td>1</td>\n",
              "      <td>Learn To Fly</td>\n",
              "      <td>There Is Nothing Left To Lose</td>\n",
              "      <td>Foo Fighters</td>\n",
              "      <td>1999</td>\n",
              "    </tr>\n",
              "  </tbody>\n",
              "</table>\n",
              "</div>\n",
              "      <button class=\"colab-df-convert\" onclick=\"convertToInteractive('df-1cad05d2-d103-48f0-ae92-8ee8d7d4ea12')\"\n",
              "              title=\"Convert this dataframe to an interactive table.\"\n",
              "              style=\"display:none;\">\n",
              "        \n",
              "  <svg xmlns=\"http://www.w3.org/2000/svg\" height=\"24px\"viewBox=\"0 0 24 24\"\n",
              "       width=\"24px\">\n",
              "    <path d=\"M0 0h24v24H0V0z\" fill=\"none\"/>\n",
              "    <path d=\"M18.56 5.44l.94 2.06.94-2.06 2.06-.94-2.06-.94-.94-2.06-.94 2.06-2.06.94zm-11 1L8.5 8.5l.94-2.06 2.06-.94-2.06-.94L8.5 2.5l-.94 2.06-2.06.94zm10 10l.94 2.06.94-2.06 2.06-.94-2.06-.94-.94-2.06-.94 2.06-2.06.94z\"/><path d=\"M17.41 7.96l-1.37-1.37c-.4-.4-.92-.59-1.43-.59-.52 0-1.04.2-1.43.59L10.3 9.45l-7.72 7.72c-.78.78-.78 2.05 0 2.83L4 21.41c.39.39.9.59 1.41.59.51 0 1.02-.2 1.41-.59l7.78-7.78 2.81-2.81c.8-.78.8-2.07 0-2.86zM5.41 20L4 18.59l7.72-7.72 1.47 1.35L5.41 20z\"/>\n",
              "  </svg>\n",
              "      </button>\n",
              "      \n",
              "  <style>\n",
              "    .colab-df-container {\n",
              "      display:flex;\n",
              "      flex-wrap:wrap;\n",
              "      gap: 12px;\n",
              "    }\n",
              "\n",
              "    .colab-df-convert {\n",
              "      background-color: #E8F0FE;\n",
              "      border: none;\n",
              "      border-radius: 50%;\n",
              "      cursor: pointer;\n",
              "      display: none;\n",
              "      fill: #1967D2;\n",
              "      height: 32px;\n",
              "      padding: 0 0 0 0;\n",
              "      width: 32px;\n",
              "    }\n",
              "\n",
              "    .colab-df-convert:hover {\n",
              "      background-color: #E2EBFA;\n",
              "      box-shadow: 0px 1px 2px rgba(60, 64, 67, 0.3), 0px 1px 3px 1px rgba(60, 64, 67, 0.15);\n",
              "      fill: #174EA6;\n",
              "    }\n",
              "\n",
              "    [theme=dark] .colab-df-convert {\n",
              "      background-color: #3B4455;\n",
              "      fill: #D2E3FC;\n",
              "    }\n",
              "\n",
              "    [theme=dark] .colab-df-convert:hover {\n",
              "      background-color: #434B5C;\n",
              "      box-shadow: 0px 1px 3px 1px rgba(0, 0, 0, 0.15);\n",
              "      filter: drop-shadow(0px 1px 2px rgba(0, 0, 0, 0.3));\n",
              "      fill: #FFFFFF;\n",
              "    }\n",
              "  </style>\n",
              "\n",
              "      <script>\n",
              "        const buttonEl =\n",
              "          document.querySelector('#df-1cad05d2-d103-48f0-ae92-8ee8d7d4ea12 button.colab-df-convert');\n",
              "        buttonEl.style.display =\n",
              "          google.colab.kernel.accessAllowed ? 'block' : 'none';\n",
              "\n",
              "        async function convertToInteractive(key) {\n",
              "          const element = document.querySelector('#df-1cad05d2-d103-48f0-ae92-8ee8d7d4ea12');\n",
              "          const dataTable =\n",
              "            await google.colab.kernel.invokeFunction('convertToInteractive',\n",
              "                                                     [key], {});\n",
              "          if (!dataTable) return;\n",
              "\n",
              "          const docLinkHtml = 'Like what you see? Visit the ' +\n",
              "            '<a target=\"_blank\" href=https://colab.research.google.com/notebooks/data_table.ipynb>data table notebook</a>'\n",
              "            + ' to learn more about interactive tables.';\n",
              "          element.innerHTML = '';\n",
              "          dataTable['output_type'] = 'display_data';\n",
              "          await google.colab.output.renderOutput(dataTable, element);\n",
              "          const docLink = document.createElement('div');\n",
              "          docLink.innerHTML = docLinkHtml;\n",
              "          element.appendChild(docLink);\n",
              "        }\n",
              "      </script>\n",
              "    </div>\n",
              "  </div>\n",
              "  "
            ]
          },
          "metadata": {},
          "execution_count": 8
        }
      ],
      "source": [
        "# Left merge the count_df and song_df data on \"song_id\". Drop duplicates from song_df data simultaneously\n",
        "songs=pd.merge(count_df,song_df.drop_duplicates(['song_id']),on='song_id',how='left')\n",
        "# Drop the column 'Unnamed: 0'\n",
        "songs=songs.drop(['Unnamed: 0'], axis = 1)\n",
        "songs.head()"
      ]
    },
    {
      "cell_type": "markdown",
      "source": [
        "**Think About It:** *As the user_id and song_id are encrypted. Can they be encoded to numeric features?*\n",
        "\n",
        "Some machine learning libraries do not take categorical variables as input. Thus, we convert them into numerical variables.\n",
        "One of the methods used to convert a categorical (string) input to numerical variables is the label encoder.\n",
        "It is used to transform non-numerical labels to numerical labels (or nominal categorical variables). Numerical labels are always between 0 and n_classes-1.\n"
      ],
      "metadata": {
        "id": "yWeY9ZT43XFX"
      }
    },
    {
      "cell_type": "code",
      "execution_count": null,
      "metadata": {
        "id": "oxeoOVxh2T9U",
        "colab": {
          "base_uri": "https://localhost:8080/",
          "height": 206
        },
        "outputId": "10ef542d-1d18-456f-dc4e-6cb38e05307a"
      },
      "outputs": [
        {
          "output_type": "execute_result",
          "data": {
            "text/plain": [
              "   user_id  song_id  play_count            title  \\\n",
              "0    54961      153           1         The Cove   \n",
              "1    54961      413           2  Entre Dos Aguas   \n",
              "2    54961      736           1         Stronger   \n",
              "3    54961      750           1   Constellations   \n",
              "4    54961     1188           1     Learn To Fly   \n",
              "\n",
              "                         release    artist_name  year  \n",
              "0             Thicker Than Water   Jack Johnson     0  \n",
              "1            Flamenco Para Niños  Paco De Lucia  1976  \n",
              "2                     Graduation     Kanye West  2007  \n",
              "3              In Between Dreams   Jack Johnson  2005  \n",
              "4  There Is Nothing Left To Lose   Foo Fighters  1999  "
            ],
            "text/html": [
              "\n",
              "  <div id=\"df-a51c4b39-c11a-4c86-a434-f8b44b10a4b0\">\n",
              "    <div class=\"colab-df-container\">\n",
              "      <div>\n",
              "<style scoped>\n",
              "    .dataframe tbody tr th:only-of-type {\n",
              "        vertical-align: middle;\n",
              "    }\n",
              "\n",
              "    .dataframe tbody tr th {\n",
              "        vertical-align: top;\n",
              "    }\n",
              "\n",
              "    .dataframe thead th {\n",
              "        text-align: right;\n",
              "    }\n",
              "</style>\n",
              "<table border=\"1\" class=\"dataframe\">\n",
              "  <thead>\n",
              "    <tr style=\"text-align: right;\">\n",
              "      <th></th>\n",
              "      <th>user_id</th>\n",
              "      <th>song_id</th>\n",
              "      <th>play_count</th>\n",
              "      <th>title</th>\n",
              "      <th>release</th>\n",
              "      <th>artist_name</th>\n",
              "      <th>year</th>\n",
              "    </tr>\n",
              "  </thead>\n",
              "  <tbody>\n",
              "    <tr>\n",
              "      <th>0</th>\n",
              "      <td>54961</td>\n",
              "      <td>153</td>\n",
              "      <td>1</td>\n",
              "      <td>The Cove</td>\n",
              "      <td>Thicker Than Water</td>\n",
              "      <td>Jack Johnson</td>\n",
              "      <td>0</td>\n",
              "    </tr>\n",
              "    <tr>\n",
              "      <th>1</th>\n",
              "      <td>54961</td>\n",
              "      <td>413</td>\n",
              "      <td>2</td>\n",
              "      <td>Entre Dos Aguas</td>\n",
              "      <td>Flamenco Para Niños</td>\n",
              "      <td>Paco De Lucia</td>\n",
              "      <td>1976</td>\n",
              "    </tr>\n",
              "    <tr>\n",
              "      <th>2</th>\n",
              "      <td>54961</td>\n",
              "      <td>736</td>\n",
              "      <td>1</td>\n",
              "      <td>Stronger</td>\n",
              "      <td>Graduation</td>\n",
              "      <td>Kanye West</td>\n",
              "      <td>2007</td>\n",
              "    </tr>\n",
              "    <tr>\n",
              "      <th>3</th>\n",
              "      <td>54961</td>\n",
              "      <td>750</td>\n",
              "      <td>1</td>\n",
              "      <td>Constellations</td>\n",
              "      <td>In Between Dreams</td>\n",
              "      <td>Jack Johnson</td>\n",
              "      <td>2005</td>\n",
              "    </tr>\n",
              "    <tr>\n",
              "      <th>4</th>\n",
              "      <td>54961</td>\n",
              "      <td>1188</td>\n",
              "      <td>1</td>\n",
              "      <td>Learn To Fly</td>\n",
              "      <td>There Is Nothing Left To Lose</td>\n",
              "      <td>Foo Fighters</td>\n",
              "      <td>1999</td>\n",
              "    </tr>\n",
              "  </tbody>\n",
              "</table>\n",
              "</div>\n",
              "      <button class=\"colab-df-convert\" onclick=\"convertToInteractive('df-a51c4b39-c11a-4c86-a434-f8b44b10a4b0')\"\n",
              "              title=\"Convert this dataframe to an interactive table.\"\n",
              "              style=\"display:none;\">\n",
              "        \n",
              "  <svg xmlns=\"http://www.w3.org/2000/svg\" height=\"24px\"viewBox=\"0 0 24 24\"\n",
              "       width=\"24px\">\n",
              "    <path d=\"M0 0h24v24H0V0z\" fill=\"none\"/>\n",
              "    <path d=\"M18.56 5.44l.94 2.06.94-2.06 2.06-.94-2.06-.94-.94-2.06-.94 2.06-2.06.94zm-11 1L8.5 8.5l.94-2.06 2.06-.94-2.06-.94L8.5 2.5l-.94 2.06-2.06.94zm10 10l.94 2.06.94-2.06 2.06-.94-2.06-.94-.94-2.06-.94 2.06-2.06.94z\"/><path d=\"M17.41 7.96l-1.37-1.37c-.4-.4-.92-.59-1.43-.59-.52 0-1.04.2-1.43.59L10.3 9.45l-7.72 7.72c-.78.78-.78 2.05 0 2.83L4 21.41c.39.39.9.59 1.41.59.51 0 1.02-.2 1.41-.59l7.78-7.78 2.81-2.81c.8-.78.8-2.07 0-2.86zM5.41 20L4 18.59l7.72-7.72 1.47 1.35L5.41 20z\"/>\n",
              "  </svg>\n",
              "      </button>\n",
              "      \n",
              "  <style>\n",
              "    .colab-df-container {\n",
              "      display:flex;\n",
              "      flex-wrap:wrap;\n",
              "      gap: 12px;\n",
              "    }\n",
              "\n",
              "    .colab-df-convert {\n",
              "      background-color: #E8F0FE;\n",
              "      border: none;\n",
              "      border-radius: 50%;\n",
              "      cursor: pointer;\n",
              "      display: none;\n",
              "      fill: #1967D2;\n",
              "      height: 32px;\n",
              "      padding: 0 0 0 0;\n",
              "      width: 32px;\n",
              "    }\n",
              "\n",
              "    .colab-df-convert:hover {\n",
              "      background-color: #E2EBFA;\n",
              "      box-shadow: 0px 1px 2px rgba(60, 64, 67, 0.3), 0px 1px 3px 1px rgba(60, 64, 67, 0.15);\n",
              "      fill: #174EA6;\n",
              "    }\n",
              "\n",
              "    [theme=dark] .colab-df-convert {\n",
              "      background-color: #3B4455;\n",
              "      fill: #D2E3FC;\n",
              "    }\n",
              "\n",
              "    [theme=dark] .colab-df-convert:hover {\n",
              "      background-color: #434B5C;\n",
              "      box-shadow: 0px 1px 3px 1px rgba(0, 0, 0, 0.15);\n",
              "      filter: drop-shadow(0px 1px 2px rgba(0, 0, 0, 0.3));\n",
              "      fill: #FFFFFF;\n",
              "    }\n",
              "  </style>\n",
              "\n",
              "      <script>\n",
              "        const buttonEl =\n",
              "          document.querySelector('#df-a51c4b39-c11a-4c86-a434-f8b44b10a4b0 button.colab-df-convert');\n",
              "        buttonEl.style.display =\n",
              "          google.colab.kernel.accessAllowed ? 'block' : 'none';\n",
              "\n",
              "        async function convertToInteractive(key) {\n",
              "          const element = document.querySelector('#df-a51c4b39-c11a-4c86-a434-f8b44b10a4b0');\n",
              "          const dataTable =\n",
              "            await google.colab.kernel.invokeFunction('convertToInteractive',\n",
              "                                                     [key], {});\n",
              "          if (!dataTable) return;\n",
              "\n",
              "          const docLinkHtml = 'Like what you see? Visit the ' +\n",
              "            '<a target=\"_blank\" href=https://colab.research.google.com/notebooks/data_table.ipynb>data table notebook</a>'\n",
              "            + ' to learn more about interactive tables.';\n",
              "          element.innerHTML = '';\n",
              "          dataTable['output_type'] = 'display_data';\n",
              "          await google.colab.output.renderOutput(dataTable, element);\n",
              "          const docLink = document.createElement('div');\n",
              "          docLink.innerHTML = docLinkHtml;\n",
              "          element.appendChild(docLink);\n",
              "        }\n",
              "      </script>\n",
              "    </div>\n",
              "  </div>\n",
              "  "
            ]
          },
          "metadata": {},
          "execution_count": 9
        }
      ],
      "source": [
        "# Apply label encoding for \"user_id\" and \"song_id\"\n",
        "\n",
        "# Import label encoder\n",
        "from sklearn import preprocessing\n",
        "\n",
        "# The label_encoder object knows how to understand word labels.\n",
        "label_encoder = preprocessing.LabelEncoder()\n",
        "\n",
        "# Encoding labels in columns \"user_id\" and \"song_id\".\n",
        "songs['user_id']= label_encoder.fit_transform(songs['user_id'])\n",
        "songs['song_id']= label_encoder.fit_transform(songs['song_id'])\n",
        "df=songs\n",
        "df.head()"
      ]
    },
    {
      "cell_type": "markdown",
      "source": [
        "**Think About It:** As the data also contains users who have listened to very few songs and vice versa, is it required to filter the data so that it contains users who have listened to a good count of songs and vice versa?\n",
        "\n",
        "Yes, it is recommended to filter the data so as to have a reliable source for building the recommendation systems - i.e include reliable 'hit' songs and reliable users."
      ],
      "metadata": {
        "id": "6Q9EFYwj35Ju"
      }
    },
    {
      "cell_type": "code",
      "execution_count": null,
      "metadata": {
        "id": "7GGH9TW0_9uX"
      },
      "outputs": [],
      "source": [
        "# Get the column containing the users\n",
        "users = df.user_id\n",
        "\n",
        "# Create a dictionary from users to their number of songs\n",
        "ratings_count = dict()\n",
        "\n",
        "for user in users:\n",
        "    # If we already have the user, just add 1 to their rating count\n",
        "    if user in ratings_count:\n",
        "        ratings_count[user] += 1\n",
        "\n",
        "    # Otherwise, set their rating count to 1\n",
        "    else:\n",
        "        ratings_count[user] = 1"
      ]
    },
    {
      "cell_type": "code",
      "execution_count": null,
      "metadata": {
        "id": "-cc6mOK7_9uX"
      },
      "outputs": [],
      "source": [
        "# We want our users to have listened at least 90 songs\n",
        "RATINGS_CUTOFF = 90\n",
        "\n",
        "# Create a list of users who need to be removed\n",
        "remove_users = []\n",
        "\n",
        "for user, num_ratings in ratings_count.items():\n",
        "\n",
        "    if num_ratings < RATINGS_CUTOFF:\n",
        "        remove_users.append(user)\n",
        "\n",
        "df = df.loc[ ~ df.user_id.isin(remove_users)]"
      ]
    },
    {
      "cell_type": "code",
      "execution_count": null,
      "metadata": {
        "id": "B5BS-Wk5_9uY"
      },
      "outputs": [],
      "source": [
        "# Get the column containing the songs\n",
        "songs = df.song_id\n",
        "\n",
        "# Create a dictionary from songs to their number of users\n",
        "ratings_count = dict()\n",
        "\n",
        "for song in songs:\n",
        "    # If we already have the song, just add 1 to their rating count\n",
        "    if song in ratings_count:\n",
        "        ratings_count[song] += 1\n",
        "\n",
        "    # Otherwise, set their rating count to 1\n",
        "    else:\n",
        "        ratings_count[song] = 1"
      ]
    },
    {
      "cell_type": "code",
      "execution_count": null,
      "metadata": {
        "id": "_nCtGwGO_9uY"
      },
      "outputs": [],
      "source": [
        "# We want our song to be listened by atleast 120 users to be considered\n",
        "RATINGS_CUTOFF = 120\n",
        "\n",
        "remove_songs = []\n",
        "\n",
        "for song, num_ratings in ratings_count.items():\n",
        "    if num_ratings < RATINGS_CUTOFF:\n",
        "        remove_songs.append(song)\n",
        "\n",
        "df_final= df.loc[ ~ df.song_id.isin(remove_songs)]\n"
      ]
    },
    {
      "cell_type": "code",
      "execution_count": null,
      "metadata": {
        "id": "8qaKeoMcGpad",
        "colab": {
          "base_uri": "https://localhost:8080/",
          "height": 206
        },
        "outputId": "68cf0e3f-2649-4973-90f1-71efaa924685"
      },
      "outputs": [
        {
          "output_type": "execute_result",
          "data": {
            "text/plain": [
              "     user_id  song_id  play_count                            title  \\\n",
              "200     6958      447           1               Daisy And Prudence   \n",
              "202     6958      512           1  The Ballad of Michael Valentine   \n",
              "203     6958      549           1        I Stand Corrected (Album)   \n",
              "204     6958      703           1            They Might Follow You   \n",
              "205     6958      719           1                       Monkey Man   \n",
              "\n",
              "                  release      artist_name  year  \n",
              "200          Distillation     Erin McKeown  2000  \n",
              "202               Sawdust      The Killers  2004  \n",
              "203       Vampire Weekend  Vampire Weekend  2007  \n",
              "204           Tiny Vipers      Tiny Vipers  2007  \n",
              "205  You Know I'm No Good    Amy Winehouse  2007  "
            ],
            "text/html": [
              "\n",
              "  <div id=\"df-b9159f46-304f-4898-b076-d8223544cd10\">\n",
              "    <div class=\"colab-df-container\">\n",
              "      <div>\n",
              "<style scoped>\n",
              "    .dataframe tbody tr th:only-of-type {\n",
              "        vertical-align: middle;\n",
              "    }\n",
              "\n",
              "    .dataframe tbody tr th {\n",
              "        vertical-align: top;\n",
              "    }\n",
              "\n",
              "    .dataframe thead th {\n",
              "        text-align: right;\n",
              "    }\n",
              "</style>\n",
              "<table border=\"1\" class=\"dataframe\">\n",
              "  <thead>\n",
              "    <tr style=\"text-align: right;\">\n",
              "      <th></th>\n",
              "      <th>user_id</th>\n",
              "      <th>song_id</th>\n",
              "      <th>play_count</th>\n",
              "      <th>title</th>\n",
              "      <th>release</th>\n",
              "      <th>artist_name</th>\n",
              "      <th>year</th>\n",
              "    </tr>\n",
              "  </thead>\n",
              "  <tbody>\n",
              "    <tr>\n",
              "      <th>200</th>\n",
              "      <td>6958</td>\n",
              "      <td>447</td>\n",
              "      <td>1</td>\n",
              "      <td>Daisy And Prudence</td>\n",
              "      <td>Distillation</td>\n",
              "      <td>Erin McKeown</td>\n",
              "      <td>2000</td>\n",
              "    </tr>\n",
              "    <tr>\n",
              "      <th>202</th>\n",
              "      <td>6958</td>\n",
              "      <td>512</td>\n",
              "      <td>1</td>\n",
              "      <td>The Ballad of Michael Valentine</td>\n",
              "      <td>Sawdust</td>\n",
              "      <td>The Killers</td>\n",
              "      <td>2004</td>\n",
              "    </tr>\n",
              "    <tr>\n",
              "      <th>203</th>\n",
              "      <td>6958</td>\n",
              "      <td>549</td>\n",
              "      <td>1</td>\n",
              "      <td>I Stand Corrected (Album)</td>\n",
              "      <td>Vampire Weekend</td>\n",
              "      <td>Vampire Weekend</td>\n",
              "      <td>2007</td>\n",
              "    </tr>\n",
              "    <tr>\n",
              "      <th>204</th>\n",
              "      <td>6958</td>\n",
              "      <td>703</td>\n",
              "      <td>1</td>\n",
              "      <td>They Might Follow You</td>\n",
              "      <td>Tiny Vipers</td>\n",
              "      <td>Tiny Vipers</td>\n",
              "      <td>2007</td>\n",
              "    </tr>\n",
              "    <tr>\n",
              "      <th>205</th>\n",
              "      <td>6958</td>\n",
              "      <td>719</td>\n",
              "      <td>1</td>\n",
              "      <td>Monkey Man</td>\n",
              "      <td>You Know I'm No Good</td>\n",
              "      <td>Amy Winehouse</td>\n",
              "      <td>2007</td>\n",
              "    </tr>\n",
              "  </tbody>\n",
              "</table>\n",
              "</div>\n",
              "      <button class=\"colab-df-convert\" onclick=\"convertToInteractive('df-b9159f46-304f-4898-b076-d8223544cd10')\"\n",
              "              title=\"Convert this dataframe to an interactive table.\"\n",
              "              style=\"display:none;\">\n",
              "        \n",
              "  <svg xmlns=\"http://www.w3.org/2000/svg\" height=\"24px\"viewBox=\"0 0 24 24\"\n",
              "       width=\"24px\">\n",
              "    <path d=\"M0 0h24v24H0V0z\" fill=\"none\"/>\n",
              "    <path d=\"M18.56 5.44l.94 2.06.94-2.06 2.06-.94-2.06-.94-.94-2.06-.94 2.06-2.06.94zm-11 1L8.5 8.5l.94-2.06 2.06-.94-2.06-.94L8.5 2.5l-.94 2.06-2.06.94zm10 10l.94 2.06.94-2.06 2.06-.94-2.06-.94-.94-2.06-.94 2.06-2.06.94z\"/><path d=\"M17.41 7.96l-1.37-1.37c-.4-.4-.92-.59-1.43-.59-.52 0-1.04.2-1.43.59L10.3 9.45l-7.72 7.72c-.78.78-.78 2.05 0 2.83L4 21.41c.39.39.9.59 1.41.59.51 0 1.02-.2 1.41-.59l7.78-7.78 2.81-2.81c.8-.78.8-2.07 0-2.86zM5.41 20L4 18.59l7.72-7.72 1.47 1.35L5.41 20z\"/>\n",
              "  </svg>\n",
              "      </button>\n",
              "      \n",
              "  <style>\n",
              "    .colab-df-container {\n",
              "      display:flex;\n",
              "      flex-wrap:wrap;\n",
              "      gap: 12px;\n",
              "    }\n",
              "\n",
              "    .colab-df-convert {\n",
              "      background-color: #E8F0FE;\n",
              "      border: none;\n",
              "      border-radius: 50%;\n",
              "      cursor: pointer;\n",
              "      display: none;\n",
              "      fill: #1967D2;\n",
              "      height: 32px;\n",
              "      padding: 0 0 0 0;\n",
              "      width: 32px;\n",
              "    }\n",
              "\n",
              "    .colab-df-convert:hover {\n",
              "      background-color: #E2EBFA;\n",
              "      box-shadow: 0px 1px 2px rgba(60, 64, 67, 0.3), 0px 1px 3px 1px rgba(60, 64, 67, 0.15);\n",
              "      fill: #174EA6;\n",
              "    }\n",
              "\n",
              "    [theme=dark] .colab-df-convert {\n",
              "      background-color: #3B4455;\n",
              "      fill: #D2E3FC;\n",
              "    }\n",
              "\n",
              "    [theme=dark] .colab-df-convert:hover {\n",
              "      background-color: #434B5C;\n",
              "      box-shadow: 0px 1px 3px 1px rgba(0, 0, 0, 0.15);\n",
              "      filter: drop-shadow(0px 1px 2px rgba(0, 0, 0, 0.3));\n",
              "      fill: #FFFFFF;\n",
              "    }\n",
              "  </style>\n",
              "\n",
              "      <script>\n",
              "        const buttonEl =\n",
              "          document.querySelector('#df-b9159f46-304f-4898-b076-d8223544cd10 button.colab-df-convert');\n",
              "        buttonEl.style.display =\n",
              "          google.colab.kernel.accessAllowed ? 'block' : 'none';\n",
              "\n",
              "        async function convertToInteractive(key) {\n",
              "          const element = document.querySelector('#df-b9159f46-304f-4898-b076-d8223544cd10');\n",
              "          const dataTable =\n",
              "            await google.colab.kernel.invokeFunction('convertToInteractive',\n",
              "                                                     [key], {});\n",
              "          if (!dataTable) return;\n",
              "\n",
              "          const docLinkHtml = 'Like what you see? Visit the ' +\n",
              "            '<a target=\"_blank\" href=https://colab.research.google.com/notebooks/data_table.ipynb>data table notebook</a>'\n",
              "            + ' to learn more about interactive tables.';\n",
              "          element.innerHTML = '';\n",
              "          dataTable['output_type'] = 'display_data';\n",
              "          await google.colab.output.renderOutput(dataTable, element);\n",
              "          const docLink = document.createElement('div');\n",
              "          docLink.innerHTML = docLinkHtml;\n",
              "          element.appendChild(docLink);\n",
              "        }\n",
              "      </script>\n",
              "    </div>\n",
              "  </div>\n",
              "  "
            ]
          },
          "metadata": {},
          "execution_count": 14
        }
      ],
      "source": [
        "# Drop records with play_count more than(>) 5\n",
        "df_final.drop(df_final[df_final['play_count'] > 5].index, inplace = True)\n",
        "df_final.head()"
      ]
    },
    {
      "cell_type": "code",
      "execution_count": null,
      "metadata": {
        "id": "aL1JZ00o5JtQ",
        "colab": {
          "base_uri": "https://localhost:8080/"
        },
        "outputId": "1e9e783b-262d-4839-f60a-5a912524194c"
      },
      "outputs": [
        {
          "output_type": "execute_result",
          "data": {
            "text/plain": [
              "(117876, 7)"
            ]
          },
          "metadata": {},
          "execution_count": 15
        }
      ],
      "source": [
        "# Check the shape of the data\n",
        "df_final.shape\n"
      ]
    },
    {
      "cell_type": "markdown",
      "metadata": {
        "id": "uZcr1Eke2T9W"
      },
      "source": [
        "## **Exploratory Data Analysis**"
      ]
    },
    {
      "cell_type": "markdown",
      "metadata": {
        "id": "ByuHmvWDeBJI"
      },
      "source": [
        "### **Let's check the total number of unique users, songs, artists in the data**"
      ]
    },
    {
      "cell_type": "markdown",
      "metadata": {
        "id": "DE_gukSJ2T9W"
      },
      "source": [
        "Total number of unique user id"
      ]
    },
    {
      "cell_type": "code",
      "execution_count": null,
      "metadata": {
        "id": "n5E24_Ec2T9W",
        "colab": {
          "base_uri": "https://localhost:8080/"
        },
        "outputId": "7f09c7fb-8559-4f55-90b7-c978a6807728"
      },
      "outputs": [
        {
          "output_type": "execute_result",
          "data": {
            "text/plain": [
              "3155"
            ]
          },
          "metadata": {},
          "execution_count": 16
        }
      ],
      "source": [
        "# Display total number of unique user_id\n",
        "df_final['user_id'].nunique()"
      ]
    },
    {
      "cell_type": "markdown",
      "metadata": {
        "id": "wV3BOTdJII-t"
      },
      "source": [
        "Total number of unique song id"
      ]
    },
    {
      "cell_type": "code",
      "execution_count": null,
      "metadata": {
        "id": "5SlpPkIE2T9W",
        "colab": {
          "base_uri": "https://localhost:8080/"
        },
        "outputId": "e5227f76-a337-4c4a-d45a-0fb028cc6bec"
      },
      "outputs": [
        {
          "output_type": "execute_result",
          "data": {
            "text/plain": [
              "563"
            ]
          },
          "metadata": {},
          "execution_count": 17
        }
      ],
      "source": [
        "# Display total number of unique song_id\n",
        "df_final['song_id'].nunique()"
      ]
    },
    {
      "cell_type": "markdown",
      "metadata": {
        "id": "eGXPsCjXVpUW"
      },
      "source": [
        "Total number of unique artists"
      ]
    },
    {
      "cell_type": "code",
      "execution_count": null,
      "metadata": {
        "id": "qSVUwb8h2T9X",
        "colab": {
          "base_uri": "https://localhost:8080/"
        },
        "outputId": "e88bc8bc-c954-4e83-d696-4eac8573f22d"
      },
      "outputs": [
        {
          "output_type": "execute_result",
          "data": {
            "text/plain": [
              "232"
            ]
          },
          "metadata": {},
          "execution_count": 18
        }
      ],
      "source": [
        "# Display total number of unique artists\n",
        "df_final['artist_name'].nunique()"
      ]
    },
    {
      "cell_type": "markdown",
      "metadata": {
        "id": "bvk-YAo-eGGW"
      },
      "source": [
        "#### **Observations and Insights:**\n",
        "There are **563** unique songs ,**232** unique artists and **3155** unique users in the dataset.\n",
        "As per the number of unique users and songs, there is a possibility of 3155 * 563 = **1,776,265** playcounts in the dataset. But we only have **117,876** playcounts in the dataframe, i.e., not every user has listened to every song in the dataset. This creates the possibility of building a recommendation system to recommend song to the users which they have not interacted with by using collaborative filtering methods such as:\n",
        "- Similarity/Neighborhood based\n",
        "\n",
        "  - User-User Similarity Based\n",
        "  - Item-Item similarity based\n",
        "- Model based (matrix factorization)\n"
      ]
    },
    {
      "cell_type": "markdown",
      "metadata": {
        "id": "rLdIfv22ISBK"
      },
      "source": [
        "### **Let's find out about the most interacted songs and interacted users**"
      ]
    },
    {
      "cell_type": "markdown",
      "metadata": {
        "id": "W3DyN_8atsCx"
      },
      "source": [
        "Most interacted songs"
      ]
    },
    {
      "cell_type": "code",
      "execution_count": null,
      "metadata": {
        "id": "qWDrvIFF2T9X",
        "colab": {
          "base_uri": "https://localhost:8080/"
        },
        "outputId": "cc3653ee-870c-4b0a-fd53-b1a02a2a5e12"
      },
      "outputs": [
        {
          "output_type": "execute_result",
          "data": {
            "text/plain": [
              "8582    751\n",
              "352     748\n",
              "2220    713\n",
              "1118    662\n",
              "4152    652\n",
              "       ... \n",
              "9048    103\n",
              "6450    102\n",
              "990     101\n",
              "4831     97\n",
              "8324     96\n",
              "Name: song_id, Length: 563, dtype: int64"
            ]
          },
          "metadata": {},
          "execution_count": 19
        }
      ],
      "source": [
        "# Counting the number of listeners for a certain song\n",
        "df_final['song_id'].value_counts()"
      ]
    },
    {
      "cell_type": "markdown",
      "metadata": {
        "id": "nnoXCc9zIV45"
      },
      "source": [
        "Most interacted users"
      ]
    },
    {
      "cell_type": "code",
      "execution_count": null,
      "metadata": {
        "id": "971EiBdf2T9X",
        "colab": {
          "base_uri": "https://localhost:8080/"
        },
        "outputId": "8f506fdf-ca73-4fb8-c67f-dd1171852bb4"
      },
      "outputs": [
        {
          "output_type": "execute_result",
          "data": {
            "text/plain": [
              "61472    243\n",
              "15733    227\n",
              "37049    202\n",
              "9570     184\n",
              "23337    177\n",
              "        ... \n",
              "19776      1\n",
              "45476      1\n",
              "17961      1\n",
              "14439      1\n",
              "10412      1\n",
              "Name: user_id, Length: 3155, dtype: int64"
            ]
          },
          "metadata": {},
          "execution_count": 20
        }
      ],
      "source": [
        "# Counting the number of songs each user has watched\n",
        "df_final['user_id'].value_counts()"
      ]
    },
    {
      "cell_type": "markdown",
      "metadata": {
        "id": "tPZRc1e-eyyO"
      },
      "source": [
        "#### **Observations and Insights:**\n",
        "- The song **8582** has interacted **751** times with users. But still, there is a possibility of 3155- 751 = 2404 more interactions as we have 3155 unique users in our dataset. For those 2404 remaining users, we can build a recommendation system to predict who is most likely to interact with this song.\n",
        "\n",
        "- The user **61472** has interacted with the most number of songs - **243** songs.\n",
        "But still, there is a possibility of 563 - 243 = 320 more interactions as we have 563 unique songs in our dataset. For those 320 remaining songs, we can build a recommendation system to predict which songs are most likely to be listened by this user.\n"
      ]
    },
    {
      "cell_type": "markdown",
      "metadata": {
        "id": "joFF5zndX1Dk"
      },
      "source": [
        "Songs played in a year"
      ]
    },
    {
      "cell_type": "code",
      "execution_count": null,
      "metadata": {
        "colab": {
          "base_uri": "https://localhost:8080/",
          "height": 238
        },
        "outputId": "7bbf879d-fa3d-4fc7-bb7c-b870fd6f38a7",
        "id": "bQp2iVMC2T9Y"
      },
      "outputs": [
        {
          "output_type": "execute_result",
          "data": {
            "text/plain": [
              "      title\n",
              "year       \n",
              "2006   7592\n",
              "2007  13750\n",
              "2008  14031\n",
              "2009  16351\n",
              "2010   4087"
            ],
            "text/html": [
              "\n",
              "  <div id=\"df-7a48d1ef-0706-40bf-9fa3-d16b7dbb51e4\">\n",
              "    <div class=\"colab-df-container\">\n",
              "      <div>\n",
              "<style scoped>\n",
              "    .dataframe tbody tr th:only-of-type {\n",
              "        vertical-align: middle;\n",
              "    }\n",
              "\n",
              "    .dataframe tbody tr th {\n",
              "        vertical-align: top;\n",
              "    }\n",
              "\n",
              "    .dataframe thead th {\n",
              "        text-align: right;\n",
              "    }\n",
              "</style>\n",
              "<table border=\"1\" class=\"dataframe\">\n",
              "  <thead>\n",
              "    <tr style=\"text-align: right;\">\n",
              "      <th></th>\n",
              "      <th>title</th>\n",
              "    </tr>\n",
              "    <tr>\n",
              "      <th>year</th>\n",
              "      <th></th>\n",
              "    </tr>\n",
              "  </thead>\n",
              "  <tbody>\n",
              "    <tr>\n",
              "      <th>2006</th>\n",
              "      <td>7592</td>\n",
              "    </tr>\n",
              "    <tr>\n",
              "      <th>2007</th>\n",
              "      <td>13750</td>\n",
              "    </tr>\n",
              "    <tr>\n",
              "      <th>2008</th>\n",
              "      <td>14031</td>\n",
              "    </tr>\n",
              "    <tr>\n",
              "      <th>2009</th>\n",
              "      <td>16351</td>\n",
              "    </tr>\n",
              "    <tr>\n",
              "      <th>2010</th>\n",
              "      <td>4087</td>\n",
              "    </tr>\n",
              "  </tbody>\n",
              "</table>\n",
              "</div>\n",
              "      <button class=\"colab-df-convert\" onclick=\"convertToInteractive('df-7a48d1ef-0706-40bf-9fa3-d16b7dbb51e4')\"\n",
              "              title=\"Convert this dataframe to an interactive table.\"\n",
              "              style=\"display:none;\">\n",
              "        \n",
              "  <svg xmlns=\"http://www.w3.org/2000/svg\" height=\"24px\"viewBox=\"0 0 24 24\"\n",
              "       width=\"24px\">\n",
              "    <path d=\"M0 0h24v24H0V0z\" fill=\"none\"/>\n",
              "    <path d=\"M18.56 5.44l.94 2.06.94-2.06 2.06-.94-2.06-.94-.94-2.06-.94 2.06-2.06.94zm-11 1L8.5 8.5l.94-2.06 2.06-.94-2.06-.94L8.5 2.5l-.94 2.06-2.06.94zm10 10l.94 2.06.94-2.06 2.06-.94-2.06-.94-.94-2.06-.94 2.06-2.06.94z\"/><path d=\"M17.41 7.96l-1.37-1.37c-.4-.4-.92-.59-1.43-.59-.52 0-1.04.2-1.43.59L10.3 9.45l-7.72 7.72c-.78.78-.78 2.05 0 2.83L4 21.41c.39.39.9.59 1.41.59.51 0 1.02-.2 1.41-.59l7.78-7.78 2.81-2.81c.8-.78.8-2.07 0-2.86zM5.41 20L4 18.59l7.72-7.72 1.47 1.35L5.41 20z\"/>\n",
              "  </svg>\n",
              "      </button>\n",
              "      \n",
              "  <style>\n",
              "    .colab-df-container {\n",
              "      display:flex;\n",
              "      flex-wrap:wrap;\n",
              "      gap: 12px;\n",
              "    }\n",
              "\n",
              "    .colab-df-convert {\n",
              "      background-color: #E8F0FE;\n",
              "      border: none;\n",
              "      border-radius: 50%;\n",
              "      cursor: pointer;\n",
              "      display: none;\n",
              "      fill: #1967D2;\n",
              "      height: 32px;\n",
              "      padding: 0 0 0 0;\n",
              "      width: 32px;\n",
              "    }\n",
              "\n",
              "    .colab-df-convert:hover {\n",
              "      background-color: #E2EBFA;\n",
              "      box-shadow: 0px 1px 2px rgba(60, 64, 67, 0.3), 0px 1px 3px 1px rgba(60, 64, 67, 0.15);\n",
              "      fill: #174EA6;\n",
              "    }\n",
              "\n",
              "    [theme=dark] .colab-df-convert {\n",
              "      background-color: #3B4455;\n",
              "      fill: #D2E3FC;\n",
              "    }\n",
              "\n",
              "    [theme=dark] .colab-df-convert:hover {\n",
              "      background-color: #434B5C;\n",
              "      box-shadow: 0px 1px 3px 1px rgba(0, 0, 0, 0.15);\n",
              "      filter: drop-shadow(0px 1px 2px rgba(0, 0, 0, 0.3));\n",
              "      fill: #FFFFFF;\n",
              "    }\n",
              "  </style>\n",
              "\n",
              "      <script>\n",
              "        const buttonEl =\n",
              "          document.querySelector('#df-7a48d1ef-0706-40bf-9fa3-d16b7dbb51e4 button.colab-df-convert');\n",
              "        buttonEl.style.display =\n",
              "          google.colab.kernel.accessAllowed ? 'block' : 'none';\n",
              "\n",
              "        async function convertToInteractive(key) {\n",
              "          const element = document.querySelector('#df-7a48d1ef-0706-40bf-9fa3-d16b7dbb51e4');\n",
              "          const dataTable =\n",
              "            await google.colab.kernel.invokeFunction('convertToInteractive',\n",
              "                                                     [key], {});\n",
              "          if (!dataTable) return;\n",
              "\n",
              "          const docLinkHtml = 'Like what you see? Visit the ' +\n",
              "            '<a target=\"_blank\" href=https://colab.research.google.com/notebooks/data_table.ipynb>data table notebook</a>'\n",
              "            + ' to learn more about interactive tables.';\n",
              "          element.innerHTML = '';\n",
              "          dataTable['output_type'] = 'display_data';\n",
              "          await google.colab.output.renderOutput(dataTable, element);\n",
              "          const docLink = document.createElement('div');\n",
              "          docLink.innerHTML = docLinkHtml;\n",
              "          element.appendChild(docLink);\n",
              "        }\n",
              "      </script>\n",
              "    </div>\n",
              "  </div>\n",
              "  "
            ]
          },
          "metadata": {},
          "execution_count": 21
        }
      ],
      "source": [
        "count_songs = df_final.groupby('year').count()['title']\n",
        "\n",
        "count = pd.DataFrame(count_songs)\n",
        "\n",
        "count.drop(count.index[0], inplace = True)\n",
        "\n",
        "count.tail()"
      ]
    },
    {
      "cell_type": "code",
      "execution_count": null,
      "metadata": {
        "colab": {
          "base_uri": "https://localhost:8080/",
          "height": 606
        },
        "outputId": "526e1c35-838f-4973-98e5-fe01a3d576d1",
        "id": "bZCkOiAB2T9Y"
      },
      "outputs": [
        {
          "output_type": "display_data",
          "data": {
            "text/plain": [
              "<Figure size 2160x720 with 1 Axes>"
            ],
            "image/png": "[encoded data removed]"
          },
          "metadata": {
            "needs_background": "light"
          }
        }
      ],
      "source": [
        "# Create the plot\n",
        "\n",
        "# Set the figure size\n",
        "plt.figure(figsize = (30, 10))\n",
        "\n",
        "sns.barplot(x = count.index,\n",
        "            y = 'title',\n",
        "            data = count,\n",
        "            estimator = np.median)\n",
        "\n",
        "# Set the y label of the plot\n",
        "plt.ylabel('number of titles played')\n",
        "\n",
        "# Show the plot\n",
        "plt.show()"
      ]
    },
    {
      "cell_type": "markdown",
      "metadata": {
        "id": "VUcXc7ZYfaGl"
      },
      "source": [
        "#### **Observations and Insights:**\n",
        "\n",
        "The number of titles played has increased widely until 2009. The maximum number of titles played occurs for the songs released in 2009."
      ]
    },
    {
      "cell_type": "markdown",
      "source": [
        "**Think About It:** What other insights can be drawn using exploratory data analysis?\n",
        "\n",
        "We can firstly find out whether there is any song that has interacted with more than once with the same user.\n",
        "\n",
        "We can perform summary statistics on the songs so as to have an idea of the distribution."
      ],
      "metadata": {
        "id": "RtAjyDMioHCp"
      }
    },
    {
      "cell_type": "code",
      "source": [
        "\n",
        "# Finding the sum of ratings count by user-movie pair\n",
        "df_final.groupby(['user_id', 'song_id']).count()['play_count'].sum()"
      ],
      "metadata": {
        "colab": {
          "base_uri": "https://localhost:8080/"
        },
        "id": "MQMDgTD8DXg8",
        "outputId": "7f28d92c-059d-44a0-b6e4-35e0c6b2977f"
      },
      "execution_count": null,
      "outputs": [
        {
          "output_type": "execute_result",
          "data": {
            "text/plain": [
              "117876"
            ]
          },
          "metadata": {},
          "execution_count": 23
        }
      ]
    },
    {
      "cell_type": "markdown",
      "source": [
        "#### **Observations and Insights:**\n",
        "\n",
        "The sum is equal to the total number of observations, which implies that there is only one interaction between a pair of a song and a user.\n",
        "\n",
        "\n",
        "We can also investigate on the distribution of the user-song interactions in this dataset :"
      ],
      "metadata": {
        "id": "g3UzEbiEEXao"
      }
    },
    {
      "cell_type": "code",
      "source": [
        "# Finding user-song interactions distribution\n",
        "count_interactions = df_final.groupby('user_id').count()['song_id']\n",
        "count_interactions"
      ],
      "metadata": {
        "colab": {
          "base_uri": "https://localhost:8080/"
        },
        "id": "YDJS0q9X_0on",
        "outputId": "71eb5b41-aeff-4f7b-95d1-17d8f350c7b8"
      },
      "execution_count": null,
      "outputs": [
        {
          "output_type": "execute_result",
          "data": {
            "text/plain": [
              "user_id\n",
              "11        3\n",
              "17       34\n",
              "57       24\n",
              "84       42\n",
              "120       7\n",
              "         ..\n",
              "76300    37\n",
              "76307    21\n",
              "76331    19\n",
              "76342     8\n",
              "76347     1\n",
              "Name: song_id, Length: 3155, dtype: int64"
            ]
          },
          "metadata": {},
          "execution_count": 24
        }
      ]
    },
    {
      "cell_type": "markdown",
      "source": [
        "## **Proposed approach**\n",
        "**Potential techniques:** What different techniques should be explored?<br>\n",
        "We can explore the following techniques for this project:\n",
        "\n",
        "•\tRank-based (using averages);\n",
        "\n",
        "•\tUser-to-User similarity-based collaborative filtering;\n",
        "\n",
        "•\tItem-to-Item similarity-based collaborative filtering;\n",
        "\n",
        "•\tModel-based collaborative filtering (matrix factorization);\n",
        "\n",
        "•\tCluster Based Recommendation Systems; and,\n",
        "\n",
        "•\tContent Based Recommendation Systems.\n",
        "\n",
        "\n",
        "**Overall solution design:** What is the potential solution design?<br>\n",
        "1.\t*Popularity-Based Recommendation Systems*\n",
        "\n",
        "•\tTaking the count and sum of play counts of the songs and building the popularity recommendation systems based on the sum of play counts.\n",
        "\n",
        "•\tFinding the top n songs for a recommendation based on the average play count of song.\n",
        "\n",
        "2.\t*User-to-User and Item-to-Item Similarity-Based Collaborative Filtering*\n",
        "\n",
        "•\tUsing the surprise library to build this model and the other following models.\n",
        "\n",
        "•\tCreating the user-item interaction data.\n",
        "\n",
        "•\tBuilding the model by choosing a similarity-based recommendation system using cosine similarity and using KNN to find similar users which are the nearest neighbor to the given user.\n",
        "\n",
        "•\tCalculating precision@k and recall@k, RMSE and F1_Score@k to evaluate the model performance.\n",
        "\n",
        "•\tCalculating RMSE to check how far the overall predicted ratings are from the actual ratings.\n",
        "\n",
        "•\tAdjusting the hyperparameters such as k, min_k, sim_option, et cetera to adjust the model in accordance with GridSearchCV.\n",
        "\n",
        "•\tPredicting the rating with the optimized model.\n",
        "\n",
        "3.\t*Model-based collaborative filtering (matrix factorization)*\n",
        "\n",
        "It is a personalized recommendation system whereby suggestions are based on the past behavior of the user and it is not dependent on any additional information. We use latent features to find recommendations for each user. We can follow the steps presented below to build the recommendation system.\n",
        "\n",
        "•\tBuilding a baseline matrix factorization recommendation system.\n",
        "\n",
        "•\tMaking prediction for user i to song j and making a prediction for the user i who has not listened to the song j.\n",
        "\n",
        "•\tTuning the hyperparameters to optimize the model using SVD.\n",
        "\n",
        "•\tUsing the optimized model to predict.\n",
        "\n",
        "4.\t*Cluster Based Recommendation System*\n",
        "\n",
        "•\tClustering similar users together and recommend songs to a user based on playcounts from other users in the same cluster.\n",
        "\n",
        "•\tTuning the hyperparameters and using the optimized Coclustering model to make predictions.\n",
        "\n",
        "5.\t*Content Based Recommendation Systems*\n",
        "\n",
        "•\tUsing the song features such as the title, artist name, release year to make recommendations,\n",
        "we can concatenate that information into a text.\n",
        "\n",
        "•\tUsing the packages to work with text format from the nlkt library.\n",
        "\n",
        "•\tPre-processing the text data by tokenizing for example.\n",
        "\n",
        "•\tRecommending songs using text search.\n",
        "\n",
        "\n",
        "\n",
        "**Measures of success:** What are the key measures of success to compare different potential techniques?<br>\n",
        "\n",
        "\n",
        "For Similarity-Based Collaborative Filtering methods, functions such as precision@k and recall@k, RMSE and F1_Score@k are used to evaluate the model performance. The Precision@k is the fraction of recommended items that are relevant in top k predictions. Recall@k is the fraction of relevant items that are recommended to the user in top k predictions. The F1-score@k is the harmonic mean of Precision@k and Recall@k and thus, takes into account both of the parameters.\n",
        "\n",
        "It is interesting to look directly at the F1-score@k to consider both parameters. Moreover, we can change k and text different values to optimize the model. We can also change the threshold value and the test size to improve the model.\n",
        "\n",
        "Concerning the cluster-based recommendation system, we can adjust the number of nearest neighbors to vary the size of the cluster and optimize our predictions. According to the predictions made on the test set, we can choose one type of recommendation system over another.\n",
        "\n",
        "Finally, we can also combine different recommendation techniques to build hybrid recommendation systems.\n",
        "\n",
        "\n"
      ],
      "metadata": {
        "id": "uPq5Th7j5h9H"
      }
    },
    {
      "cell_type": "markdown",
      "source": [
        "**Now that we have explored the data, let's apply different algorithms to build recommendation systems.**"
      ],
      "metadata": {
        "id": "Nc52sqTVcjaC"
      }
    },
    {
      "cell_type": "markdown",
      "source": [
        "### **1.Popularity-Based Recommendation Systems**\n",
        "\n",
        "Let's take the count and sum of play counts of the songs and build the popularity recommendation systems based on the sum of play counts."
      ],
      "metadata": {
        "id": "d6gfFcGRc73H"
      }
    },
    {
      "cell_type": "code",
      "source": [
        "# Calculating average play_count\n",
        "average_count = df_final.groupby('song_id').mean()['play_count']       # Hint: Use groupby function on the song_id column\n",
        "\n",
        "# Calculating the frequency a song is played\n",
        "play_freq = df_final.groupby('song_id').count()['play_count']         # Hint: Use groupby function on the song_id column"
      ],
      "metadata": {
        "id": "oCbQ0b34drLF"
      },
      "execution_count": null,
      "outputs": []
    },
    {
      "cell_type": "code",
      "source": [
        "# Making a dataframe with the average_count and play_freq\n",
        "final_play = pd.DataFrame({'avg_count':average_count, 'play_freq':play_freq})\n",
        "\n",
        "# Let us see the first five records of the final_play dataset\n",
        "final_play.sort_values(by='play_freq', ascending=False).head()"
      ],
      "metadata": {
        "colab": {
          "base_uri": "https://localhost:8080/",
          "height": 238
        },
        "id": "Av5-lR2YdOA_",
        "outputId": "25dba642-707f-43e1-9014-3f74cdd78457"
      },
      "execution_count": null,
      "outputs": [
        {
          "output_type": "execute_result",
          "data": {
            "text/plain": [
              "         avg_count  play_freq\n",
              "song_id                      \n",
              "8582      1.948069        751\n",
              "352       2.184492        748\n",
              "2220      2.220196        713\n",
              "1118      1.817221        662\n",
              "4152      1.930982        652"
            ],
            "text/html": [
              "\n",
              "  <div id=\"df-53aeb835-5172-4a5d-9d91-b0aa4f40baf8\">\n",
              "    <div class=\"colab-df-container\">\n",
              "      <div>\n",
              "<style scoped>\n",
              "    .dataframe tbody tr th:only-of-type {\n",
              "        vertical-align: middle;\n",
              "    }\n",
              "\n",
              "    .dataframe tbody tr th {\n",
              "        vertical-align: top;\n",
              "    }\n",
              "\n",
              "    .dataframe thead th {\n",
              "        text-align: right;\n",
              "    }\n",
              "</style>\n",
              "<table border=\"1\" class=\"dataframe\">\n",
              "  <thead>\n",
              "    <tr style=\"text-align: right;\">\n",
              "      <th></th>\n",
              "      <th>avg_count</th>\n",
              "      <th>play_freq</th>\n",
              "    </tr>\n",
              "    <tr>\n",
              "      <th>song_id</th>\n",
              "      <th></th>\n",
              "      <th></th>\n",
              "    </tr>\n",
              "  </thead>\n",
              "  <tbody>\n",
              "    <tr>\n",
              "      <th>8582</th>\n",
              "      <td>1.948069</td>\n",
              "      <td>751</td>\n",
              "    </tr>\n",
              "    <tr>\n",
              "      <th>352</th>\n",
              "      <td>2.184492</td>\n",
              "      <td>748</td>\n",
              "    </tr>\n",
              "    <tr>\n",
              "      <th>2220</th>\n",
              "      <td>2.220196</td>\n",
              "      <td>713</td>\n",
              "    </tr>\n",
              "    <tr>\n",
              "      <th>1118</th>\n",
              "      <td>1.817221</td>\n",
              "      <td>662</td>\n",
              "    </tr>\n",
              "    <tr>\n",
              "      <th>4152</th>\n",
              "      <td>1.930982</td>\n",
              "      <td>652</td>\n",
              "    </tr>\n",
              "  </tbody>\n",
              "</table>\n",
              "</div>\n",
              "      <button class=\"colab-df-convert\" onclick=\"convertToInteractive('df-53aeb835-5172-4a5d-9d91-b0aa4f40baf8')\"\n",
              "              title=\"Convert this dataframe to an interactive table.\"\n",
              "              style=\"display:none;\">\n",
              "        \n",
              "  <svg xmlns=\"http://www.w3.org/2000/svg\" height=\"24px\"viewBox=\"0 0 24 24\"\n",
              "       width=\"24px\">\n",
              "    <path d=\"M0 0h24v24H0V0z\" fill=\"none\"/>\n",
              "    <path d=\"M18.56 5.44l.94 2.06.94-2.06 2.06-.94-2.06-.94-.94-2.06-.94 2.06-2.06.94zm-11 1L8.5 8.5l.94-2.06 2.06-.94-2.06-.94L8.5 2.5l-.94 2.06-2.06.94zm10 10l.94 2.06.94-2.06 2.06-.94-2.06-.94-.94-2.06-.94 2.06-2.06.94z\"/><path d=\"M17.41 7.96l-1.37-1.37c-.4-.4-.92-.59-1.43-.59-.52 0-1.04.2-1.43.59L10.3 9.45l-7.72 7.72c-.78.78-.78 2.05 0 2.83L4 21.41c.39.39.9.59 1.41.59.51 0 1.02-.2 1.41-.59l7.78-7.78 2.81-2.81c.8-.78.8-2.07 0-2.86zM5.41 20L4 18.59l7.72-7.72 1.47 1.35L5.41 20z\"/>\n",
              "  </svg>\n",
              "      </button>\n",
              "      \n",
              "  <style>\n",
              "    .colab-df-container {\n",
              "      display:flex;\n",
              "      flex-wrap:wrap;\n",
              "      gap: 12px;\n",
              "    }\n",
              "\n",
              "    .colab-df-convert {\n",
              "      background-color: #E8F0FE;\n",
              "      border: none;\n",
              "      border-radius: 50%;\n",
              "      cursor: pointer;\n",
              "      display: none;\n",
              "      fill: #1967D2;\n",
              "      height: 32px;\n",
              "      padding: 0 0 0 0;\n",
              "      width: 32px;\n",
              "    }\n",
              "\n",
              "    .colab-df-convert:hover {\n",
              "      background-color: #E2EBFA;\n",
              "      box-shadow: 0px 1px 2px rgba(60, 64, 67, 0.3), 0px 1px 3px 1px rgba(60, 64, 67, 0.15);\n",
              "      fill: #174EA6;\n",
              "    }\n",
              "\n",
              "    [theme=dark] .colab-df-convert {\n",
              "      background-color: #3B4455;\n",
              "      fill: #D2E3FC;\n",
              "    }\n",
              "\n",
              "    [theme=dark] .colab-df-convert:hover {\n",
              "      background-color: #434B5C;\n",
              "      box-shadow: 0px 1px 3px 1px rgba(0, 0, 0, 0.15);\n",
              "      filter: drop-shadow(0px 1px 2px rgba(0, 0, 0, 0.3));\n",
              "      fill: #FFFFFF;\n",
              "    }\n",
              "  </style>\n",
              "\n",
              "      <script>\n",
              "        const buttonEl =\n",
              "          document.querySelector('#df-53aeb835-5172-4a5d-9d91-b0aa4f40baf8 button.colab-df-convert');\n",
              "        buttonEl.style.display =\n",
              "          google.colab.kernel.accessAllowed ? 'block' : 'none';\n",
              "\n",
              "        async function convertToInteractive(key) {\n",
              "          const element = document.querySelector('#df-53aeb835-5172-4a5d-9d91-b0aa4f40baf8');\n",
              "          const dataTable =\n",
              "            await google.colab.kernel.invokeFunction('convertToInteractive',\n",
              "                                                     [key], {});\n",
              "          if (!dataTable) return;\n",
              "\n",
              "          const docLinkHtml = 'Like what you see? Visit the ' +\n",
              "            '<a target=\"_blank\" href=https://colab.research.google.com/notebooks/data_table.ipynb>data table notebook</a>'\n",
              "            + ' to learn more about interactive tables.';\n",
              "          element.innerHTML = '';\n",
              "          dataTable['output_type'] = 'display_data';\n",
              "          await google.colab.output.renderOutput(dataTable, element);\n",
              "          const docLink = document.createElement('div');\n",
              "          docLink.innerHTML = docLinkHtml;\n",
              "          element.appendChild(docLink);\n",
              "        }\n",
              "      </script>\n",
              "    </div>\n",
              "  </div>\n",
              "  "
            ]
          },
          "metadata": {},
          "execution_count": 27
        }
      ]
    },
    {
      "cell_type": "markdown",
      "source": [
        "Now, let's create a function to find the top n songs for a recommendation based on the average play count of song. We can also add a threshold for a minimum number of playcounts for a song to be considered for recommendation."
      ],
      "metadata": {
        "id": "S0bI4XoudUEn"
      }
    },
    {
      "cell_type": "code",
      "source": [
        "# Build the function to find top n songs\n",
        "def top_n_songs (data,n,min_interaction=100):\n",
        "\n",
        "    # Finding songs with interactions greater than the minimum number of interactions\n",
        "    recommendations = data[data['play_freq'] > min_interaction]\n",
        "\n",
        "    # Sorting values with respect to the average play count\n",
        "    recommendations = recommendations.sort_values(by = 'avg_count', ascending = False)\n",
        "\n",
        "    return recommendations.index[:n]"
      ],
      "metadata": {
        "id": "z97RqBo3dWuG"
      },
      "execution_count": null,
      "outputs": []
    },
    {
      "cell_type": "code",
      "source": [
        "# Recommend top 10 songs using the function defined above\n",
        "list(top_n_songs(final_play,10,100))"
      ],
      "metadata": {
        "colab": {
          "base_uri": "https://localhost:8080/"
        },
        "id": "L8j40Zp1deMM",
        "outputId": "748b5c5e-e7bf-4b88-f739-0d6bf86f3b10"
      },
      "execution_count": null,
      "outputs": [
        {
          "output_type": "execute_result",
          "data": {
            "text/plain": [
              "[7224, 6450, 9942, 5531, 5653, 8483, 2220, 657, 614, 352]"
            ]
          },
          "metadata": {},
          "execution_count": 31
        }
      ]
    },
    {
      "cell_type": "markdown",
      "source": [
        "### **2.User User Similarity-Based Collaborative Filtering**\n",
        "\n",
        "To build the user-user-similarity-based and subsequent models we will use the \"surprise\" library.\n"
      ],
      "metadata": {
        "id": "3Flf8k51dmfh"
      }
    },
    {
      "cell_type": "code",
      "source": [
        "# Install the surprise package using pip. Uncomment and run the below code to do the same\n",
        "!pip install surprise"
      ],
      "metadata": {
        "colab": {
          "base_uri": "https://localhost:8080/"
        },
        "id": "rJG-LgZ8dwMx",
        "outputId": "b99ccdfc-e9ac-4520-9c39-bf8c21129c86"
      },
      "execution_count": null,
      "outputs": [
        {
          "output_type": "stream",
          "name": "stdout",
          "text": [
            "Looking in indexes: https://pypi.org/simple, https://us-python.pkg.dev/colab-wheels/public/simple/\n",
            "Collecting surprise\n",
            "  Downloading surprise-0.1-py2.py3-none-any.whl (1.8 kB)\n",
            "Collecting scikit-surprise\n",
            "  Downloading scikit-surprise-1.1.3.tar.gz (771 kB)\n",
            "\u001b[K     |████████████████████████████████| 771 kB 4.1 MB/s \n",
            "\u001b[?25hRequirement already satisfied: joblib>=1.0.0 in /usr/local/lib/python3.8/dist-packages (from scikit-surprise->surprise) (1.2.0)\n",
            "Requirement already satisfied: numpy>=1.17.3 in /usr/local/lib/python3.8/dist-packages (from scikit-surprise->surprise) (1.21.6)\n",
            "Requirement already satisfied: scipy>=1.3.2 in /usr/local/lib/python3.8/dist-packages (from scikit-surprise->surprise) (1.7.3)\n",
            "Building wheels for collected packages: scikit-surprise\n",
            "  Building wheel for scikit-surprise (setup.py) ... \u001b[?25l\u001b[?25hdone\n",
            "  Created wheel for scikit-surprise: filename=scikit_surprise-1.1.3-cp38-cp38-linux_x86_64.whl size=2626488 sha256=60bbfb19e257d35430bccd9084adc046e77414ebeeb14a09da358739995670a6\n",
            "  Stored in directory: /root/.cache/pip/wheels/af/db/86/2c18183a80ba05da35bf0fb7417aac5cddbd93bcb1b92fd3ea\n",
            "Successfully built scikit-surprise\n",
            "Installing collected packages: scikit-surprise, surprise\n",
            "Successfully installed scikit-surprise-1.1.3 surprise-0.1\n"
          ]
        }
      ]
    },
    {
      "cell_type": "code",
      "source": [
        "# Import necessary libraries\n",
        "\n",
        "# To compute the accuracy of models\n",
        "from surprise import accuracy\n",
        "\n",
        "# This class is used to parse a file containing play_counts, data should be in structure - user; item; play_count\n",
        "from surprise.reader import Reader\n",
        "\n",
        "# Class for loading datasets\n",
        "from surprise.dataset import Dataset\n",
        "\n",
        "# For tuning model hyperparameters\n",
        "from surprise.model_selection import GridSearchCV\n",
        "\n",
        "# For splitting the data in train and test dataset\n",
        "from surprise.model_selection import train_test_split\n",
        "\n",
        "# For implementing similarity-based recommendation system\n",
        "from surprise.prediction_algorithms.knns import KNNBasic\n",
        "\n",
        "# For implementing matrix factorization based recommendation system\n",
        "from surprise.prediction_algorithms.matrix_factorization import SVD\n",
        "\n",
        "# For implementing KFold cross-validation\n",
        "from surprise.model_selection import KFold\n",
        "\n",
        "# For implementing clustering-based recommendation system\n",
        "from surprise import CoClustering"
      ],
      "metadata": {
        "id": "G71JHD35d-Wq"
      },
      "execution_count": null,
      "outputs": []
    },
    {
      "cell_type": "markdown",
      "source": [
        "### Some useful functions\n",
        "\n",
        "Below is the function to calculate precision@k and recall@k, RMSE and F1_Score@k to evaluate the model performance.\n",
        "\n",
        "**Think About It:** Which metric should be used for this problem to compare different models?\n",
        "\n",
        "To compare different models, we can use the RMSE and the F1_Score@k since it takes into account both the precision and the recall of the model. To optimize the model, we would like to minimize the RMSE and increase the F1_Score@k.\n"
      ],
      "metadata": {
        "id": "Ten5vVNBeGRW"
      }
    },
    {
      "cell_type": "code",
      "source": [
        "# The function to calulate the RMSE, precision@k, recall@k, and F_1 score\n",
        "def precision_recall_at_k(model, k = 30, threshold = 1.5):\n",
        "    \"\"\"Return precision and recall at k metrics for each user\"\"\"\n",
        "\n",
        "    # First map the predictions to each user.\n",
        "    user_est_true = defaultdict(list)\n",
        "\n",
        "    # Making predictions on the test data\n",
        "    predictions=model.test(testset)\n",
        "\n",
        "    for uid, _, true_r, est, _ in predictions:\n",
        "        user_est_true[uid].append((est, true_r))\n",
        "\n",
        "    precisions = dict()\n",
        "    recalls = dict()\n",
        "    for uid, user_ratings in user_est_true.items():\n",
        "\n",
        "        # Sort user ratings by estimated value\n",
        "        user_ratings.sort(key = lambda x : x[0], reverse = True)\n",
        "\n",
        "        # Number of relevant items\n",
        "        n_rel = sum((true_r >= threshold) for (_, true_r) in user_ratings)\n",
        "\n",
        "        # Number of recommended items in top k\n",
        "        n_rec_k = sum((est >= threshold) for (est, _) in user_ratings[ : k])\n",
        "\n",
        "        # Number of relevant and recommended items in top k\n",
        "        n_rel_and_rec_k = sum(((true_r >= threshold) and (est >= threshold))\n",
        "                              for (est, true_r) in user_ratings[ : k])\n",
        "\n",
        "        # Precision@K: Proportion of recommended items that are relevant\n",
        "        # When n_rec_k is 0, Precision is undefined. We here set Precision to 0 when n_rec_k is 0\n",
        "\n",
        "        precisions[uid] = n_rel_and_rec_k / n_rec_k if n_rec_k != 0 else 0\n",
        "\n",
        "        # Recall@K: Proportion of relevant items that are recommended\n",
        "        # When n_rel is 0, Recall is undefined. We here set Recall to 0 when n_rel is 0\n",
        "\n",
        "        recalls[uid] = n_rel_and_rec_k / n_rel if n_rel != 0 else 0\n",
        "\n",
        "    # Mean of all the predicted precisions are calculated\n",
        "    precision = round((sum(prec for prec in precisions.values()) / len(precisions)), 3)\n",
        "\n",
        "    # Mean of all the predicted recalls are calculated\n",
        "    recall = round((sum(rec for rec in recalls.values()) / len(recalls)), 3)\n",
        "\n",
        "    accuracy.rmse(predictions)\n",
        "\n",
        "    # Command to print the overall precision\n",
        "    print('Precision: ', precision)\n",
        "\n",
        "    # Command to print the overall recall\n",
        "    print('Recall: ', recall)\n",
        "\n",
        "    # Formula to compute the F-1 score\n",
        "    print('F_1 score: ', round((2 * precision * recall) / (precision + recall), 3))"
      ],
      "metadata": {
        "id": "xwwgjTBMeVRj"
      },
      "execution_count": null,
      "outputs": []
    },
    {
      "cell_type": "markdown",
      "source": [
        "**Think About It:** In the function precision_recall_at_k above the threshold value used is 1.5. How precision and recall are affected by changing the threshold? What is the intuition behind using the threshold value of 1.5?\n",
        "\n",
        "The higher the threshold, the higher the precision, but the lower the recall. The ideal threshold setting is the highest possible recall and precision rate which implies making a smart compromise by finding a value which optimizes the F1_Score@k."
      ],
      "metadata": {
        "id": "17WCRsmee69U"
      }
    },
    {
      "cell_type": "code",
      "source": [
        "# Instantiating Reader scale with expected rating scale\n",
        "reader = Reader(rating_scale=(0,5)) #use rating scale (0, 5)\n",
        "\n",
        "# Loading the dataset\n",
        "data = Dataset.load_from_df(df_final[['user_id', 'song_id', 'play_count']], reader) # Take only \"user_id\",\"song_id\", and \"play_count\"\n",
        "\n",
        "# Splitting the data into train and test dataset\n",
        "trainset, testset = train_test_split(data, test_size=0.4, random_state = 42) # Take test_size = 0.4"
      ],
      "metadata": {
        "id": "PXqmd3Yle-UN"
      },
      "execution_count": null,
      "outputs": []
    },
    {
      "cell_type": "markdown",
      "source": [
        "**Think About It:** How changing the test size would change the results and outputs?\n",
        "\n",
        "Decreasing the test size implies that the training data has been increased and the fit will be improved, however, overfitting might occur and one must be careful when choosing the training size and testing size of the data set. Ideally, we should train our model with enough data to find a fit that will work well also on our test data."
      ],
      "metadata": {
        "id": "0bp0b7emfEia"
      }
    },
    {
      "cell_type": "code",
      "source": [
        "# Build the default user-user-similarity model\n",
        "sim_options = {'name': 'cosine',\n",
        "               'user_based':True}\n",
        "\n",
        "# KNN algorithm is used to find desired similar items\n",
        "sim_user_user = KNNBasic(sim_options = sim_options, verbose = False, random_state = 1) # Use random_state = 1\n",
        "\n",
        "# Train the algorithm on the trainset, and predict play_count for the testset\n",
        "sim_user_user.fit(trainset)\n",
        "\n",
        "# Let us compute precision@k, recall@k, and f_1 score with k = 30\n",
        "precision_recall_at_k(sim_user_user,k=30) # Use sim_user_user model"
      ],
      "metadata": {
        "colab": {
          "base_uri": "https://localhost:8080/"
        },
        "id": "ZLodBBmOfW29",
        "outputId": "1a7f9217-1da8-4678-e387-65325b975067"
      },
      "execution_count": null,
      "outputs": [
        {
          "output_type": "stream",
          "name": "stdout",
          "text": [
            "RMSE: 1.0878\n",
            "Precision:  0.396\n",
            "Recall:  0.692\n",
            "F_1 score:  0.504\n"
          ]
        }
      ]
    },
    {
      "cell_type": "markdown",
      "source": [
        "**Observations and Insights:**\n",
        "- We have calculated RMSE  of 1.0878 to check how far the overall predicted ratings are from the actual ratings.\n",
        "- We are getting a recall of ~0.692, which means out of all the relevant songs 69,2% are recommended.\n",
        "- We are getting a precision of ~ 0.39,6, which means out of all the recommended songs 39,2% are relevant.\n",
        "- The F_1 score of the baseline model is ~0.504. We will try to improve this later by using GridSearchCV by tuning different hyperparameters of this algorithm."
      ],
      "metadata": {
        "id": "YTi7u-DSfrzr"
      }
    },
    {
      "cell_type": "code",
      "source": [
        "# Predicting play_count for a sample user with a listened song\n",
        "sim_user_user.predict(6958, 1671, r_ui = 2, verbose = True) # Use user id 6958 and song_id 1671"
      ],
      "metadata": {
        "colab": {
          "base_uri": "https://localhost:8080/"
        },
        "id": "_fiMy_hZfveB",
        "outputId": "4869bbbe-38c7-448f-9d29-14e546daa713"
      },
      "execution_count": null,
      "outputs": [
        {
          "output_type": "stream",
          "name": "stdout",
          "text": [
            "user: 6958       item: 1671       r_ui = 2.00   est = 1.80   {'actual_k': 40, 'was_impossible': False}\n"
          ]
        },
        {
          "output_type": "execute_result",
          "data": {
            "text/plain": [
              "Prediction(uid=6958, iid=1671, r_ui=2, est=1.8009387435128914, details={'actual_k': 40, 'was_impossible': False})"
            ]
          },
          "metadata": {},
          "execution_count": 38
        }
      ]
    },
    {
      "cell_type": "code",
      "source": [
        "# Predicting play_count for a sample user with a song not-listened by the user\n",
        "sim_user_user.predict(6958,3232, verbose = True) # Use user_id 6958 and song_id 3232"
      ],
      "metadata": {
        "colab": {
          "base_uri": "https://localhost:8080/"
        },
        "id": "RleZmuasf0kq",
        "outputId": "bd750c9f-8850-4108-d2e7-90ce36c6e272"
      },
      "execution_count": null,
      "outputs": [
        {
          "output_type": "stream",
          "name": "stdout",
          "text": [
            "user: 6958       item: 3232       r_ui = None   est = 1.64   {'actual_k': 40, 'was_impossible': False}\n"
          ]
        },
        {
          "output_type": "execute_result",
          "data": {
            "text/plain": [
              "Prediction(uid=6958, iid=3232, r_ui=None, est=1.6386860897998294, details={'actual_k': 40, 'was_impossible': False})"
            ]
          },
          "metadata": {},
          "execution_count": 39
        }
      ]
    },
    {
      "cell_type": "markdown",
      "source": [
        "**Observations and Insights:**\n",
        "\n",
        "The above output shows that the actual play_count of 2 is not so far from the predicted count of 1.80 for this user-item pair by this user-user-similarity-based baseline model.\n",
        "\n",
        "The output also contains \"actual_k\". It is the value of K in KNN that is used while training the model. The default value is 40.\n",
        "\n",
        "We have also predicted the play_count of 1.64 for the song 3232 for this user-item pair based on this user-user similarity-based baseline model.\n",
        "\n",
        "Now, let's try to tune the model and see if we can improve the model performance."
      ],
      "metadata": {
        "id": "C7eSzEWAgH_B"
      }
    },
    {
      "cell_type": "code",
      "source": [
        "# Setting up parameter grid to tune the hyperparameters\n",
        "param_grid = {'k': [30, 40, 50], 'min_k': [3, 6, 9],\n",
        "              'sim_options': {'name': ['msd', 'cosine'],\n",
        "                              'user_based': [True]}\n",
        "              }\n",
        "\n",
        "# Performing 3-Fold cross-validation to tune the hyperparameters\n",
        "gs = GridSearchCV(KNNBasic, param_grid, measures = ['rmse'], cv = 3, n_jobs = -1)\n",
        "\n",
        "# Fitting the model on data\n",
        "gs.fit(data)\n",
        "\n",
        "# Printing the best RMSE score\n",
        "print(gs.best_score['rmse'])\n",
        "\n",
        "# Printing the combination of parameters that gave the best RMSE score\n",
        "print(gs.best_params['rmse'])"
      ],
      "metadata": {
        "colab": {
          "base_uri": "https://localhost:8080/"
        },
        "id": "7qFsPW2fggmR",
        "outputId": "75ef74cb-080c-46ee-8055-711e1066bfe5"
      },
      "execution_count": null,
      "outputs": [
        {
          "output_type": "stream",
          "name": "stdout",
          "text": [
            "1.0568895824124613\n",
            "{'k': 50, 'min_k': 6, 'sim_options': {'name': 'msd', 'user_based': True}}\n"
          ]
        }
      ]
    },
    {
      "cell_type": "code",
      "source": [
        "# Train the best model found in above gridsearch\n",
        "# Using the optimal similarity measure for user-user collaborative filtering\n",
        "sim_options = {'name': 'msd',\n",
        "               'user_based': True}\n",
        "\n",
        "# Creating an instance of KNNBasic with optimal hyperparameter values\n",
        "sim_user_user_optimized = KNNBasic(sim_options = sim_options, k = 50, min_k = 9, random_state = 1, verbose = False)\n",
        "\n",
        "# Training the algorithm on the train set\n",
        "sim_user_user_optimized.fit(trainset)\n",
        "\n",
        "# Let us compute precision@k, recall@k, and F_1 score with k = 10\n",
        "precision_recall_at_k(sim_user_user_optimized, k=10)"
      ],
      "metadata": {
        "colab": {
          "base_uri": "https://localhost:8080/"
        },
        "id": "d1oW0K3qhGHT",
        "outputId": "c885b5be-d61f-4424-e343-ab0d39655922"
      },
      "execution_count": null,
      "outputs": [
        {
          "output_type": "stream",
          "name": "stdout",
          "text": [
            "RMSE: 1.0596\n",
            "Precision:  0.424\n",
            "Recall:  0.559\n",
            "F_1 score:  0.482\n"
          ]
        }
      ]
    },
    {
      "cell_type": "markdown",
      "source": [
        "**Observations and Insights:**\n",
        "\n",
        "Once the grid search is complete, we can get the optimal values for each of those hyperparameters.\n",
        "\n",
        "We can see from above that after tuning hyperparameters, F_1 score of the tuned model has decreased slightly in comparison to the baseline model. However, along with this, the RMSE of the model has decreased slightly as compared to the model before hyperparameter tuning. Hence, we can say that the model performance has improved slightly after hyperparameter tuning."
      ],
      "metadata": {
        "id": "Nv7p8cAphKae"
      }
    },
    {
      "cell_type": "code",
      "source": [
        "# Predict the play count for a user who has listened to the song. Take user_id 6958, song_id 1671 and r_ui = 2\n",
        "sim_user_user_optimized.predict(6958,1671, r_ui = 2, verbose = True)"
      ],
      "metadata": {
        "colab": {
          "base_uri": "https://localhost:8080/"
        },
        "id": "3lx8_mG7hQkD",
        "outputId": "f6d7b560-d80e-44cc-bacd-91c2ff9057f8"
      },
      "execution_count": null,
      "outputs": [
        {
          "output_type": "stream",
          "name": "stdout",
          "text": [
            "user: 6958       item: 1671       r_ui = 2.00   est = 1.53   {'actual_k': 50, 'was_impossible': False}\n"
          ]
        },
        {
          "output_type": "execute_result",
          "data": {
            "text/plain": [
              "Prediction(uid=6958, iid=1671, r_ui=2, est=1.5325739475720954, details={'actual_k': 50, 'was_impossible': False})"
            ]
          },
          "metadata": {},
          "execution_count": 42
        }
      ]
    },
    {
      "cell_type": "code",
      "source": [
        "# Predict the play count for a song that is not listened to by the user (with user_id 6958)\n",
        "sim_user_user_optimized.predict(6958, 3232, verbose = True)"
      ],
      "metadata": {
        "colab": {
          "base_uri": "https://localhost:8080/"
        },
        "id": "abxad7MjhXak",
        "outputId": "d987537d-9433-4417-9e89-2992ec41f39e"
      },
      "execution_count": null,
      "outputs": [
        {
          "output_type": "stream",
          "name": "stdout",
          "text": [
            "user: 6958       item: 3232       r_ui = None   est = 1.44   {'actual_k': 45, 'was_impossible': False}\n"
          ]
        },
        {
          "output_type": "execute_result",
          "data": {
            "text/plain": [
              "Prediction(uid=6958, iid=3232, r_ui=None, est=1.4402638185911276, details={'actual_k': 45, 'was_impossible': False})"
            ]
          },
          "metadata": {},
          "execution_count": 43
        }
      ]
    },
    {
      "cell_type": "markdown",
      "source": [
        "**Observations and Insights:**\n",
        "\n",
        "If we compare the predicted play count with the actual play count, we can say that the predicted count by the tuned model is not closer to the actual play count in comparison to the prediction by the baseline model. **The baseline model of the user-user collaborative filtering gave better results.**\n",
        "\n",
        "**Think About It:** Along with making predictions on listened and unknown songs can we get 5 nearest neighbors (most similar) to a certain song?\n",
        "\n",
        "We can also find out similar users to a given user or its nearest neighbors based on this KNNBasic algorithm. Below, we are finding the 5 most similar users based on the msd distance metric."
      ],
      "metadata": {
        "id": "-SznJGoHhbxA"
      }
    },
    {
      "cell_type": "code",
      "source": [
        "# Use inner id 0\n",
        "sim_user_user_optimized.get_neighbors(0, k = 5)"
      ],
      "metadata": {
        "colab": {
          "base_uri": "https://localhost:8080/"
        },
        "id": "is5F5bWKhyT-",
        "outputId": "88dbba47-e3de-4731-9bac-aa2ce2065858"
      },
      "execution_count": null,
      "outputs": [
        {
          "output_type": "execute_result",
          "data": {
            "text/plain": [
              "[31, 82, 90, 116, 125]"
            ]
          },
          "metadata": {},
          "execution_count": 44
        }
      ]
    },
    {
      "cell_type": "markdown",
      "source": [
        "Below we will be implementing a function where the input parameters are:\n",
        "\n",
        "- data: A **song** dataset\n",
        "- user_id: A user-id **against which we want the recommendations**\n",
        "- top_n: The **number of songs we want to recommend**\n",
        "- algo: The algorithm we want to use **for predicting the play_count**\n",
        "- The output of the function is a **set of top_n items** recommended for the given user_id based on the given algorithm"
      ],
      "metadata": {
        "id": "tfgbfyrfyLZL"
      }
    },
    {
      "cell_type": "code",
      "source": [
        "def get_recommendations(data, user_id, top_n, algo):\n",
        "\n",
        "    # Creating an empty list to store the recommended product ids\n",
        "    recommendations = []\n",
        "\n",
        "    # Creating an user item interactions matrix\n",
        "    user_item_interactions_matrix = data.pivot_table(index = 'user_id', columns = 'song_id', values = 'play_count')\n",
        "\n",
        "    # Extracting those business ids which the user_id has not visited yet\n",
        "    non_interacted_products = user_item_interactions_matrix.loc[user_id][user_item_interactions_matrix.loc[user_id].isnull()].index.tolist()\n",
        "\n",
        "    # Looping through each of the business ids which user_id has not interacted yet\n",
        "    for item_id in non_interacted_products:\n",
        "\n",
        "        # Predicting the ratings for those non visited restaurant ids by this user\n",
        "        est = algo.predict(user_id, item_id).est\n",
        "\n",
        "        # Appending the predicted ratings\n",
        "        recommendations.append((item_id, est))\n",
        "\n",
        "    # Sorting the predicted ratings in descending order\n",
        "    recommendations.sort(key = lambda x : x[1], reverse = True)\n",
        "\n",
        "    return recommendations[:top_n] # Returing top n highest predicted rating products for this user"
      ],
      "metadata": {
        "id": "x0OXtCUciIRo"
      },
      "execution_count": null,
      "outputs": []
    },
    {
      "cell_type": "code",
      "source": [
        "# Make top 5 recommendations for user_id 6958 with a similarity-based recommendation engine\n",
        "recommendations =get_recommendations(df_final, 6958, 5, sim_user_user_optimized)"
      ],
      "metadata": {
        "id": "yXdmQzd4iVoP"
      },
      "execution_count": null,
      "outputs": []
    },
    {
      "cell_type": "code",
      "source": [
        "# Building the dataframe for above recommendations with columns \"song_id\" and \"predicted_ratings\"\n",
        "pd.DataFrame(recommendations, columns = ['song_id', 'predicted_ratings'])"
      ],
      "metadata": {
        "colab": {
          "base_uri": "https://localhost:8080/",
          "height": 206
        },
        "id": "FR_OPr-qiZeR",
        "outputId": "a232346e-5fed-4863-b132-cbcb165f956d"
      },
      "execution_count": null,
      "outputs": [
        {
          "output_type": "execute_result",
          "data": {
            "text/plain": [
              "   song_id  predicted_ratings\n",
              "0     7224           2.935235\n",
              "1     6450           2.668720\n",
              "2     8324           2.467205\n",
              "3     6448           2.386082\n",
              "4     4831           2.348859"
            ],
            "text/html": [
              "\n",
              "  <div id=\"df-adae87ec-7692-44c2-95d0-cc06de6212e9\">\n",
              "    <div class=\"colab-df-container\">\n",
              "      <div>\n",
              "<style scoped>\n",
              "    .dataframe tbody tr th:only-of-type {\n",
              "        vertical-align: middle;\n",
              "    }\n",
              "\n",
              "    .dataframe tbody tr th {\n",
              "        vertical-align: top;\n",
              "    }\n",
              "\n",
              "    .dataframe thead th {\n",
              "        text-align: right;\n",
              "    }\n",
              "</style>\n",
              "<table border=\"1\" class=\"dataframe\">\n",
              "  <thead>\n",
              "    <tr style=\"text-align: right;\">\n",
              "      <th></th>\n",
              "      <th>song_id</th>\n",
              "      <th>predicted_ratings</th>\n",
              "    </tr>\n",
              "  </thead>\n",
              "  <tbody>\n",
              "    <tr>\n",
              "      <th>0</th>\n",
              "      <td>7224</td>\n",
              "      <td>2.935235</td>\n",
              "    </tr>\n",
              "    <tr>\n",
              "      <th>1</th>\n",
              "      <td>6450</td>\n",
              "      <td>2.668720</td>\n",
              "    </tr>\n",
              "    <tr>\n",
              "      <th>2</th>\n",
              "      <td>8324</td>\n",
              "      <td>2.467205</td>\n",
              "    </tr>\n",
              "    <tr>\n",
              "      <th>3</th>\n",
              "      <td>6448</td>\n",
              "      <td>2.386082</td>\n",
              "    </tr>\n",
              "    <tr>\n",
              "      <th>4</th>\n",
              "      <td>4831</td>\n",
              "      <td>2.348859</td>\n",
              "    </tr>\n",
              "  </tbody>\n",
              "</table>\n",
              "</div>\n",
              "      <button class=\"colab-df-convert\" onclick=\"convertToInteractive('df-adae87ec-7692-44c2-95d0-cc06de6212e9')\"\n",
              "              title=\"Convert this dataframe to an interactive table.\"\n",
              "              style=\"display:none;\">\n",
              "        \n",
              "  <svg xmlns=\"http://www.w3.org/2000/svg\" height=\"24px\"viewBox=\"0 0 24 24\"\n",
              "       width=\"24px\">\n",
              "    <path d=\"M0 0h24v24H0V0z\" fill=\"none\"/>\n",
              "    <path d=\"M18.56 5.44l.94 2.06.94-2.06 2.06-.94-2.06-.94-.94-2.06-.94 2.06-2.06.94zm-11 1L8.5 8.5l.94-2.06 2.06-.94-2.06-.94L8.5 2.5l-.94 2.06-2.06.94zm10 10l.94 2.06.94-2.06 2.06-.94-2.06-.94-.94-2.06-.94 2.06-2.06.94z\"/><path d=\"M17.41 7.96l-1.37-1.37c-.4-.4-.92-.59-1.43-.59-.52 0-1.04.2-1.43.59L10.3 9.45l-7.72 7.72c-.78.78-.78 2.05 0 2.83L4 21.41c.39.39.9.59 1.41.59.51 0 1.02-.2 1.41-.59l7.78-7.78 2.81-2.81c.8-.78.8-2.07 0-2.86zM5.41 20L4 18.59l7.72-7.72 1.47 1.35L5.41 20z\"/>\n",
              "  </svg>\n",
              "      </button>\n",
              "      \n",
              "  <style>\n",
              "    .colab-df-container {\n",
              "      display:flex;\n",
              "      flex-wrap:wrap;\n",
              "      gap: 12px;\n",
              "    }\n",
              "\n",
              "    .colab-df-convert {\n",
              "      background-color: #E8F0FE;\n",
              "      border: none;\n",
              "      border-radius: 50%;\n",
              "      cursor: pointer;\n",
              "      display: none;\n",
              "      fill: #1967D2;\n",
              "      height: 32px;\n",
              "      padding: 0 0 0 0;\n",
              "      width: 32px;\n",
              "    }\n",
              "\n",
              "    .colab-df-convert:hover {\n",
              "      background-color: #E2EBFA;\n",
              "      box-shadow: 0px 1px 2px rgba(60, 64, 67, 0.3), 0px 1px 3px 1px rgba(60, 64, 67, 0.15);\n",
              "      fill: #174EA6;\n",
              "    }\n",
              "\n",
              "    [theme=dark] .colab-df-convert {\n",
              "      background-color: #3B4455;\n",
              "      fill: #D2E3FC;\n",
              "    }\n",
              "\n",
              "    [theme=dark] .colab-df-convert:hover {\n",
              "      background-color: #434B5C;\n",
              "      box-shadow: 0px 1px 3px 1px rgba(0, 0, 0, 0.15);\n",
              "      filter: drop-shadow(0px 1px 2px rgba(0, 0, 0, 0.3));\n",
              "      fill: #FFFFFF;\n",
              "    }\n",
              "  </style>\n",
              "\n",
              "      <script>\n",
              "        const buttonEl =\n",
              "          document.querySelector('#df-adae87ec-7692-44c2-95d0-cc06de6212e9 button.colab-df-convert');\n",
              "        buttonEl.style.display =\n",
              "          google.colab.kernel.accessAllowed ? 'block' : 'none';\n",
              "\n",
              "        async function convertToInteractive(key) {\n",
              "          const element = document.querySelector('#df-adae87ec-7692-44c2-95d0-cc06de6212e9');\n",
              "          const dataTable =\n",
              "            await google.colab.kernel.invokeFunction('convertToInteractive',\n",
              "                                                     [key], {});\n",
              "          if (!dataTable) return;\n",
              "\n",
              "          const docLinkHtml = 'Like what you see? Visit the ' +\n",
              "            '<a target=\"_blank\" href=https://colab.research.google.com/notebooks/data_table.ipynb>data table notebook</a>'\n",
              "            + ' to learn more about interactive tables.';\n",
              "          element.innerHTML = '';\n",
              "          dataTable['output_type'] = 'display_data';\n",
              "          await google.colab.output.renderOutput(dataTable, element);\n",
              "          const docLink = document.createElement('div');\n",
              "          docLink.innerHTML = docLinkHtml;\n",
              "          element.appendChild(docLink);\n",
              "        }\n",
              "      </script>\n",
              "    </div>\n",
              "  </div>\n",
              "  "
            ]
          },
          "metadata": {},
          "execution_count": 47
        }
      ]
    },
    {
      "cell_type": "markdown",
      "source": [
        "**Observations and Insights:**\n",
        "\n",
        "\n",
        "While comparing the play counts of two songs, it is not only the play counts that describe the likelihood of the user to interact with that song. Along with the play counts, the number of users who have listened to that particular song also become important to consider. Due to this, we have calculated the \"corrected_ratings\" for each song. Generally, higher the \"play_count\" of a song, more reliable the \"rating\" is.\n",
        "\n",
        "\n",
        "### Correcting the play_counts and Ranking the above songs"
      ],
      "metadata": {
        "id": "Xcb9MqIjid_4"
      }
    },
    {
      "cell_type": "code",
      "source": [
        "def ranking_songs(recommendations, final_rating):\n",
        "  # Sort the songs based on play counts\n",
        "  ranked_songs = final_rating.loc[[items[0] for items in recommendations]].sort_values('play_freq', ascending = False)[['play_freq']].reset_index()\n",
        "\n",
        "  # Merge with the recommended songs to get predicted play_count\n",
        "  ranked_songs = ranked_songs.merge(pd.DataFrame(recommendations, columns = ['song_id', 'predicted_ratings']), on = 'song_id', how = 'inner')\n",
        "\n",
        "  # Rank the songs based on corrected play_counts\n",
        "  ranked_songs['corrected_ratings'] = ranked_songs['predicted_ratings'] - 1 / np.sqrt(ranked_songs['play_freq'])\n",
        "\n",
        "  # Sort the songs based on corrected play_counts\n",
        "  ranked_songs = ranked_songs.sort_values('corrected_ratings', ascending = False)\n",
        "\n",
        "  return ranked_songs"
      ],
      "metadata": {
        "id": "rFb0NWugiqQH"
      },
      "execution_count": null,
      "outputs": []
    },
    {
      "cell_type": "markdown",
      "source": [
        "**Think About It:** In the above function to correct the predicted play_count a quantity 1/np.sqrt(n) is subtracted. What is the intuition behind it? Is it also possible to add this quantity instead of subtracting?\n",
        "\n",
        " In the above-corrected rating formula, we can add the quantity 1/np.sqrt(n) instead of subtracting it to get more optimistic predictions. But here we are subtracting this quantity, as there are some movies with play counts of 5 and we can't have a play count more than 5 for a song since we have chosen to cut-off the data earlier."
      ],
      "metadata": {
        "id": "PzNx5uQlivEX"
      }
    },
    {
      "cell_type": "code",
      "source": [
        "# Applying the ranking_songs function on the final_play data\n",
        "ranking_songs(recommendations, final_play)"
      ],
      "metadata": {
        "colab": {
          "base_uri": "https://localhost:8080/",
          "height": 206
        },
        "id": "bBeAAal3izbk",
        "outputId": "7efdc4a0-27df-4b04-9e93-476640a97ff0"
      },
      "execution_count": null,
      "outputs": [
        {
          "output_type": "execute_result",
          "data": {
            "text/plain": [
              "   song_id  play_freq  predicted_ratings  corrected_ratings\n",
              "1     7224        107           2.935235           2.838562\n",
              "2     6450        102           2.668720           2.569705\n",
              "4     8324         96           2.467205           2.365143\n",
              "0     6448        109           2.386082           2.290300\n",
              "3     4831         97           2.348859           2.247324"
            ],
            "text/html": [
              "\n",
              "  <div id=\"df-1f5bbd35-7908-4448-a564-33a809c7ba16\">\n",
              "    <div class=\"colab-df-container\">\n",
              "      <div>\n",
              "<style scoped>\n",
              "    .dataframe tbody tr th:only-of-type {\n",
              "        vertical-align: middle;\n",
              "    }\n",
              "\n",
              "    .dataframe tbody tr th {\n",
              "        vertical-align: top;\n",
              "    }\n",
              "\n",
              "    .dataframe thead th {\n",
              "        text-align: right;\n",
              "    }\n",
              "</style>\n",
              "<table border=\"1\" class=\"dataframe\">\n",
              "  <thead>\n",
              "    <tr style=\"text-align: right;\">\n",
              "      <th></th>\n",
              "      <th>song_id</th>\n",
              "      <th>play_freq</th>\n",
              "      <th>predicted_ratings</th>\n",
              "      <th>corrected_ratings</th>\n",
              "    </tr>\n",
              "  </thead>\n",
              "  <tbody>\n",
              "    <tr>\n",
              "      <th>1</th>\n",
              "      <td>7224</td>\n",
              "      <td>107</td>\n",
              "      <td>2.935235</td>\n",
              "      <td>2.838562</td>\n",
              "    </tr>\n",
              "    <tr>\n",
              "      <th>2</th>\n",
              "      <td>6450</td>\n",
              "      <td>102</td>\n",
              "      <td>2.668720</td>\n",
              "      <td>2.569705</td>\n",
              "    </tr>\n",
              "    <tr>\n",
              "      <th>4</th>\n",
              "      <td>8324</td>\n",
              "      <td>96</td>\n",
              "      <td>2.467205</td>\n",
              "      <td>2.365143</td>\n",
              "    </tr>\n",
              "    <tr>\n",
              "      <th>0</th>\n",
              "      <td>6448</td>\n",
              "      <td>109</td>\n",
              "      <td>2.386082</td>\n",
              "      <td>2.290300</td>\n",
              "    </tr>\n",
              "    <tr>\n",
              "      <th>3</th>\n",
              "      <td>4831</td>\n",
              "      <td>97</td>\n",
              "      <td>2.348859</td>\n",
              "      <td>2.247324</td>\n",
              "    </tr>\n",
              "  </tbody>\n",
              "</table>\n",
              "</div>\n",
              "      <button class=\"colab-df-convert\" onclick=\"convertToInteractive('df-1f5bbd35-7908-4448-a564-33a809c7ba16')\"\n",
              "              title=\"Convert this dataframe to an interactive table.\"\n",
              "              style=\"display:none;\">\n",
              "        \n",
              "  <svg xmlns=\"http://www.w3.org/2000/svg\" height=\"24px\"viewBox=\"0 0 24 24\"\n",
              "       width=\"24px\">\n",
              "    <path d=\"M0 0h24v24H0V0z\" fill=\"none\"/>\n",
              "    <path d=\"M18.56 5.44l.94 2.06.94-2.06 2.06-.94-2.06-.94-.94-2.06-.94 2.06-2.06.94zm-11 1L8.5 8.5l.94-2.06 2.06-.94-2.06-.94L8.5 2.5l-.94 2.06-2.06.94zm10 10l.94 2.06.94-2.06 2.06-.94-2.06-.94-.94-2.06-.94 2.06-2.06.94z\"/><path d=\"M17.41 7.96l-1.37-1.37c-.4-.4-.92-.59-1.43-.59-.52 0-1.04.2-1.43.59L10.3 9.45l-7.72 7.72c-.78.78-.78 2.05 0 2.83L4 21.41c.39.39.9.59 1.41.59.51 0 1.02-.2 1.41-.59l7.78-7.78 2.81-2.81c.8-.78.8-2.07 0-2.86zM5.41 20L4 18.59l7.72-7.72 1.47 1.35L5.41 20z\"/>\n",
              "  </svg>\n",
              "      </button>\n",
              "      \n",
              "  <style>\n",
              "    .colab-df-container {\n",
              "      display:flex;\n",
              "      flex-wrap:wrap;\n",
              "      gap: 12px;\n",
              "    }\n",
              "\n",
              "    .colab-df-convert {\n",
              "      background-color: #E8F0FE;\n",
              "      border: none;\n",
              "      border-radius: 50%;\n",
              "      cursor: pointer;\n",
              "      display: none;\n",
              "      fill: #1967D2;\n",
              "      height: 32px;\n",
              "      padding: 0 0 0 0;\n",
              "      width: 32px;\n",
              "    }\n",
              "\n",
              "    .colab-df-convert:hover {\n",
              "      background-color: #E2EBFA;\n",
              "      box-shadow: 0px 1px 2px rgba(60, 64, 67, 0.3), 0px 1px 3px 1px rgba(60, 64, 67, 0.15);\n",
              "      fill: #174EA6;\n",
              "    }\n",
              "\n",
              "    [theme=dark] .colab-df-convert {\n",
              "      background-color: #3B4455;\n",
              "      fill: #D2E3FC;\n",
              "    }\n",
              "\n",
              "    [theme=dark] .colab-df-convert:hover {\n",
              "      background-color: #434B5C;\n",
              "      box-shadow: 0px 1px 3px 1px rgba(0, 0, 0, 0.15);\n",
              "      filter: drop-shadow(0px 1px 2px rgba(0, 0, 0, 0.3));\n",
              "      fill: #FFFFFF;\n",
              "    }\n",
              "  </style>\n",
              "\n",
              "      <script>\n",
              "        const buttonEl =\n",
              "          document.querySelector('#df-1f5bbd35-7908-4448-a564-33a809c7ba16 button.colab-df-convert');\n",
              "        buttonEl.style.display =\n",
              "          google.colab.kernel.accessAllowed ? 'block' : 'none';\n",
              "\n",
              "        async function convertToInteractive(key) {\n",
              "          const element = document.querySelector('#df-1f5bbd35-7908-4448-a564-33a809c7ba16');\n",
              "          const dataTable =\n",
              "            await google.colab.kernel.invokeFunction('convertToInteractive',\n",
              "                                                     [key], {});\n",
              "          if (!dataTable) return;\n",
              "\n",
              "          const docLinkHtml = 'Like what you see? Visit the ' +\n",
              "            '<a target=\"_blank\" href=https://colab.research.google.com/notebooks/data_table.ipynb>data table notebook</a>'\n",
              "            + ' to learn more about interactive tables.';\n",
              "          element.innerHTML = '';\n",
              "          dataTable['output_type'] = 'display_data';\n",
              "          await google.colab.output.renderOutput(dataTable, element);\n",
              "          const docLink = document.createElement('div');\n",
              "          docLink.innerHTML = docLinkHtml;\n",
              "          element.appendChild(docLink);\n",
              "        }\n",
              "      </script>\n",
              "    </div>\n",
              "  </div>\n",
              "  "
            ]
          },
          "metadata": {},
          "execution_count": 49
        }
      ]
    },
    {
      "cell_type": "markdown",
      "source": [
        "**Observations and Insights:**\n",
        "\n",
        "The corrected_ratings values are a bit lower than the predicted_rating values since the playing frequency of the songs have been taken into account.\n",
        "\n",
        "### **3.Item Item Similarity-Based Collaborative Filtering**"
      ],
      "metadata": {
        "id": "noDDnTp4i4Sc"
      }
    },
    {
      "cell_type": "code",
      "source": [
        "# Apply the item-item similarity collaborative filtering model with random_state = 1 and evaluate the model performance\n",
        "# Declaring the similarity options\n",
        "sim_options = {'name': 'cosine',\n",
        "               'user_based': False}\n",
        "\n",
        "# The KNN algorithm is used to find desired similar items\n",
        "sim_item_item = KNNBasic(sim_options = sim_options, random_state = 1, verbose = False)\n",
        "\n",
        "# Train the algorithm on the train set, and predict ratings for the testset\n",
        "sim_item_item.fit(trainset)\n",
        "\n",
        "# Let us compute precision@k, recall@k, and f_1 score with k = 10\n",
        "precision_recall_at_k(sim_item_item)"
      ],
      "metadata": {
        "colab": {
          "base_uri": "https://localhost:8080/"
        },
        "id": "KOqmtp3Ojchh",
        "outputId": "29e01187-19f8-4991-b11b-f64f94dabfbf"
      },
      "execution_count": null,
      "outputs": [
        {
          "output_type": "stream",
          "name": "stdout",
          "text": [
            "RMSE: 1.0394\n",
            "Precision:  0.307\n",
            "Recall:  0.562\n",
            "F_1 score:  0.397\n"
          ]
        }
      ]
    },
    {
      "cell_type": "markdown",
      "source": [
        "**Observations and Insights:**\n",
        "\n",
        "Here, F_1 score of the baseline model is ~0.397. We will try to improve this later by tuning different hyperparameters of this algorithm using GridSearchCV."
      ],
      "metadata": {
        "id": "QF5P6SBSkKtE"
      }
    },
    {
      "cell_type": "code",
      "source": [
        "# Predicting play count for a sample user_id 6958 and song (with song_id 1671) heard by the user\n",
        "sim_item_item.predict(6958, 1671, r_ui = 2, verbose = True)"
      ],
      "metadata": {
        "colab": {
          "base_uri": "https://localhost:8080/"
        },
        "id": "aSQWSET_kUDj",
        "outputId": "c7621b2b-061b-4876-eae2-bd93e3f57bc7"
      },
      "execution_count": null,
      "outputs": [
        {
          "output_type": "stream",
          "name": "stdout",
          "text": [
            "user: 6958       item: 1671       r_ui = 2.00   est = 1.36   {'actual_k': 20, 'was_impossible': False}\n"
          ]
        },
        {
          "output_type": "execute_result",
          "data": {
            "text/plain": [
              "Prediction(uid=6958, iid=1671, r_ui=2, est=1.3614157231762556, details={'actual_k': 20, 'was_impossible': False})"
            ]
          },
          "metadata": {},
          "execution_count": 51
        }
      ]
    },
    {
      "cell_type": "code",
      "source": [
        "# Predict the play count for a user that has not listened to the song (with song_id 1671)\n",
        "sim_item_item.predict(9139, 1671, verbose = True)"
      ],
      "metadata": {
        "colab": {
          "base_uri": "https://localhost:8080/"
        },
        "id": "o-HYQvYbkZ__",
        "outputId": "e4a38923-8cdd-4e68-f661-f5315766449a"
      },
      "execution_count": null,
      "outputs": [
        {
          "output_type": "stream",
          "name": "stdout",
          "text": [
            "user: 9139       item: 1671       r_ui = None   est = 1.70   {'was_impossible': True, 'reason': 'User and/or item is unknown.'}\n"
          ]
        },
        {
          "output_type": "execute_result",
          "data": {
            "text/plain": [
              "Prediction(uid=9139, iid=1671, r_ui=None, est=1.6989607635206787, details={'was_impossible': True, 'reason': 'User and/or item is unknown.'})"
            ]
          },
          "metadata": {},
          "execution_count": 52
        }
      ]
    },
    {
      "cell_type": "markdown",
      "source": [
        "**Observations and Insights:**\n",
        "The above output shows that the actual play count for this user-item pair is 2 and the predicted play count is 1.36. Let us try to improve this."
      ],
      "metadata": {
        "id": "uqbQ2lNJkfLF"
      }
    },
    {
      "cell_type": "code",
      "source": [
        "# Apply grid search for enhancing model performance\n",
        "\n",
        "# Setting up parameter grid to tune the hyperparameters\n",
        "param_grid = {'k': [10, 20, 30], 'min_k': [3, 6, 9],\n",
        "              'sim_options': {'name': [\"cosine\", 'pearson', \"pearson_baseline\"],\n",
        "                              'user_based': [False], \"min_support\": [2, 4]}\n",
        "              }\n",
        "\n",
        "# Performing 3-fold cross-validation to tune the hyperparameters\n",
        "gs = GridSearchCV(KNNBasic, param_grid, measures = ['rmse'], cv = 3, n_jobs = -1)\n",
        "\n",
        "# Fitting the data\n",
        "gs.fit(data)\n",
        "\n",
        "# Find the best RMSE score\n",
        "print(gs.best_score['rmse'])\n",
        "# Extract the combination of parameters that gave the best RMSE score\n",
        "print(gs.best_params['rmse'])"
      ],
      "metadata": {
        "colab": {
          "base_uri": "https://localhost:8080/"
        },
        "id": "tCjUo8HQkdxN",
        "outputId": "ac0bb54e-6169-47c0-80ab-e03bbf7e1ead"
      },
      "execution_count": null,
      "outputs": [
        {
          "output_type": "stream",
          "name": "stdout",
          "text": [
            "1.0247630603215907\n",
            "{'k': 30, 'min_k': 6, 'sim_options': {'name': 'pearson_baseline', 'user_based': False, 'min_support': 2}}\n"
          ]
        }
      ]
    },
    {
      "cell_type": "markdown",
      "source": [
        "**Think About It:** How do the parameters affect the performance of the model? Can we improve the performance of the model further? Check the list of hyperparameters [here](https://surprise.readthedocs.io/en/stable/knn_inspired.html).\n",
        "\n",
        "\n",
        "The k takes into account how many neighbours we want for aggregation, and min_k is the minimum number of neighbours to take into account.\n",
        "sim_options gives us the type of similarity measure while verbose gives us traces of bias, estimation, similarity,etc.\n",
        "\n",
        "We can further improve the model by getting optimal values of each of those hyperparameters."
      ],
      "metadata": {
        "id": "MlXXGekMlBIW"
      }
    },
    {
      "cell_type": "code",
      "source": [
        "# Apply the best modle found in the grid search\n",
        "# Using the optimal similarity measure for item-item based collaborative filtering\n",
        "sim_options = {'name': 'pearson_baseline',\n",
        "               'user_based': False}\n",
        "\n",
        "# Creating an instance of KNNBasic with optimal hyperparameter values\n",
        "sim_item_item_optimized = KNNBasic(sim_options = sim_options, k = 30, min_k = 6, random_state = 1, verbose = False)\n",
        "\n",
        "# Training the algorithm on the train set\n",
        "sim_item_item_optimized.fit(trainset)\n",
        "\n",
        "# Let us compute precision@k, recall@k, and f_1 score with k = 10\n",
        "precision_recall_at_k(sim_item_item_optimized,k=10)"
      ],
      "metadata": {
        "colab": {
          "base_uri": "https://localhost:8080/"
        },
        "id": "V7uaa4z5kvI1",
        "outputId": "6fd5def1-06f9-450a-a297-793b6b246587"
      },
      "execution_count": null,
      "outputs": [
        {
          "output_type": "stream",
          "name": "stdout",
          "text": [
            "RMSE: 1.0328\n",
            "Precision:  0.421\n",
            "Recall:  0.584\n",
            "F_1 score:  0.489\n"
          ]
        }
      ]
    },
    {
      "cell_type": "markdown",
      "source": [
        "**Observations and Insights:**\n",
        "\n",
        "We can observe that after tuning hyperparameters, F_1 score of the model is better than the baseline model.  Hence, we can say that the model performance has improved after hyperparameter tuning."
      ],
      "metadata": {
        "id": "yIIKPAcZlJx0"
      }
    },
    {
      "cell_type": "code",
      "source": [
        "# Predict the play_count by a user(user_id 6958) for the song (song_id 1671)\n",
        "sim_item_item_optimized.predict(6958, 1671, r_ui = 2, verbose = True)"
      ],
      "metadata": {
        "colab": {
          "base_uri": "https://localhost:8080/"
        },
        "id": "fk0M_-Kslxf8",
        "outputId": "67964720-18eb-4c6a-d2dc-bcdb936bad9a"
      },
      "execution_count": null,
      "outputs": [
        {
          "output_type": "stream",
          "name": "stdout",
          "text": [
            "user: 6958       item: 1671       r_ui = 2.00   est = 1.96   {'actual_k': 10, 'was_impossible': False}\n"
          ]
        },
        {
          "output_type": "execute_result",
          "data": {
            "text/plain": [
              "Prediction(uid=6958, iid=1671, r_ui=2, est=1.9634957386781853, details={'actual_k': 10, 'was_impossible': False})"
            ]
          },
          "metadata": {},
          "execution_count": 55
        }
      ]
    },
    {
      "cell_type": "code",
      "source": [
        "# Predicting play count for a sample user_id 6958 with song_id 3232 which is not heard by the user\n",
        "sim_item_item_optimized.predict(6958, 3232, verbose = True)"
      ],
      "metadata": {
        "colab": {
          "base_uri": "https://localhost:8080/"
        },
        "id": "yEr6i6kFl4Wa",
        "outputId": "eb6d2130-29d1-4bf6-dc89-81436e7e3596"
      },
      "execution_count": null,
      "outputs": [
        {
          "output_type": "stream",
          "name": "stdout",
          "text": [
            "user: 6958       item: 3232       r_ui = None   est = 1.28   {'actual_k': 10, 'was_impossible': False}\n"
          ]
        },
        {
          "output_type": "execute_result",
          "data": {
            "text/plain": [
              "Prediction(uid=6958, iid=3232, r_ui=None, est=1.2759946618244609, details={'actual_k': 10, 'was_impossible': False})"
            ]
          },
          "metadata": {},
          "execution_count": 56
        }
      ]
    },
    {
      "cell_type": "markdown",
      "source": [
        "**Observations and Insights:**\n",
        "\n",
        "We observe that the predicted play count by the optimized model is closer to the actual play count in comparison to that by the baseline model. **The item-item similarity-based collaborative filtering optimized model gives a good prediction.**"
      ],
      "metadata": {
        "id": "_8eDMXv_mDAU"
      }
    },
    {
      "cell_type": "code",
      "source": [
        "# Find five most similar items to the item with inner id 0\n",
        "sim_item_item_optimized.get_neighbors(0, k = 5)"
      ],
      "metadata": {
        "colab": {
          "base_uri": "https://localhost:8080/"
        },
        "id": "gFWmzPtqmHQZ",
        "outputId": "5109a2de-162f-4bae-eec0-2f31b8d383cb"
      },
      "execution_count": null,
      "outputs": [
        {
          "output_type": "execute_result",
          "data": {
            "text/plain": [
              "[124, 523, 173, 205, 65]"
            ]
          },
          "metadata": {},
          "execution_count": 55
        }
      ]
    },
    {
      "cell_type": "code",
      "source": [
        "# Making top 5 recommendations for user_id 6958 with item_item_similarity-based recommendation engine\n",
        "recommendations = get_recommendations(df_final, 6958, 5, sim_item_item_optimized)"
      ],
      "metadata": {
        "id": "U8wVgWg6mL-t"
      },
      "execution_count": null,
      "outputs": []
    },
    {
      "cell_type": "code",
      "source": [
        "# Building the dataframe for above recommendations with columns \"song_id\" and \"predicted_play_count\"\n",
        "pd.DataFrame(recommendations, columns = ['song_id', 'predicted_ratings'])"
      ],
      "metadata": {
        "colab": {
          "base_uri": "https://localhost:8080/",
          "height": 206
        },
        "id": "itz9kDozmS8Q",
        "outputId": "cb329f7e-a081-4a56-9c3a-39c1e788251b"
      },
      "execution_count": null,
      "outputs": [
        {
          "output_type": "execute_result",
          "data": {
            "text/plain": [
              "   song_id  predicted_ratings\n",
              "0     2342           2.653903\n",
              "1     5101           2.386577\n",
              "2      139           2.313727\n",
              "3     7519           2.270864\n",
              "4     8099           2.212702"
            ],
            "text/html": [
              "\n",
              "  <div id=\"df-2c8f86bf-4dec-453f-9f4c-a0134b2caeda\">\n",
              "    <div class=\"colab-df-container\">\n",
              "      <div>\n",
              "<style scoped>\n",
              "    .dataframe tbody tr th:only-of-type {\n",
              "        vertical-align: middle;\n",
              "    }\n",
              "\n",
              "    .dataframe tbody tr th {\n",
              "        vertical-align: top;\n",
              "    }\n",
              "\n",
              "    .dataframe thead th {\n",
              "        text-align: right;\n",
              "    }\n",
              "</style>\n",
              "<table border=\"1\" class=\"dataframe\">\n",
              "  <thead>\n",
              "    <tr style=\"text-align: right;\">\n",
              "      <th></th>\n",
              "      <th>song_id</th>\n",
              "      <th>predicted_ratings</th>\n",
              "    </tr>\n",
              "  </thead>\n",
              "  <tbody>\n",
              "    <tr>\n",
              "      <th>0</th>\n",
              "      <td>2342</td>\n",
              "      <td>2.653903</td>\n",
              "    </tr>\n",
              "    <tr>\n",
              "      <th>1</th>\n",
              "      <td>5101</td>\n",
              "      <td>2.386577</td>\n",
              "    </tr>\n",
              "    <tr>\n",
              "      <th>2</th>\n",
              "      <td>139</td>\n",
              "      <td>2.313727</td>\n",
              "    </tr>\n",
              "    <tr>\n",
              "      <th>3</th>\n",
              "      <td>7519</td>\n",
              "      <td>2.270864</td>\n",
              "    </tr>\n",
              "    <tr>\n",
              "      <th>4</th>\n",
              "      <td>8099</td>\n",
              "      <td>2.212702</td>\n",
              "    </tr>\n",
              "  </tbody>\n",
              "</table>\n",
              "</div>\n",
              "      <button class=\"colab-df-convert\" onclick=\"convertToInteractive('df-2c8f86bf-4dec-453f-9f4c-a0134b2caeda')\"\n",
              "              title=\"Convert this dataframe to an interactive table.\"\n",
              "              style=\"display:none;\">\n",
              "        \n",
              "  <svg xmlns=\"http://www.w3.org/2000/svg\" height=\"24px\"viewBox=\"0 0 24 24\"\n",
              "       width=\"24px\">\n",
              "    <path d=\"M0 0h24v24H0V0z\" fill=\"none\"/>\n",
              "    <path d=\"M18.56 5.44l.94 2.06.94-2.06 2.06-.94-2.06-.94-.94-2.06-.94 2.06-2.06.94zm-11 1L8.5 8.5l.94-2.06 2.06-.94-2.06-.94L8.5 2.5l-.94 2.06-2.06.94zm10 10l.94 2.06.94-2.06 2.06-.94-2.06-.94-.94-2.06-.94 2.06-2.06.94z\"/><path d=\"M17.41 7.96l-1.37-1.37c-.4-.4-.92-.59-1.43-.59-.52 0-1.04.2-1.43.59L10.3 9.45l-7.72 7.72c-.78.78-.78 2.05 0 2.83L4 21.41c.39.39.9.59 1.41.59.51 0 1.02-.2 1.41-.59l7.78-7.78 2.81-2.81c.8-.78.8-2.07 0-2.86zM5.41 20L4 18.59l7.72-7.72 1.47 1.35L5.41 20z\"/>\n",
              "  </svg>\n",
              "      </button>\n",
              "      \n",
              "  <style>\n",
              "    .colab-df-container {\n",
              "      display:flex;\n",
              "      flex-wrap:wrap;\n",
              "      gap: 12px;\n",
              "    }\n",
              "\n",
              "    .colab-df-convert {\n",
              "      background-color: #E8F0FE;\n",
              "      border: none;\n",
              "      border-radius: 50%;\n",
              "      cursor: pointer;\n",
              "      display: none;\n",
              "      fill: #1967D2;\n",
              "      height: 32px;\n",
              "      padding: 0 0 0 0;\n",
              "      width: 32px;\n",
              "    }\n",
              "\n",
              "    .colab-df-convert:hover {\n",
              "      background-color: #E2EBFA;\n",
              "      box-shadow: 0px 1px 2px rgba(60, 64, 67, 0.3), 0px 1px 3px 1px rgba(60, 64, 67, 0.15);\n",
              "      fill: #174EA6;\n",
              "    }\n",
              "\n",
              "    [theme=dark] .colab-df-convert {\n",
              "      background-color: #3B4455;\n",
              "      fill: #D2E3FC;\n",
              "    }\n",
              "\n",
              "    [theme=dark] .colab-df-convert:hover {\n",
              "      background-color: #434B5C;\n",
              "      box-shadow: 0px 1px 3px 1px rgba(0, 0, 0, 0.15);\n",
              "      filter: drop-shadow(0px 1px 2px rgba(0, 0, 0, 0.3));\n",
              "      fill: #FFFFFF;\n",
              "    }\n",
              "  </style>\n",
              "\n",
              "      <script>\n",
              "        const buttonEl =\n",
              "          document.querySelector('#df-2c8f86bf-4dec-453f-9f4c-a0134b2caeda button.colab-df-convert');\n",
              "        buttonEl.style.display =\n",
              "          google.colab.kernel.accessAllowed ? 'block' : 'none';\n",
              "\n",
              "        async function convertToInteractive(key) {\n",
              "          const element = document.querySelector('#df-2c8f86bf-4dec-453f-9f4c-a0134b2caeda');\n",
              "          const dataTable =\n",
              "            await google.colab.kernel.invokeFunction('convertToInteractive',\n",
              "                                                     [key], {});\n",
              "          if (!dataTable) return;\n",
              "\n",
              "          const docLinkHtml = 'Like what you see? Visit the ' +\n",
              "            '<a target=\"_blank\" href=https://colab.research.google.com/notebooks/data_table.ipynb>data table notebook</a>'\n",
              "            + ' to learn more about interactive tables.';\n",
              "          element.innerHTML = '';\n",
              "          dataTable['output_type'] = 'display_data';\n",
              "          await google.colab.output.renderOutput(dataTable, element);\n",
              "          const docLink = document.createElement('div');\n",
              "          docLink.innerHTML = docLinkHtml;\n",
              "          element.appendChild(docLink);\n",
              "        }\n",
              "      </script>\n",
              "    </div>\n",
              "  </div>\n",
              "  "
            ]
          },
          "metadata": {},
          "execution_count": 57
        }
      ]
    },
    {
      "cell_type": "code",
      "source": [
        "# Applying the ranking_songs function\n",
        "ranking_songs(recommendations, final_play)"
      ],
      "metadata": {
        "colab": {
          "base_uri": "https://localhost:8080/",
          "height": 206
        },
        "id": "Yl6xSFhNmVIk",
        "outputId": "ea17a44a-5f9f-4374-945a-56a771670289"
      },
      "execution_count": null,
      "outputs": [
        {
          "output_type": "execute_result",
          "data": {
            "text/plain": [
              "   song_id  play_freq  predicted_ratings  corrected_ratings\n",
              "4     2342        111           2.653903           2.558987\n",
              "2     5101        130           2.386577           2.298871\n",
              "3      139        119           2.313727           2.222057\n",
              "1     7519        168           2.270864           2.193712\n",
              "0     8099        275           2.212702           2.152399"
            ],
            "text/html": [
              "\n",
              "  <div id=\"df-a5ea053c-ac00-482f-823f-22ef7f8e0bb8\">\n",
              "    <div class=\"colab-df-container\">\n",
              "      <div>\n",
              "<style scoped>\n",
              "    .dataframe tbody tr th:only-of-type {\n",
              "        vertical-align: middle;\n",
              "    }\n",
              "\n",
              "    .dataframe tbody tr th {\n",
              "        vertical-align: top;\n",
              "    }\n",
              "\n",
              "    .dataframe thead th {\n",
              "        text-align: right;\n",
              "    }\n",
              "</style>\n",
              "<table border=\"1\" class=\"dataframe\">\n",
              "  <thead>\n",
              "    <tr style=\"text-align: right;\">\n",
              "      <th></th>\n",
              "      <th>song_id</th>\n",
              "      <th>play_freq</th>\n",
              "      <th>predicted_ratings</th>\n",
              "      <th>corrected_ratings</th>\n",
              "    </tr>\n",
              "  </thead>\n",
              "  <tbody>\n",
              "    <tr>\n",
              "      <th>4</th>\n",
              "      <td>2342</td>\n",
              "      <td>111</td>\n",
              "      <td>2.653903</td>\n",
              "      <td>2.558987</td>\n",
              "    </tr>\n",
              "    <tr>\n",
              "      <th>2</th>\n",
              "      <td>5101</td>\n",
              "      <td>130</td>\n",
              "      <td>2.386577</td>\n",
              "      <td>2.298871</td>\n",
              "    </tr>\n",
              "    <tr>\n",
              "      <th>3</th>\n",
              "      <td>139</td>\n",
              "      <td>119</td>\n",
              "      <td>2.313727</td>\n",
              "      <td>2.222057</td>\n",
              "    </tr>\n",
              "    <tr>\n",
              "      <th>1</th>\n",
              "      <td>7519</td>\n",
              "      <td>168</td>\n",
              "      <td>2.270864</td>\n",
              "      <td>2.193712</td>\n",
              "    </tr>\n",
              "    <tr>\n",
              "      <th>0</th>\n",
              "      <td>8099</td>\n",
              "      <td>275</td>\n",
              "      <td>2.212702</td>\n",
              "      <td>2.152399</td>\n",
              "    </tr>\n",
              "  </tbody>\n",
              "</table>\n",
              "</div>\n",
              "      <button class=\"colab-df-convert\" onclick=\"convertToInteractive('df-a5ea053c-ac00-482f-823f-22ef7f8e0bb8')\"\n",
              "              title=\"Convert this dataframe to an interactive table.\"\n",
              "              style=\"display:none;\">\n",
              "        \n",
              "  <svg xmlns=\"http://www.w3.org/2000/svg\" height=\"24px\"viewBox=\"0 0 24 24\"\n",
              "       width=\"24px\">\n",
              "    <path d=\"M0 0h24v24H0V0z\" fill=\"none\"/>\n",
              "    <path d=\"M18.56 5.44l.94 2.06.94-2.06 2.06-.94-2.06-.94-.94-2.06-.94 2.06-2.06.94zm-11 1L8.5 8.5l.94-2.06 2.06-.94-2.06-.94L8.5 2.5l-.94 2.06-2.06.94zm10 10l.94 2.06.94-2.06 2.06-.94-2.06-.94-.94-2.06-.94 2.06-2.06.94z\"/><path d=\"M17.41 7.96l-1.37-1.37c-.4-.4-.92-.59-1.43-.59-.52 0-1.04.2-1.43.59L10.3 9.45l-7.72 7.72c-.78.78-.78 2.05 0 2.83L4 21.41c.39.39.9.59 1.41.59.51 0 1.02-.2 1.41-.59l7.78-7.78 2.81-2.81c.8-.78.8-2.07 0-2.86zM5.41 20L4 18.59l7.72-7.72 1.47 1.35L5.41 20z\"/>\n",
              "  </svg>\n",
              "      </button>\n",
              "      \n",
              "  <style>\n",
              "    .colab-df-container {\n",
              "      display:flex;\n",
              "      flex-wrap:wrap;\n",
              "      gap: 12px;\n",
              "    }\n",
              "\n",
              "    .colab-df-convert {\n",
              "      background-color: #E8F0FE;\n",
              "      border: none;\n",
              "      border-radius: 50%;\n",
              "      cursor: pointer;\n",
              "      display: none;\n",
              "      fill: #1967D2;\n",
              "      height: 32px;\n",
              "      padding: 0 0 0 0;\n",
              "      width: 32px;\n",
              "    }\n",
              "\n",
              "    .colab-df-convert:hover {\n",
              "      background-color: #E2EBFA;\n",
              "      box-shadow: 0px 1px 2px rgba(60, 64, 67, 0.3), 0px 1px 3px 1px rgba(60, 64, 67, 0.15);\n",
              "      fill: #174EA6;\n",
              "    }\n",
              "\n",
              "    [theme=dark] .colab-df-convert {\n",
              "      background-color: #3B4455;\n",
              "      fill: #D2E3FC;\n",
              "    }\n",
              "\n",
              "    [theme=dark] .colab-df-convert:hover {\n",
              "      background-color: #434B5C;\n",
              "      box-shadow: 0px 1px 3px 1px rgba(0, 0, 0, 0.15);\n",
              "      filter: drop-shadow(0px 1px 2px rgba(0, 0, 0, 0.3));\n",
              "      fill: #FFFFFF;\n",
              "    }\n",
              "  </style>\n",
              "\n",
              "      <script>\n",
              "        const buttonEl =\n",
              "          document.querySelector('#df-a5ea053c-ac00-482f-823f-22ef7f8e0bb8 button.colab-df-convert');\n",
              "        buttonEl.style.display =\n",
              "          google.colab.kernel.accessAllowed ? 'block' : 'none';\n",
              "\n",
              "        async function convertToInteractive(key) {\n",
              "          const element = document.querySelector('#df-a5ea053c-ac00-482f-823f-22ef7f8e0bb8');\n",
              "          const dataTable =\n",
              "            await google.colab.kernel.invokeFunction('convertToInteractive',\n",
              "                                                     [key], {});\n",
              "          if (!dataTable) return;\n",
              "\n",
              "          const docLinkHtml = 'Like what you see? Visit the ' +\n",
              "            '<a target=\"_blank\" href=https://colab.research.google.com/notebooks/data_table.ipynb>data table notebook</a>'\n",
              "            + ' to learn more about interactive tables.';\n",
              "          element.innerHTML = '';\n",
              "          dataTable['output_type'] = 'display_data';\n",
              "          await google.colab.output.renderOutput(dataTable, element);\n",
              "          const docLink = document.createElement('div');\n",
              "          docLink.innerHTML = docLinkHtml;\n",
              "          element.appendChild(docLink);\n",
              "        }\n",
              "      </script>\n",
              "    </div>\n",
              "  </div>\n",
              "  "
            ]
          },
          "metadata": {},
          "execution_count": 58
        }
      ]
    },
    {
      "cell_type": "markdown",
      "source": [
        "**Observations and Insights:**\n",
        "\n",
        "The corrected_ratings values are a bit lower than the predicted_rating values since the playing frequency of the songs have been taken into account.\n",
        "\n",
        "### **4.Model Based Collaborative Filtering - Matrix Factorization**\n",
        "\n",
        "Model-based Collaborative Filtering is a **personalized recommendation system**, the recommendations are based on the past behavior of the user and it is not dependent on any additional information. We use **latent features** to find recommendations for each user."
      ],
      "metadata": {
        "id": "BUSP76TFmbU4"
      }
    },
    {
      "cell_type": "code",
      "source": [
        "# Build baseline model using svd\n",
        "# Using SVD with matrix factorization\n",
        "svd = SVD(random_state = 1)\n",
        "\n",
        "# Training the algorithm on the training dataset\n",
        "svd.fit(trainset)\n",
        "\n",
        "# Let us compute precision@k, recall@k, and f_1 score with k = 10\n",
        "precision_recall_at_k(svd)"
      ],
      "metadata": {
        "colab": {
          "base_uri": "https://localhost:8080/"
        },
        "id": "m4LZsZXanKvO",
        "outputId": "a433bcb6-4b0f-4cbc-fca3-1c64dd893916"
      },
      "execution_count": null,
      "outputs": [
        {
          "output_type": "stream",
          "name": "stdout",
          "text": [
            "RMSE: 1.0252\n",
            "Precision:  0.41\n",
            "Recall:  0.633\n",
            "F_1 score:  0.498\n"
          ]
        }
      ]
    },
    {
      "cell_type": "code",
      "source": [
        "# Making prediction for user (with user_id 6958) to song (with song_id 1671), take r_ui = 2\n",
        "svd.predict(6958, 1671, r_ui = 2, verbose = True)"
      ],
      "metadata": {
        "colab": {
          "base_uri": "https://localhost:8080/"
        },
        "id": "0C9NLSxKnkcJ",
        "outputId": "fb9fde2f-76bf-44f8-9966-916e761d4dba"
      },
      "execution_count": null,
      "outputs": [
        {
          "output_type": "stream",
          "name": "stdout",
          "text": [
            "user: 6958       item: 1671       r_ui = 2.00   est = 1.27   {'was_impossible': False}\n"
          ]
        },
        {
          "output_type": "execute_result",
          "data": {
            "text/plain": [
              "Prediction(uid=6958, iid=1671, r_ui=2, est=1.267473397214638, details={'was_impossible': False})"
            ]
          },
          "metadata": {},
          "execution_count": 60
        }
      ]
    },
    {
      "cell_type": "code",
      "source": [
        "# Making a prediction for the user who has not listened to the song (song_id 3232)\n",
        "svd.predict(6958, 3232, verbose = True)"
      ],
      "metadata": {
        "colab": {
          "base_uri": "https://localhost:8080/"
        },
        "id": "I5Flh3vQnokN",
        "outputId": "6f49f9f2-ac5c-4dac-d516-48dc8a798bf9"
      },
      "execution_count": null,
      "outputs": [
        {
          "output_type": "stream",
          "name": "stdout",
          "text": [
            "user: 6958       item: 3232       r_ui = None   est = 1.56   {'was_impossible': False}\n"
          ]
        },
        {
          "output_type": "execute_result",
          "data": {
            "text/plain": [
              "Prediction(uid=6958, iid=3232, r_ui=None, est=1.5561675084403663, details={'was_impossible': False})"
            ]
          },
          "metadata": {},
          "execution_count": 61
        }
      ]
    },
    {
      "cell_type": "markdown",
      "source": [
        "#### Improving matrix factorization based recommendation system by tuning its hyperparameters"
      ],
      "metadata": {
        "id": "IfbfMU2rn5ej"
      }
    },
    {
      "cell_type": "code",
      "source": [
        "# Set the parameter space to tune\n",
        "param_grid = {'n_epochs': [10, 20, 30], 'lr_all': [0.001, 0.005, 0.01],\n",
        "              'reg_all': [0.2, 0.4, 0.6]}\n",
        "\n",
        "# Performe 3-fold grid-search cross-validation\n",
        "gs = GridSearchCV(SVD, param_grid, measures = ['rmse'], cv = 3, n_jobs = -1)\n",
        "\n",
        "# Fitting the model on the data\n",
        "gs.fit(data)\n",
        "\n",
        "# Print the best RMSE score\n",
        "print(gs.best_score['rmse'])\n",
        "\n",
        "# Print the combination of parameters that gave the best RMSE score\n",
        "print(gs.best_params['rmse'])"
      ],
      "metadata": {
        "colab": {
          "base_uri": "https://localhost:8080/"
        },
        "id": "EO0FNeHIoHKL",
        "outputId": "3730f7da-acd3-4051-847c-e1790560431b"
      },
      "execution_count": null,
      "outputs": [
        {
          "output_type": "stream",
          "name": "stdout",
          "text": [
            "1.0128774267550662\n",
            "{'n_epochs': 30, 'lr_all': 0.01, 'reg_all': 0.2}\n"
          ]
        }
      ]
    },
    {
      "cell_type": "markdown",
      "source": [
        "**Think About It**: How do the parameters affect the performance of the model? Can we improve the performance of the model further? Check the available hyperparameters [here](https://surprise.readthedocs.io/en/stable/matrix_factorization.html).\n",
        "\n",
        "The optimized parameters can be adjusted to the model so as to improve its performance. Here are some examples of most commonly used parameters :\n",
        "\n",
        "- n_factors – The number of factors. Default is 100.\n",
        "\n",
        "- n_epochs – The number of iteration of the SGD procedure. Default is 20.\n",
        "\n",
        "- biased (bool) – Whether to use baselines (or biases). If yes , True.\n",
        "\n",
        "\n",
        "We will build the model using the optimal values of hyperparameters that we received from the grid search cross-validation to improve the performance of the model."
      ],
      "metadata": {
        "id": "erP2DGpioXWW"
      }
    },
    {
      "cell_type": "code",
      "source": [
        "# Building the optimized SVD model using optimal hyperparameters\n",
        "svd_optimized = SVD(n_epochs = 30, lr_all = 0.01, reg_all = 0.2, random_state = 1)\n",
        "\n",
        "# Training the algorithm on the train set\n",
        "svd_optimized = svd_optimized.fit(trainset)\n",
        "\n",
        "# Let us compute precision@k, recall@k, and f_1 score with k = 10\n",
        "precision_recall_at_k(svd_optimized)"
      ],
      "metadata": {
        "colab": {
          "base_uri": "https://localhost:8080/"
        },
        "id": "vc05nLy7oldz",
        "outputId": "69a9b229-aefd-4a8a-d6de-d90522db8597"
      },
      "execution_count": null,
      "outputs": [
        {
          "output_type": "stream",
          "name": "stdout",
          "text": [
            "RMSE: 1.0141\n",
            "Precision:  0.415\n",
            "Recall:  0.635\n",
            "F_1 score:  0.502\n"
          ]
        }
      ]
    },
    {
      "cell_type": "markdown",
      "source": [
        "**Observations and Insights:**\n",
        "\n",
        "The F1_score has increased and the RMSE value has decreased. Hence, we can conclude that the model has improved slightly."
      ],
      "metadata": {
        "id": "8gqd-Cccozgn"
      }
    },
    {
      "cell_type": "code",
      "source": [
        "# Using svd_algo_optimized model to recommend for userId 6958 and song_id 1671\n",
        "svd_optimized.predict(6958, 1671, r_ui = 2, verbose = True)"
      ],
      "metadata": {
        "colab": {
          "base_uri": "https://localhost:8080/"
        },
        "id": "zS0BDenJpXZr",
        "outputId": "1bf037f6-24f6-4741-a94b-7a1f8b45af0d"
      },
      "execution_count": null,
      "outputs": [
        {
          "output_type": "stream",
          "name": "stdout",
          "text": [
            "user: 6958       item: 1671       r_ui = 2.00   est = 1.34   {'was_impossible': False}\n"
          ]
        },
        {
          "output_type": "execute_result",
          "data": {
            "text/plain": [
              "Prediction(uid=6958, iid=1671, r_ui=2, est=1.3432395286125096, details={'was_impossible': False})"
            ]
          },
          "metadata": {},
          "execution_count": 64
        }
      ]
    },
    {
      "cell_type": "code",
      "source": [
        "# Using svd_algo_optimized model to recommend for userId 6958 and song_id 3232 with unknown baseline rating\n",
        "svd_optimized.predict(6958, 3232, verbose = True)"
      ],
      "metadata": {
        "colab": {
          "base_uri": "https://localhost:8080/"
        },
        "id": "3s5V1obNpcI3",
        "outputId": "85f0b12c-b32c-4b48-c4f8-32c20c71d409"
      },
      "execution_count": null,
      "outputs": [
        {
          "output_type": "stream",
          "name": "stdout",
          "text": [
            "user: 6958       item: 3232       r_ui = None   est = 1.44   {'was_impossible': False}\n"
          ]
        },
        {
          "output_type": "execute_result",
          "data": {
            "text/plain": [
              "Prediction(uid=6958, iid=3232, r_ui=None, est=1.442548446117648, details={'was_impossible': False})"
            ]
          },
          "metadata": {},
          "execution_count": 65
        }
      ]
    },
    {
      "cell_type": "markdown",
      "source": [
        "**Observations and Insights:**\n",
        "\n",
        "The predicted play count has improved in the optimized model. **The Matrix factorization model gives a better prediction with the optimized model.**"
      ],
      "metadata": {
        "id": "VeQPve_wpnim"
      }
    },
    {
      "cell_type": "code",
      "source": [
        "# Getting top 5 recommendations for user_id 6958 using \"svd_optimized\" algorithm\n",
        "svd_recommendations = get_recommendations(df_final, 6958, 5, svd_optimized)"
      ],
      "metadata": {
        "id": "hBCmJOtEptl6"
      },
      "execution_count": null,
      "outputs": []
    },
    {
      "cell_type": "code",
      "source": [
        "# Ranking songs based on above recommendations\n",
        "ranking_songs(svd_recommendations, final_play)"
      ],
      "metadata": {
        "colab": {
          "base_uri": "https://localhost:8080/",
          "height": 206
        },
        "id": "TnX6Xm5Spx9N",
        "outputId": "d8942f3c-0905-432e-c36d-68be29569a58"
      },
      "execution_count": null,
      "outputs": [
        {
          "output_type": "execute_result",
          "data": {
            "text/plain": [
              "   song_id  play_freq  predicted_ratings  corrected_ratings\n",
              "2     7224        107           2.601899           2.505225\n",
              "1     5653        108           2.108728           2.012502\n",
              "4     8324         96           2.014091           1.912029\n",
              "0     9942        150           1.940115           1.858465\n",
              "3     6450        102           1.952493           1.853478"
            ],
            "text/html": [
              "\n",
              "  <div id=\"df-6a048754-9768-48d2-8f74-2d738b5c3728\">\n",
              "    <div class=\"colab-df-container\">\n",
              "      <div>\n",
              "<style scoped>\n",
              "    .dataframe tbody tr th:only-of-type {\n",
              "        vertical-align: middle;\n",
              "    }\n",
              "\n",
              "    .dataframe tbody tr th {\n",
              "        vertical-align: top;\n",
              "    }\n",
              "\n",
              "    .dataframe thead th {\n",
              "        text-align: right;\n",
              "    }\n",
              "</style>\n",
              "<table border=\"1\" class=\"dataframe\">\n",
              "  <thead>\n",
              "    <tr style=\"text-align: right;\">\n",
              "      <th></th>\n",
              "      <th>song_id</th>\n",
              "      <th>play_freq</th>\n",
              "      <th>predicted_ratings</th>\n",
              "      <th>corrected_ratings</th>\n",
              "    </tr>\n",
              "  </thead>\n",
              "  <tbody>\n",
              "    <tr>\n",
              "      <th>2</th>\n",
              "      <td>7224</td>\n",
              "      <td>107</td>\n",
              "      <td>2.601899</td>\n",
              "      <td>2.505225</td>\n",
              "    </tr>\n",
              "    <tr>\n",
              "      <th>1</th>\n",
              "      <td>5653</td>\n",
              "      <td>108</td>\n",
              "      <td>2.108728</td>\n",
              "      <td>2.012502</td>\n",
              "    </tr>\n",
              "    <tr>\n",
              "      <th>4</th>\n",
              "      <td>8324</td>\n",
              "      <td>96</td>\n",
              "      <td>2.014091</td>\n",
              "      <td>1.912029</td>\n",
              "    </tr>\n",
              "    <tr>\n",
              "      <th>0</th>\n",
              "      <td>9942</td>\n",
              "      <td>150</td>\n",
              "      <td>1.940115</td>\n",
              "      <td>1.858465</td>\n",
              "    </tr>\n",
              "    <tr>\n",
              "      <th>3</th>\n",
              "      <td>6450</td>\n",
              "      <td>102</td>\n",
              "      <td>1.952493</td>\n",
              "      <td>1.853478</td>\n",
              "    </tr>\n",
              "  </tbody>\n",
              "</table>\n",
              "</div>\n",
              "      <button class=\"colab-df-convert\" onclick=\"convertToInteractive('df-6a048754-9768-48d2-8f74-2d738b5c3728')\"\n",
              "              title=\"Convert this dataframe to an interactive table.\"\n",
              "              style=\"display:none;\">\n",
              "        \n",
              "  <svg xmlns=\"http://www.w3.org/2000/svg\" height=\"24px\"viewBox=\"0 0 24 24\"\n",
              "       width=\"24px\">\n",
              "    <path d=\"M0 0h24v24H0V0z\" fill=\"none\"/>\n",
              "    <path d=\"M18.56 5.44l.94 2.06.94-2.06 2.06-.94-2.06-.94-.94-2.06-.94 2.06-2.06.94zm-11 1L8.5 8.5l.94-2.06 2.06-.94-2.06-.94L8.5 2.5l-.94 2.06-2.06.94zm10 10l.94 2.06.94-2.06 2.06-.94-2.06-.94-.94-2.06-.94 2.06-2.06.94z\"/><path d=\"M17.41 7.96l-1.37-1.37c-.4-.4-.92-.59-1.43-.59-.52 0-1.04.2-1.43.59L10.3 9.45l-7.72 7.72c-.78.78-.78 2.05 0 2.83L4 21.41c.39.39.9.59 1.41.59.51 0 1.02-.2 1.41-.59l7.78-7.78 2.81-2.81c.8-.78.8-2.07 0-2.86zM5.41 20L4 18.59l7.72-7.72 1.47 1.35L5.41 20z\"/>\n",
              "  </svg>\n",
              "      </button>\n",
              "      \n",
              "  <style>\n",
              "    .colab-df-container {\n",
              "      display:flex;\n",
              "      flex-wrap:wrap;\n",
              "      gap: 12px;\n",
              "    }\n",
              "\n",
              "    .colab-df-convert {\n",
              "      background-color: #E8F0FE;\n",
              "      border: none;\n",
              "      border-radius: 50%;\n",
              "      cursor: pointer;\n",
              "      display: none;\n",
              "      fill: #1967D2;\n",
              "      height: 32px;\n",
              "      padding: 0 0 0 0;\n",
              "      width: 32px;\n",
              "    }\n",
              "\n",
              "    .colab-df-convert:hover {\n",
              "      background-color: #E2EBFA;\n",
              "      box-shadow: 0px 1px 2px rgba(60, 64, 67, 0.3), 0px 1px 3px 1px rgba(60, 64, 67, 0.15);\n",
              "      fill: #174EA6;\n",
              "    }\n",
              "\n",
              "    [theme=dark] .colab-df-convert {\n",
              "      background-color: #3B4455;\n",
              "      fill: #D2E3FC;\n",
              "    }\n",
              "\n",
              "    [theme=dark] .colab-df-convert:hover {\n",
              "      background-color: #434B5C;\n",
              "      box-shadow: 0px 1px 3px 1px rgba(0, 0, 0, 0.15);\n",
              "      filter: drop-shadow(0px 1px 2px rgba(0, 0, 0, 0.3));\n",
              "      fill: #FFFFFF;\n",
              "    }\n",
              "  </style>\n",
              "\n",
              "      <script>\n",
              "        const buttonEl =\n",
              "          document.querySelector('#df-6a048754-9768-48d2-8f74-2d738b5c3728 button.colab-df-convert');\n",
              "        buttonEl.style.display =\n",
              "          google.colab.kernel.accessAllowed ? 'block' : 'none';\n",
              "\n",
              "        async function convertToInteractive(key) {\n",
              "          const element = document.querySelector('#df-6a048754-9768-48d2-8f74-2d738b5c3728');\n",
              "          const dataTable =\n",
              "            await google.colab.kernel.invokeFunction('convertToInteractive',\n",
              "                                                     [key], {});\n",
              "          if (!dataTable) return;\n",
              "\n",
              "          const docLinkHtml = 'Like what you see? Visit the ' +\n",
              "            '<a target=\"_blank\" href=https://colab.research.google.com/notebooks/data_table.ipynb>data table notebook</a>'\n",
              "            + ' to learn more about interactive tables.';\n",
              "          element.innerHTML = '';\n",
              "          dataTable['output_type'] = 'display_data';\n",
              "          await google.colab.output.renderOutput(dataTable, element);\n",
              "          const docLink = document.createElement('div');\n",
              "          docLink.innerHTML = docLinkHtml;\n",
              "          element.appendChild(docLink);\n",
              "        }\n",
              "      </script>\n",
              "    </div>\n",
              "  </div>\n",
              "  "
            ]
          },
          "metadata": {},
          "execution_count": 67
        }
      ]
    },
    {
      "cell_type": "markdown",
      "source": [
        "**Observations and Insights:**\n",
        "The corrected_ratings values are a bit lower than the predicted_rating values since the playing frequency of the songs have been taken into account.\n",
        "\n",
        "### **5.Cluster Based Recommendation System**\n",
        "\n",
        "In **clustering-based recommendation systems**, we explore the **similarities and differences** in people's tastes in songs based on how they rate different songs. We cluster similar users together and recommend songs to a user based on play_counts from other users in the same cluster."
      ],
      "metadata": {
        "id": "w7rZuCeZp6Ap"
      }
    },
    {
      "cell_type": "code",
      "source": [
        "# Make baseline clustering model\n",
        "# Using CoClustering algorithm\n",
        "clust_baseline = CoClustering(random_state = 1)\n",
        "\n",
        "# Training the algorithm on the train set\n",
        "clust_baseline.fit(trainset)\n",
        "\n",
        "# Let us compute precision@k, recall@k, and F_1 score with k = 10\n",
        "precision_recall_at_k(clust_baseline)"
      ],
      "metadata": {
        "colab": {
          "base_uri": "https://localhost:8080/"
        },
        "id": "Nj65KYi1p23t",
        "outputId": "010b6e8b-3038-4541-a7dc-08c3e2263f91"
      },
      "execution_count": null,
      "outputs": [
        {
          "output_type": "stream",
          "name": "stdout",
          "text": [
            "RMSE: 1.0487\n",
            "Precision:  0.397\n",
            "Recall:  0.582\n",
            "F_1 score:  0.472\n"
          ]
        }
      ]
    },
    {
      "cell_type": "code",
      "source": [
        "# Making prediction for user_id 6958 and song_id 1671\n",
        "clust_baseline.predict(6958, 1671, r_ui = 2, verbose = True)"
      ],
      "metadata": {
        "colab": {
          "base_uri": "https://localhost:8080/"
        },
        "id": "oKBz14Wbq4P7",
        "outputId": "e8f2df68-1623-4e41-9fa3-26fb101484e6"
      },
      "execution_count": null,
      "outputs": [
        {
          "output_type": "stream",
          "name": "stdout",
          "text": [
            "user: 6958       item: 1671       r_ui = 2.00   est = 1.29   {'was_impossible': False}\n"
          ]
        },
        {
          "output_type": "execute_result",
          "data": {
            "text/plain": [
              "Prediction(uid=6958, iid=1671, r_ui=2, est=1.2941824757363074, details={'was_impossible': False})"
            ]
          },
          "metadata": {},
          "execution_count": 57
        }
      ]
    },
    {
      "cell_type": "code",
      "source": [
        "# Making prediction for user (userid 6958) for a song(song_id 3232) not heard by the user\n",
        "clust_baseline.predict(6958, 3232, verbose = True)"
      ],
      "metadata": {
        "colab": {
          "base_uri": "https://localhost:8080/"
        },
        "id": "Ai26fPh1q6cG",
        "outputId": "c24c7046-c51c-43b1-c9e5-7ebc50cdd4eb"
      },
      "execution_count": null,
      "outputs": [
        {
          "output_type": "stream",
          "name": "stdout",
          "text": [
            "user: 6958       item: 3232       r_ui = None   est = 1.48   {'was_impossible': False}\n"
          ]
        },
        {
          "output_type": "execute_result",
          "data": {
            "text/plain": [
              "Prediction(uid=6958, iid=3232, r_ui=None, est=1.4785259100797417, details={'was_impossible': False})"
            ]
          },
          "metadata": {},
          "execution_count": 58
        }
      ]
    },
    {
      "cell_type": "markdown",
      "source": [
        "#### Improving clustering-based recommendation system by tuning its hyper-parameters"
      ],
      "metadata": {
        "id": "qaFIWaIhrFeA"
      }
    },
    {
      "cell_type": "code",
      "source": [
        "# Set the parameter space to tune\n",
        "param_grid = {'n_cltr_u': [5, 6, 7, 8], 'n_cltr_i': [5, 6, 7, 8], 'n_epochs': [10, 20, 30]}\n",
        "\n",
        "# Performing 3-fold grid search cross-validation\n",
        "gs = GridSearchCV(CoClustering, param_grid, measures = ['rmse'], cv = 3, n_jobs = -1)\n",
        "\n",
        "# Fitting data\n",
        "gs.fit(data)\n",
        "\n",
        "# Printing the best RMSE score\n",
        "print(gs.best_score['rmse'])\n",
        "\n",
        "# Printing the combination of parameters that gives the best RMSE score\n",
        "print(gs.best_params['rmse'])"
      ],
      "metadata": {
        "colab": {
          "base_uri": "https://localhost:8080/"
        },
        "id": "xlh5Dd9brNhf",
        "outputId": "95b2f248-9ffd-4f10-c731-6704aa4907cc"
      },
      "execution_count": null,
      "outputs": [
        {
          "output_type": "stream",
          "name": "stdout",
          "text": [
            "1.060148717862498\n",
            "{'n_cltr_u': 5, 'n_cltr_i': 5, 'n_epochs': 20}\n"
          ]
        }
      ]
    },
    {
      "cell_type": "markdown",
      "source": [
        "**Think About It**: How do the parameters affect the performance of the model? Can we improve the performance of the model further? Check the available hyperparameters [here](https://surprise.readthedocs.io/en/stable/co_clustering.html).\n",
        "\n",
        "The main parameters tuned here are,\n",
        "- n_cltr_u (int) – Number of user clusters. Default is 3.\n",
        "\n",
        "- n_cltr_i (int) – Number of item clusters. Default is 3.\n",
        "\n",
        "- n_epochs (int) – Number of iteration of the optimization loop. Default is 20.\n",
        "\n",
        "We will used the parameter values found above to tune the model."
      ],
      "metadata": {
        "id": "veNdaI5YrY8O"
      }
    },
    {
      "cell_type": "code",
      "source": [
        "# Train the tuned Coclustering algorithm\n",
        "# Using tuned Coclustering algorithm\n",
        "clust_tuned = CoClustering(n_cltr_u = 5, n_cltr_i = 5, n_epochs = 10, random_state = 1)\n",
        "\n",
        "# Training the algorithm on the train set\n",
        "clust_tuned.fit(trainset)\n",
        "\n",
        "# Let us compute precision@k, recall@k, and F_1 score with k = 10\n",
        "precision_recall_at_k(clust_tuned)"
      ],
      "metadata": {
        "colab": {
          "base_uri": "https://localhost:8080/"
        },
        "id": "D12nQm7ercW0",
        "outputId": "23bcf61d-c8b8-4cb8-a8d6-b3594906365e"
      },
      "execution_count": null,
      "outputs": [
        {
          "output_type": "stream",
          "name": "stdout",
          "text": [
            "RMSE: 1.0654\n",
            "Precision:  0.394\n",
            "Recall:  0.566\n",
            "F_1 score:  0.465\n"
          ]
        }
      ]
    },
    {
      "cell_type": "markdown",
      "source": [
        "**Observations and Insights:**\n",
        "\n",
        "We can see that the F_1 score for tuned co-clustering model is slightly lower than the F_1 score for the baseline Co-clustering model."
      ],
      "metadata": {
        "id": "L83dNEqWrmNM"
      }
    },
    {
      "cell_type": "code",
      "source": [
        "# Using co_clustering_optimized model to recommend for userId 6958 and song_id 1671\n",
        "clust_tuned.predict(6958, 1671, r_ui = 2, verbose = True)"
      ],
      "metadata": {
        "colab": {
          "base_uri": "https://localhost:8080/"
        },
        "id": "fRCRd6YYrwwj",
        "outputId": "23b3f5b2-d1ce-4e47-8fa2-fc1c482d65b2"
      },
      "execution_count": null,
      "outputs": [
        {
          "output_type": "stream",
          "name": "stdout",
          "text": [
            "user: 6958       item: 1671       r_ui = 2.00   est = 1.91   {'was_impossible': False}\n"
          ]
        },
        {
          "output_type": "execute_result",
          "data": {
            "text/plain": [
              "Prediction(uid=6958, iid=1671, r_ui=2, est=1.9108882530486497, details={'was_impossible': False})"
            ]
          },
          "metadata": {},
          "execution_count": 61
        }
      ]
    },
    {
      "cell_type": "code",
      "source": [
        "# Use Co_clustering based optimized model to recommend for userId 6958 and song_id 3232 with unknown baseline rating\n",
        "clust_tuned.predict(6958, 3232, verbose = True)"
      ],
      "metadata": {
        "colab": {
          "base_uri": "https://localhost:8080/"
        },
        "id": "vLvBeuodr7bU",
        "outputId": "a3a56f3b-1047-4309-ef9d-62c6da04707d"
      },
      "execution_count": null,
      "outputs": [
        {
          "output_type": "stream",
          "name": "stdout",
          "text": [
            "user: 6958       item: 3232       r_ui = None   est = 1.24   {'was_impossible': False}\n"
          ]
        },
        {
          "output_type": "execute_result",
          "data": {
            "text/plain": [
              "Prediction(uid=6958, iid=3232, r_ui=None, est=1.2366916027865822, details={'was_impossible': False})"
            ]
          },
          "metadata": {},
          "execution_count": 62
        }
      ]
    },
    {
      "cell_type": "markdown",
      "source": [
        "**Observations and Insights:** The predicted play count is very close to the actual play count. **The Co-clustering based optimized model gives better results.**\n",
        "\n",
        "#### Implementing the recommendation algorithm based on optimized CoClustering model"
      ],
      "metadata": {
        "id": "9ZHPA7lGsCYw"
      }
    },
    {
      "cell_type": "code",
      "source": [
        "# Getting top 5 recommendations for user_id 6958 using \"Co-clustering based optimized\" algorithm\n",
        "clustering_recommendations = get_recommendations(df_final, 6958, 1671, clust_tuned)"
      ],
      "metadata": {
        "id": "i8TrschitPhm"
      },
      "execution_count": null,
      "outputs": []
    },
    {
      "cell_type": "markdown",
      "source": [
        "### Correcting the play_count and Ranking the above songs\n"
      ],
      "metadata": {
        "id": "-pTstlM4taS_"
      }
    },
    {
      "cell_type": "code",
      "source": [
        "# Ranking songs based on the above recommendations\n",
        "ranking_songs(clustering_recommendations, final_play).head()"
      ],
      "metadata": {
        "id": "_NFw0-z8tTh-",
        "colab": {
          "base_uri": "https://localhost:8080/",
          "height": 206
        },
        "outputId": "41a77af2-766a-41f3-ab03-d6b79de7ead4"
      },
      "execution_count": null,
      "outputs": [
        {
          "output_type": "execute_result",
          "data": {
            "text/plain": [
              "     song_id  play_freq  predicted_ratings  corrected_ratings\n",
              "514     7224        107           3.711503           3.614829\n",
              "513     5653        108           2.903883           2.807658\n",
              "245     6860        169           2.691043           2.614120\n",
              "303      657        151           2.606354           2.524975\n",
              "424     8483        123           2.582807           2.492640"
            ],
            "text/html": [
              "\n",
              "  <div id=\"df-a351d83b-eae9-4511-be9b-0275863751b4\">\n",
              "    <div class=\"colab-df-container\">\n",
              "      <div>\n",
              "<style scoped>\n",
              "    .dataframe tbody tr th:only-of-type {\n",
              "        vertical-align: middle;\n",
              "    }\n",
              "\n",
              "    .dataframe tbody tr th {\n",
              "        vertical-align: top;\n",
              "    }\n",
              "\n",
              "    .dataframe thead th {\n",
              "        text-align: right;\n",
              "    }\n",
              "</style>\n",
              "<table border=\"1\" class=\"dataframe\">\n",
              "  <thead>\n",
              "    <tr style=\"text-align: right;\">\n",
              "      <th></th>\n",
              "      <th>song_id</th>\n",
              "      <th>play_freq</th>\n",
              "      <th>predicted_ratings</th>\n",
              "      <th>corrected_ratings</th>\n",
              "    </tr>\n",
              "  </thead>\n",
              "  <tbody>\n",
              "    <tr>\n",
              "      <th>514</th>\n",
              "      <td>7224</td>\n",
              "      <td>107</td>\n",
              "      <td>3.711503</td>\n",
              "      <td>3.614829</td>\n",
              "    </tr>\n",
              "    <tr>\n",
              "      <th>513</th>\n",
              "      <td>5653</td>\n",
              "      <td>108</td>\n",
              "      <td>2.903883</td>\n",
              "      <td>2.807658</td>\n",
              "    </tr>\n",
              "    <tr>\n",
              "      <th>245</th>\n",
              "      <td>6860</td>\n",
              "      <td>169</td>\n",
              "      <td>2.691043</td>\n",
              "      <td>2.614120</td>\n",
              "    </tr>\n",
              "    <tr>\n",
              "      <th>303</th>\n",
              "      <td>657</td>\n",
              "      <td>151</td>\n",
              "      <td>2.606354</td>\n",
              "      <td>2.524975</td>\n",
              "    </tr>\n",
              "    <tr>\n",
              "      <th>424</th>\n",
              "      <td>8483</td>\n",
              "      <td>123</td>\n",
              "      <td>2.582807</td>\n",
              "      <td>2.492640</td>\n",
              "    </tr>\n",
              "  </tbody>\n",
              "</table>\n",
              "</div>\n",
              "      <button class=\"colab-df-convert\" onclick=\"convertToInteractive('df-a351d83b-eae9-4511-be9b-0275863751b4')\"\n",
              "              title=\"Convert this dataframe to an interactive table.\"\n",
              "              style=\"display:none;\">\n",
              "        \n",
              "  <svg xmlns=\"http://www.w3.org/2000/svg\" height=\"24px\"viewBox=\"0 0 24 24\"\n",
              "       width=\"24px\">\n",
              "    <path d=\"M0 0h24v24H0V0z\" fill=\"none\"/>\n",
              "    <path d=\"M18.56 5.44l.94 2.06.94-2.06 2.06-.94-2.06-.94-.94-2.06-.94 2.06-2.06.94zm-11 1L8.5 8.5l.94-2.06 2.06-.94-2.06-.94L8.5 2.5l-.94 2.06-2.06.94zm10 10l.94 2.06.94-2.06 2.06-.94-2.06-.94-.94-2.06-.94 2.06-2.06.94z\"/><path d=\"M17.41 7.96l-1.37-1.37c-.4-.4-.92-.59-1.43-.59-.52 0-1.04.2-1.43.59L10.3 9.45l-7.72 7.72c-.78.78-.78 2.05 0 2.83L4 21.41c.39.39.9.59 1.41.59.51 0 1.02-.2 1.41-.59l7.78-7.78 2.81-2.81c.8-.78.8-2.07 0-2.86zM5.41 20L4 18.59l7.72-7.72 1.47 1.35L5.41 20z\"/>\n",
              "  </svg>\n",
              "      </button>\n",
              "      \n",
              "  <style>\n",
              "    .colab-df-container {\n",
              "      display:flex;\n",
              "      flex-wrap:wrap;\n",
              "      gap: 12px;\n",
              "    }\n",
              "\n",
              "    .colab-df-convert {\n",
              "      background-color: #E8F0FE;\n",
              "      border: none;\n",
              "      border-radius: 50%;\n",
              "      cursor: pointer;\n",
              "      display: none;\n",
              "      fill: #1967D2;\n",
              "      height: 32px;\n",
              "      padding: 0 0 0 0;\n",
              "      width: 32px;\n",
              "    }\n",
              "\n",
              "    .colab-df-convert:hover {\n",
              "      background-color: #E2EBFA;\n",
              "      box-shadow: 0px 1px 2px rgba(60, 64, 67, 0.3), 0px 1px 3px 1px rgba(60, 64, 67, 0.15);\n",
              "      fill: #174EA6;\n",
              "    }\n",
              "\n",
              "    [theme=dark] .colab-df-convert {\n",
              "      background-color: #3B4455;\n",
              "      fill: #D2E3FC;\n",
              "    }\n",
              "\n",
              "    [theme=dark] .colab-df-convert:hover {\n",
              "      background-color: #434B5C;\n",
              "      box-shadow: 0px 1px 3px 1px rgba(0, 0, 0, 0.15);\n",
              "      filter: drop-shadow(0px 1px 2px rgba(0, 0, 0, 0.3));\n",
              "      fill: #FFFFFF;\n",
              "    }\n",
              "  </style>\n",
              "\n",
              "      <script>\n",
              "        const buttonEl =\n",
              "          document.querySelector('#df-a351d83b-eae9-4511-be9b-0275863751b4 button.colab-df-convert');\n",
              "        buttonEl.style.display =\n",
              "          google.colab.kernel.accessAllowed ? 'block' : 'none';\n",
              "\n",
              "        async function convertToInteractive(key) {\n",
              "          const element = document.querySelector('#df-a351d83b-eae9-4511-be9b-0275863751b4');\n",
              "          const dataTable =\n",
              "            await google.colab.kernel.invokeFunction('convertToInteractive',\n",
              "                                                     [key], {});\n",
              "          if (!dataTable) return;\n",
              "\n",
              "          const docLinkHtml = 'Like what you see? Visit the ' +\n",
              "            '<a target=\"_blank\" href=https://colab.research.google.com/notebooks/data_table.ipynb>data table notebook</a>'\n",
              "            + ' to learn more about interactive tables.';\n",
              "          element.innerHTML = '';\n",
              "          dataTable['output_type'] = 'display_data';\n",
              "          await google.colab.output.renderOutput(dataTable, element);\n",
              "          const docLink = document.createElement('div');\n",
              "          docLink.innerHTML = docLinkHtml;\n",
              "          element.appendChild(docLink);\n",
              "        }\n",
              "      </script>\n",
              "    </div>\n",
              "  </div>\n",
              "  "
            ]
          },
          "metadata": {},
          "execution_count": 65
        }
      ]
    },
    {
      "cell_type": "markdown",
      "source": [
        "**Observations and Insights:**\n",
        "\n",
        "The corrected_ratings values are a bit lower than the predicted_rating values since the playing frequency of the songs have been taken into account.\n",
        "\n",
        "However, the ratings with this model are higher than those predicted with the previous models.\n",
        "\n",
        "### **6.Content Based Recommendation Systems**\n",
        "\n",
        "**Think About It:** So far we have only used the play_count of songs to find recommendations but we have other information/features on songs as well. Can we take those song features into account?\n",
        "\n",
        "Yes, we can use text information such as the artist, title etc to recommend songs."
      ],
      "metadata": {
        "id": "YBBD3xh-tozc"
      }
    },
    {
      "cell_type": "code",
      "source": [
        "df_small = df_final"
      ],
      "metadata": {
        "id": "bxIj-P2YuvwK"
      },
      "execution_count": null,
      "outputs": []
    },
    {
      "cell_type": "code",
      "source": [
        "# Concatenate the \"title\", \"release\", \"artist_name\" columns to create a different column named \"text\"\n",
        "df_small['text']= df_small['title'] + ' ' + df_small['release'] + ' ' + df_small['artist_name']\n",
        "\n",
        "df_small.head()"
      ],
      "metadata": {
        "colab": {
          "base_uri": "https://localhost:8080/",
          "height": 206
        },
        "id": "MSbGItSVu3LK",
        "outputId": "415737ac-31c7-4b6a-a8b1-2b52c358464b"
      },
      "execution_count": null,
      "outputs": [
        {
          "output_type": "execute_result",
          "data": {
            "text/plain": [
              "     user_id  song_id  play_count                            title  \\\n",
              "200     6958      447           1               Daisy And Prudence   \n",
              "202     6958      512           1  The Ballad of Michael Valentine   \n",
              "203     6958      549           1        I Stand Corrected (Album)   \n",
              "204     6958      703           1            They Might Follow You   \n",
              "205     6958      719           1                       Monkey Man   \n",
              "\n",
              "                  release      artist_name  year  \\\n",
              "200          Distillation     Erin McKeown  2000   \n",
              "202               Sawdust      The Killers  2004   \n",
              "203       Vampire Weekend  Vampire Weekend  2007   \n",
              "204           Tiny Vipers      Tiny Vipers  2007   \n",
              "205  You Know I'm No Good    Amy Winehouse  2007   \n",
              "\n",
              "                                                  text  \n",
              "200       Daisy And Prudence Distillation Erin McKeown  \n",
              "202  The Ballad of Michael Valentine Sawdust The Ki...  \n",
              "203  I Stand Corrected (Album) Vampire Weekend Vamp...  \n",
              "204      They Might Follow You Tiny Vipers Tiny Vipers  \n",
              "205      Monkey Man You Know I'm No Good Amy Winehouse  "
            ],
            "text/html": [
              "\n",
              "  <div id=\"df-f76d119e-c42c-4165-9b81-1f8c46316ca5\">\n",
              "    <div class=\"colab-df-container\">\n",
              "      <div>\n",
              "<style scoped>\n",
              "    .dataframe tbody tr th:only-of-type {\n",
              "        vertical-align: middle;\n",
              "    }\n",
              "\n",
              "    .dataframe tbody tr th {\n",
              "        vertical-align: top;\n",
              "    }\n",
              "\n",
              "    .dataframe thead th {\n",
              "        text-align: right;\n",
              "    }\n",
              "</style>\n",
              "<table border=\"1\" class=\"dataframe\">\n",
              "  <thead>\n",
              "    <tr style=\"text-align: right;\">\n",
              "      <th></th>\n",
              "      <th>user_id</th>\n",
              "      <th>song_id</th>\n",
              "      <th>play_count</th>\n",
              "      <th>title</th>\n",
              "      <th>release</th>\n",
              "      <th>artist_name</th>\n",
              "      <th>year</th>\n",
              "      <th>text</th>\n",
              "    </tr>\n",
              "  </thead>\n",
              "  <tbody>\n",
              "    <tr>\n",
              "      <th>200</th>\n",
              "      <td>6958</td>\n",
              "      <td>447</td>\n",
              "      <td>1</td>\n",
              "      <td>Daisy And Prudence</td>\n",
              "      <td>Distillation</td>\n",
              "      <td>Erin McKeown</td>\n",
              "      <td>2000</td>\n",
              "      <td>Daisy And Prudence Distillation Erin McKeown</td>\n",
              "    </tr>\n",
              "    <tr>\n",
              "      <th>202</th>\n",
              "      <td>6958</td>\n",
              "      <td>512</td>\n",
              "      <td>1</td>\n",
              "      <td>The Ballad of Michael Valentine</td>\n",
              "      <td>Sawdust</td>\n",
              "      <td>The Killers</td>\n",
              "      <td>2004</td>\n",
              "      <td>The Ballad of Michael Valentine Sawdust The Ki...</td>\n",
              "    </tr>\n",
              "    <tr>\n",
              "      <th>203</th>\n",
              "      <td>6958</td>\n",
              "      <td>549</td>\n",
              "      <td>1</td>\n",
              "      <td>I Stand Corrected (Album)</td>\n",
              "      <td>Vampire Weekend</td>\n",
              "      <td>Vampire Weekend</td>\n",
              "      <td>2007</td>\n",
              "      <td>I Stand Corrected (Album) Vampire Weekend Vamp...</td>\n",
              "    </tr>\n",
              "    <tr>\n",
              "      <th>204</th>\n",
              "      <td>6958</td>\n",
              "      <td>703</td>\n",
              "      <td>1</td>\n",
              "      <td>They Might Follow You</td>\n",
              "      <td>Tiny Vipers</td>\n",
              "      <td>Tiny Vipers</td>\n",
              "      <td>2007</td>\n",
              "      <td>They Might Follow You Tiny Vipers Tiny Vipers</td>\n",
              "    </tr>\n",
              "    <tr>\n",
              "      <th>205</th>\n",
              "      <td>6958</td>\n",
              "      <td>719</td>\n",
              "      <td>1</td>\n",
              "      <td>Monkey Man</td>\n",
              "      <td>You Know I'm No Good</td>\n",
              "      <td>Amy Winehouse</td>\n",
              "      <td>2007</td>\n",
              "      <td>Monkey Man You Know I'm No Good Amy Winehouse</td>\n",
              "    </tr>\n",
              "  </tbody>\n",
              "</table>\n",
              "</div>\n",
              "      <button class=\"colab-df-convert\" onclick=\"convertToInteractive('df-f76d119e-c42c-4165-9b81-1f8c46316ca5')\"\n",
              "              title=\"Convert this dataframe to an interactive table.\"\n",
              "              style=\"display:none;\">\n",
              "        \n",
              "  <svg xmlns=\"http://www.w3.org/2000/svg\" height=\"24px\"viewBox=\"0 0 24 24\"\n",
              "       width=\"24px\">\n",
              "    <path d=\"M0 0h24v24H0V0z\" fill=\"none\"/>\n",
              "    <path d=\"M18.56 5.44l.94 2.06.94-2.06 2.06-.94-2.06-.94-.94-2.06-.94 2.06-2.06.94zm-11 1L8.5 8.5l.94-2.06 2.06-.94-2.06-.94L8.5 2.5l-.94 2.06-2.06.94zm10 10l.94 2.06.94-2.06 2.06-.94-2.06-.94-.94-2.06-.94 2.06-2.06.94z\"/><path d=\"M17.41 7.96l-1.37-1.37c-.4-.4-.92-.59-1.43-.59-.52 0-1.04.2-1.43.59L10.3 9.45l-7.72 7.72c-.78.78-.78 2.05 0 2.83L4 21.41c.39.39.9.59 1.41.59.51 0 1.02-.2 1.41-.59l7.78-7.78 2.81-2.81c.8-.78.8-2.07 0-2.86zM5.41 20L4 18.59l7.72-7.72 1.47 1.35L5.41 20z\"/>\n",
              "  </svg>\n",
              "      </button>\n",
              "      \n",
              "  <style>\n",
              "    .colab-df-container {\n",
              "      display:flex;\n",
              "      flex-wrap:wrap;\n",
              "      gap: 12px;\n",
              "    }\n",
              "\n",
              "    .colab-df-convert {\n",
              "      background-color: #E8F0FE;\n",
              "      border: none;\n",
              "      border-radius: 50%;\n",
              "      cursor: pointer;\n",
              "      display: none;\n",
              "      fill: #1967D2;\n",
              "      height: 32px;\n",
              "      padding: 0 0 0 0;\n",
              "      width: 32px;\n",
              "    }\n",
              "\n",
              "    .colab-df-convert:hover {\n",
              "      background-color: #E2EBFA;\n",
              "      box-shadow: 0px 1px 2px rgba(60, 64, 67, 0.3), 0px 1px 3px 1px rgba(60, 64, 67, 0.15);\n",
              "      fill: #174EA6;\n",
              "    }\n",
              "\n",
              "    [theme=dark] .colab-df-convert {\n",
              "      background-color: #3B4455;\n",
              "      fill: #D2E3FC;\n",
              "    }\n",
              "\n",
              "    [theme=dark] .colab-df-convert:hover {\n",
              "      background-color: #434B5C;\n",
              "      box-shadow: 0px 1px 3px 1px rgba(0, 0, 0, 0.15);\n",
              "      filter: drop-shadow(0px 1px 2px rgba(0, 0, 0, 0.3));\n",
              "      fill: #FFFFFF;\n",
              "    }\n",
              "  </style>\n",
              "\n",
              "      <script>\n",
              "        const buttonEl =\n",
              "          document.querySelector('#df-f76d119e-c42c-4165-9b81-1f8c46316ca5 button.colab-df-convert');\n",
              "        buttonEl.style.display =\n",
              "          google.colab.kernel.accessAllowed ? 'block' : 'none';\n",
              "\n",
              "        async function convertToInteractive(key) {\n",
              "          const element = document.querySelector('#df-f76d119e-c42c-4165-9b81-1f8c46316ca5');\n",
              "          const dataTable =\n",
              "            await google.colab.kernel.invokeFunction('convertToInteractive',\n",
              "                                                     [key], {});\n",
              "          if (!dataTable) return;\n",
              "\n",
              "          const docLinkHtml = 'Like what you see? Visit the ' +\n",
              "            '<a target=\"_blank\" href=https://colab.research.google.com/notebooks/data_table.ipynb>data table notebook</a>'\n",
              "            + ' to learn more about interactive tables.';\n",
              "          element.innerHTML = '';\n",
              "          dataTable['output_type'] = 'display_data';\n",
              "          await google.colab.output.renderOutput(dataTable, element);\n",
              "          const docLink = document.createElement('div');\n",
              "          docLink.innerHTML = docLinkHtml;\n",
              "          element.appendChild(docLink);\n",
              "        }\n",
              "      </script>\n",
              "    </div>\n",
              "  </div>\n",
              "  "
            ]
          },
          "metadata": {},
          "execution_count": 77
        }
      ]
    },
    {
      "cell_type": "code",
      "source": [
        "# Select the columns 'user_id', 'song_id', 'play_count', 'title', 'text' from df_small data\n",
        "df_small=df_small[['user_id', 'song_id', 'play_count', 'title', 'text']]\n",
        "# Drop the duplicates from the title column\n",
        "df_small = df_small.drop_duplicates(subset = ['title'])\n",
        "# Set the title column as the index\n",
        "df_small= df_small.set_index('title')\n",
        "# See the first 5 records of the df_small dataset\n",
        "df_small.head()"
      ],
      "metadata": {
        "colab": {
          "base_uri": "https://localhost:8080/",
          "height": 238
        },
        "id": "Kkdj-CV_vARa",
        "outputId": "5ac73336-c6ce-48e6-988f-1dcd248e6c15"
      },
      "execution_count": null,
      "outputs": [
        {
          "output_type": "execute_result",
          "data": {
            "text/plain": [
              "                                 user_id  song_id  play_count  \\\n",
              "title                                                           \n",
              "Daisy And Prudence                  6958      447           1   \n",
              "The Ballad of Michael Valentine     6958      512           1   \n",
              "I Stand Corrected (Album)           6958      549           1   \n",
              "They Might Follow You               6958      703           1   \n",
              "Monkey Man                          6958      719           1   \n",
              "\n",
              "                                                                              text  \n",
              "title                                                                               \n",
              "Daisy And Prudence                    Daisy And Prudence Distillation Erin McKeown  \n",
              "The Ballad of Michael Valentine  The Ballad of Michael Valentine Sawdust The Ki...  \n",
              "I Stand Corrected (Album)        I Stand Corrected (Album) Vampire Weekend Vamp...  \n",
              "They Might Follow You                They Might Follow You Tiny Vipers Tiny Vipers  \n",
              "Monkey Man                           Monkey Man You Know I'm No Good Amy Winehouse  "
            ],
            "text/html": [
              "\n",
              "  <div id=\"df-0d7bb7d6-613d-4673-860a-f622b469381d\">\n",
              "    <div class=\"colab-df-container\">\n",
              "      <div>\n",
              "<style scoped>\n",
              "    .dataframe tbody tr th:only-of-type {\n",
              "        vertical-align: middle;\n",
              "    }\n",
              "\n",
              "    .dataframe tbody tr th {\n",
              "        vertical-align: top;\n",
              "    }\n",
              "\n",
              "    .dataframe thead th {\n",
              "        text-align: right;\n",
              "    }\n",
              "</style>\n",
              "<table border=\"1\" class=\"dataframe\">\n",
              "  <thead>\n",
              "    <tr style=\"text-align: right;\">\n",
              "      <th></th>\n",
              "      <th>user_id</th>\n",
              "      <th>song_id</th>\n",
              "      <th>play_count</th>\n",
              "      <th>text</th>\n",
              "    </tr>\n",
              "    <tr>\n",
              "      <th>title</th>\n",
              "      <th></th>\n",
              "      <th></th>\n",
              "      <th></th>\n",
              "      <th></th>\n",
              "    </tr>\n",
              "  </thead>\n",
              "  <tbody>\n",
              "    <tr>\n",
              "      <th>Daisy And Prudence</th>\n",
              "      <td>6958</td>\n",
              "      <td>447</td>\n",
              "      <td>1</td>\n",
              "      <td>Daisy And Prudence Distillation Erin McKeown</td>\n",
              "    </tr>\n",
              "    <tr>\n",
              "      <th>The Ballad of Michael Valentine</th>\n",
              "      <td>6958</td>\n",
              "      <td>512</td>\n",
              "      <td>1</td>\n",
              "      <td>The Ballad of Michael Valentine Sawdust The Ki...</td>\n",
              "    </tr>\n",
              "    <tr>\n",
              "      <th>I Stand Corrected (Album)</th>\n",
              "      <td>6958</td>\n",
              "      <td>549</td>\n",
              "      <td>1</td>\n",
              "      <td>I Stand Corrected (Album) Vampire Weekend Vamp...</td>\n",
              "    </tr>\n",
              "    <tr>\n",
              "      <th>They Might Follow You</th>\n",
              "      <td>6958</td>\n",
              "      <td>703</td>\n",
              "      <td>1</td>\n",
              "      <td>They Might Follow You Tiny Vipers Tiny Vipers</td>\n",
              "    </tr>\n",
              "    <tr>\n",
              "      <th>Monkey Man</th>\n",
              "      <td>6958</td>\n",
              "      <td>719</td>\n",
              "      <td>1</td>\n",
              "      <td>Monkey Man You Know I'm No Good Amy Winehouse</td>\n",
              "    </tr>\n",
              "  </tbody>\n",
              "</table>\n",
              "</div>\n",
              "      <button class=\"colab-df-convert\" onclick=\"convertToInteractive('df-0d7bb7d6-613d-4673-860a-f622b469381d')\"\n",
              "              title=\"Convert this dataframe to an interactive table.\"\n",
              "              style=\"display:none;\">\n",
              "        \n",
              "  <svg xmlns=\"http://www.w3.org/2000/svg\" height=\"24px\"viewBox=\"0 0 24 24\"\n",
              "       width=\"24px\">\n",
              "    <path d=\"M0 0h24v24H0V0z\" fill=\"none\"/>\n",
              "    <path d=\"M18.56 5.44l.94 2.06.94-2.06 2.06-.94-2.06-.94-.94-2.06-.94 2.06-2.06.94zm-11 1L8.5 8.5l.94-2.06 2.06-.94-2.06-.94L8.5 2.5l-.94 2.06-2.06.94zm10 10l.94 2.06.94-2.06 2.06-.94-2.06-.94-.94-2.06-.94 2.06-2.06.94z\"/><path d=\"M17.41 7.96l-1.37-1.37c-.4-.4-.92-.59-1.43-.59-.52 0-1.04.2-1.43.59L10.3 9.45l-7.72 7.72c-.78.78-.78 2.05 0 2.83L4 21.41c.39.39.9.59 1.41.59.51 0 1.02-.2 1.41-.59l7.78-7.78 2.81-2.81c.8-.78.8-2.07 0-2.86zM5.41 20L4 18.59l7.72-7.72 1.47 1.35L5.41 20z\"/>\n",
              "  </svg>\n",
              "      </button>\n",
              "      \n",
              "  <style>\n",
              "    .colab-df-container {\n",
              "      display:flex;\n",
              "      flex-wrap:wrap;\n",
              "      gap: 12px;\n",
              "    }\n",
              "\n",
              "    .colab-df-convert {\n",
              "      background-color: #E8F0FE;\n",
              "      border: none;\n",
              "      border-radius: 50%;\n",
              "      cursor: pointer;\n",
              "      display: none;\n",
              "      fill: #1967D2;\n",
              "      height: 32px;\n",
              "      padding: 0 0 0 0;\n",
              "      width: 32px;\n",
              "    }\n",
              "\n",
              "    .colab-df-convert:hover {\n",
              "      background-color: #E2EBFA;\n",
              "      box-shadow: 0px 1px 2px rgba(60, 64, 67, 0.3), 0px 1px 3px 1px rgba(60, 64, 67, 0.15);\n",
              "      fill: #174EA6;\n",
              "    }\n",
              "\n",
              "    [theme=dark] .colab-df-convert {\n",
              "      background-color: #3B4455;\n",
              "      fill: #D2E3FC;\n",
              "    }\n",
              "\n",
              "    [theme=dark] .colab-df-convert:hover {\n",
              "      background-color: #434B5C;\n",
              "      box-shadow: 0px 1px 3px 1px rgba(0, 0, 0, 0.15);\n",
              "      filter: drop-shadow(0px 1px 2px rgba(0, 0, 0, 0.3));\n",
              "      fill: #FFFFFF;\n",
              "    }\n",
              "  </style>\n",
              "\n",
              "      <script>\n",
              "        const buttonEl =\n",
              "          document.querySelector('#df-0d7bb7d6-613d-4673-860a-f622b469381d button.colab-df-convert');\n",
              "        buttonEl.style.display =\n",
              "          google.colab.kernel.accessAllowed ? 'block' : 'none';\n",
              "\n",
              "        async function convertToInteractive(key) {\n",
              "          const element = document.querySelector('#df-0d7bb7d6-613d-4673-860a-f622b469381d');\n",
              "          const dataTable =\n",
              "            await google.colab.kernel.invokeFunction('convertToInteractive',\n",
              "                                                     [key], {});\n",
              "          if (!dataTable) return;\n",
              "\n",
              "          const docLinkHtml = 'Like what you see? Visit the ' +\n",
              "            '<a target=\"_blank\" href=https://colab.research.google.com/notebooks/data_table.ipynb>data table notebook</a>'\n",
              "            + ' to learn more about interactive tables.';\n",
              "          element.innerHTML = '';\n",
              "          dataTable['output_type'] = 'display_data';\n",
              "          await google.colab.output.renderOutput(dataTable, element);\n",
              "          const docLink = document.createElement('div');\n",
              "          docLink.innerHTML = docLinkHtml;\n",
              "          element.appendChild(docLink);\n",
              "        }\n",
              "      </script>\n",
              "    </div>\n",
              "  </div>\n",
              "  "
            ]
          },
          "metadata": {},
          "execution_count": 78
        }
      ]
    },
    {
      "cell_type": "code",
      "source": [
        "# Create the series of indices from the data\n",
        "indices = pd.Series(df_small.index)\n",
        "\n",
        "indices[ : 5]"
      ],
      "metadata": {
        "colab": {
          "base_uri": "https://localhost:8080/"
        },
        "id": "yg4Q-F0evRyq",
        "outputId": "45f64dd6-5722-43fd-e1ce-98a13c7ab788"
      },
      "execution_count": null,
      "outputs": [
        {
          "output_type": "execute_result",
          "data": {
            "text/plain": [
              "0                 Daisy And Prudence\n",
              "1    The Ballad of Michael Valentine\n",
              "2          I Stand Corrected (Album)\n",
              "3              They Might Follow You\n",
              "4                         Monkey Man\n",
              "Name: title, dtype: object"
            ]
          },
          "metadata": {},
          "execution_count": 79
        }
      ]
    },
    {
      "cell_type": "code",
      "source": [
        "# Importing necessary packages to work with text data\n",
        "import nltk\n",
        "nltk.download('omw-1.4')\n",
        "\n",
        "# Download punkt library\n",
        "nltk.download(\"punkt\")\n",
        "\n",
        "# Download stopwords library\n",
        "nltk.download(\"stopwords\")\n",
        "\n",
        "# Download wordnet\n",
        "nltk.download(\"wordnet\")\n",
        "\n",
        "# Import regular expression\n",
        "import re\n",
        "\n",
        "# Import word_tokenizer\n",
        "from nltk import word_tokenize\n",
        "\n",
        "# Import WordNetLemmatizer\n",
        "from nltk.stem import WordNetLemmatizer\n",
        "\n",
        "# Import stopwords\n",
        "from nltk.corpus import stopwords\n",
        "\n",
        "# Import CountVectorizer and TfidfVectorizer\n",
        "from sklearn.feature_extraction.text import CountVectorizer, TfidfVectorizer"
      ],
      "metadata": {
        "colab": {
          "base_uri": "https://localhost:8080/"
        },
        "id": "D-4rRB61vfr1",
        "outputId": "76e44a08-8f9b-4dd5-ad7c-84194648f1d2"
      },
      "execution_count": null,
      "outputs": [
        {
          "output_type": "stream",
          "name": "stderr",
          "text": [
            "[nltk_data] Downloading package omw-1.4 to /root/nltk_data...\n",
            "[nltk_data] Downloading package punkt to /root/nltk_data...\n",
            "[nltk_data]   Unzipping tokenizers/punkt.zip.\n",
            "[nltk_data] Downloading package stopwords to /root/nltk_data...\n",
            "[nltk_data]   Unzipping corpora/stopwords.zip.\n",
            "[nltk_data] Downloading package wordnet to /root/nltk_data...\n"
          ]
        }
      ]
    },
    {
      "cell_type": "markdown",
      "source": [
        "We will create a **function to pre-process the text data:**"
      ],
      "metadata": {
        "id": "ZKj7vh8Gv-9p"
      }
    },
    {
      "cell_type": "code",
      "source": [
        "# Function to tokenize the text\n",
        "def tokenize(text):\n",
        "\n",
        "    text = re.sub(r\"[^a-zA-Z]\",\" \", text.lower())\n",
        "\n",
        "    tokens = word_tokenize(text)\n",
        "\n",
        "    words = [word for word in tokens if word not in stopwords.words(\"english\")]  # Use stopwords of english\n",
        "\n",
        "    text_lems = [WordNetLemmatizer().lemmatize(lem).strip() for lem in words]\n",
        "\n",
        "    return text_lems"
      ],
      "metadata": {
        "id": "KxucSJV0wDZ_"
      },
      "execution_count": null,
      "outputs": []
    },
    {
      "cell_type": "code",
      "source": [
        "# Create tfidf vectorizer\n",
        "tfidf = TfidfVectorizer(tokenizer = tokenize)\n",
        "\n",
        "# Fit_transfrom the above vectorizer on the text column and then convert the output into an array\n",
        "song_tfidf = tfidf.fit_transform(df_small['text'].values).toarray()\n",
        "\n",
        "pd.DataFrame(song_tfidf)"
      ],
      "metadata": {
        "colab": {
          "base_uri": "https://localhost:8080/",
          "height": 424
        },
        "id": "BISm8CDYwMyP",
        "outputId": "6254a072-31e3-4ce0-9993-aeee9acfbf99"
      },
      "execution_count": null,
      "outputs": [
        {
          "output_type": "execute_result",
          "data": {
            "text/plain": [
              "     0     1     2     3     4     5     6     7     8     9     ...  1427  \\\n",
              "0     0.0   0.0   0.0   0.0   0.0   0.0   0.0   0.0   0.0   0.0  ...   0.0   \n",
              "1     0.0   0.0   0.0   0.0   0.0   0.0   0.0   0.0   0.0   0.0  ...   0.0   \n",
              "2     0.0   0.0   0.0   0.0   0.0   0.0   0.0   0.0   0.0   0.0  ...   0.0   \n",
              "3     0.0   0.0   0.0   0.0   0.0   0.0   0.0   0.0   0.0   0.0  ...   0.0   \n",
              "4     0.0   0.0   0.0   0.0   0.0   0.0   0.0   0.0   0.0   0.0  ...   0.0   \n",
              "..    ...   ...   ...   ...   ...   ...   ...   ...   ...   ...  ...   ...   \n",
              "556   0.0   0.0   0.0   0.0   0.0   0.0   0.0   0.0   0.0   0.0  ...   0.0   \n",
              "557   0.0   0.0   0.0   0.0   0.0   0.0   0.0   0.0   0.0   0.0  ...   0.0   \n",
              "558   0.0   0.0   0.0   0.0   0.0   0.0   0.0   0.0   0.0   0.0  ...   0.0   \n",
              "559   0.0   0.0   0.0   0.0   0.0   0.0   0.0   0.0   0.0   0.0  ...   0.0   \n",
              "560   0.0   0.0   0.0   0.0   0.0   0.0   0.0   0.0   0.0   0.0  ...   0.0   \n",
              "\n",
              "     1428  1429  1430  1431  1432  1433  1434  1435  1436  \n",
              "0     0.0   0.0   0.0   0.0   0.0   0.0   0.0   0.0   0.0  \n",
              "1     0.0   0.0   0.0   0.0   0.0   0.0   0.0   0.0   0.0  \n",
              "2     0.0   0.0   0.0   0.0   0.0   0.0   0.0   0.0   0.0  \n",
              "3     0.0   0.0   0.0   0.0   0.0   0.0   0.0   0.0   0.0  \n",
              "4     0.0   0.0   0.0   0.0   0.0   0.0   0.0   0.0   0.0  \n",
              "..    ...   ...   ...   ...   ...   ...   ...   ...   ...  \n",
              "556   0.0   0.0   0.0   0.0   0.0   0.0   0.0   0.0   0.0  \n",
              "557   0.0   0.0   0.0   0.0   0.0   0.0   0.0   0.0   0.0  \n",
              "558   0.0   0.0   0.0   0.0   0.0   0.0   0.0   0.0   0.0  \n",
              "559   0.0   0.0   0.0   0.0   0.0   0.0   0.0   0.0   0.0  \n",
              "560   0.0   0.0   0.0   0.0   0.0   0.0   0.0   0.0   0.0  \n",
              "\n",
              "[561 rows x 1437 columns]"
            ],
            "text/html": [
              "\n",
              "  <div id=\"df-c4c604dd-a493-4bae-bdde-a63e9d5977d0\">\n",
              "    <div class=\"colab-df-container\">\n",
              "      <div>\n",
              "<style scoped>\n",
              "    .dataframe tbody tr th:only-of-type {\n",
              "        vertical-align: middle;\n",
              "    }\n",
              "\n",
              "    .dataframe tbody tr th {\n",
              "        vertical-align: top;\n",
              "    }\n",
              "\n",
              "    .dataframe thead th {\n",
              "        text-align: right;\n",
              "    }\n",
              "</style>\n",
              "<table border=\"1\" class=\"dataframe\">\n",
              "  <thead>\n",
              "    <tr style=\"text-align: right;\">\n",
              "      <th></th>\n",
              "      <th>0</th>\n",
              "      <th>1</th>\n",
              "      <th>2</th>\n",
              "      <th>3</th>\n",
              "      <th>4</th>\n",
              "      <th>5</th>\n",
              "      <th>6</th>\n",
              "      <th>7</th>\n",
              "      <th>8</th>\n",
              "      <th>9</th>\n",
              "      <th>...</th>\n",
              "      <th>1427</th>\n",
              "      <th>1428</th>\n",
              "      <th>1429</th>\n",
              "      <th>1430</th>\n",
              "      <th>1431</th>\n",
              "      <th>1432</th>\n",
              "      <th>1433</th>\n",
              "      <th>1434</th>\n",
              "      <th>1435</th>\n",
              "      <th>1436</th>\n",
              "    </tr>\n",
              "  </thead>\n",
              "  <tbody>\n",
              "    <tr>\n",
              "      <th>0</th>\n",
              "      <td>0.0</td>\n",
              "      <td>0.0</td>\n",
              "      <td>0.0</td>\n",
              "      <td>0.0</td>\n",
              "      <td>0.0</td>\n",
              "      <td>0.0</td>\n",
              "      <td>0.0</td>\n",
              "      <td>0.0</td>\n",
              "      <td>0.0</td>\n",
              "      <td>0.0</td>\n",
              "      <td>...</td>\n",
              "      <td>0.0</td>\n",
              "      <td>0.0</td>\n",
              "      <td>0.0</td>\n",
              "      <td>0.0</td>\n",
              "      <td>0.0</td>\n",
              "      <td>0.0</td>\n",
              "      <td>0.0</td>\n",
              "      <td>0.0</td>\n",
              "      <td>0.0</td>\n",
              "      <td>0.0</td>\n",
              "    </tr>\n",
              "    <tr>\n",
              "      <th>1</th>\n",
              "      <td>0.0</td>\n",
              "      <td>0.0</td>\n",
              "      <td>0.0</td>\n",
              "      <td>0.0</td>\n",
              "      <td>0.0</td>\n",
              "      <td>0.0</td>\n",
              "      <td>0.0</td>\n",
              "      <td>0.0</td>\n",
              "      <td>0.0</td>\n",
              "      <td>0.0</td>\n",
              "      <td>...</td>\n",
              "      <td>0.0</td>\n",
              "      <td>0.0</td>\n",
              "      <td>0.0</td>\n",
              "      <td>0.0</td>\n",
              "      <td>0.0</td>\n",
              "      <td>0.0</td>\n",
              "      <td>0.0</td>\n",
              "      <td>0.0</td>\n",
              "      <td>0.0</td>\n",
              "      <td>0.0</td>\n",
              "    </tr>\n",
              "    <tr>\n",
              "      <th>2</th>\n",
              "      <td>0.0</td>\n",
              "      <td>0.0</td>\n",
              "      <td>0.0</td>\n",
              "      <td>0.0</td>\n",
              "      <td>0.0</td>\n",
              "      <td>0.0</td>\n",
              "      <td>0.0</td>\n",
              "      <td>0.0</td>\n",
              "      <td>0.0</td>\n",
              "      <td>0.0</td>\n",
              "      <td>...</td>\n",
              "      <td>0.0</td>\n",
              "      <td>0.0</td>\n",
              "      <td>0.0</td>\n",
              "      <td>0.0</td>\n",
              "      <td>0.0</td>\n",
              "      <td>0.0</td>\n",
              "      <td>0.0</td>\n",
              "      <td>0.0</td>\n",
              "      <td>0.0</td>\n",
              "      <td>0.0</td>\n",
              "    </tr>\n",
              "    <tr>\n",
              "      <th>3</th>\n",
              "      <td>0.0</td>\n",
              "      <td>0.0</td>\n",
              "      <td>0.0</td>\n",
              "      <td>0.0</td>\n",
              "      <td>0.0</td>\n",
              "      <td>0.0</td>\n",
              "      <td>0.0</td>\n",
              "      <td>0.0</td>\n",
              "      <td>0.0</td>\n",
              "      <td>0.0</td>\n",
              "      <td>...</td>\n",
              "      <td>0.0</td>\n",
              "      <td>0.0</td>\n",
              "      <td>0.0</td>\n",
              "      <td>0.0</td>\n",
              "      <td>0.0</td>\n",
              "      <td>0.0</td>\n",
              "      <td>0.0</td>\n",
              "      <td>0.0</td>\n",
              "      <td>0.0</td>\n",
              "      <td>0.0</td>\n",
              "    </tr>\n",
              "    <tr>\n",
              "      <th>4</th>\n",
              "      <td>0.0</td>\n",
              "      <td>0.0</td>\n",
              "      <td>0.0</td>\n",
              "      <td>0.0</td>\n",
              "      <td>0.0</td>\n",
              "      <td>0.0</td>\n",
              "      <td>0.0</td>\n",
              "      <td>0.0</td>\n",
              "      <td>0.0</td>\n",
              "      <td>0.0</td>\n",
              "      <td>...</td>\n",
              "      <td>0.0</td>\n",
              "      <td>0.0</td>\n",
              "      <td>0.0</td>\n",
              "      <td>0.0</td>\n",
              "      <td>0.0</td>\n",
              "      <td>0.0</td>\n",
              "      <td>0.0</td>\n",
              "      <td>0.0</td>\n",
              "      <td>0.0</td>\n",
              "      <td>0.0</td>\n",
              "    </tr>\n",
              "    <tr>\n",
              "      <th>...</th>\n",
              "      <td>...</td>\n",
              "      <td>...</td>\n",
              "      <td>...</td>\n",
              "      <td>...</td>\n",
              "      <td>...</td>\n",
              "      <td>...</td>\n",
              "      <td>...</td>\n",
              "      <td>...</td>\n",
              "      <td>...</td>\n",
              "      <td>...</td>\n",
              "      <td>...</td>\n",
              "      <td>...</td>\n",
              "      <td>...</td>\n",
              "      <td>...</td>\n",
              "      <td>...</td>\n",
              "      <td>...</td>\n",
              "      <td>...</td>\n",
              "      <td>...</td>\n",
              "      <td>...</td>\n",
              "      <td>...</td>\n",
              "      <td>...</td>\n",
              "    </tr>\n",
              "    <tr>\n",
              "      <th>556</th>\n",
              "      <td>0.0</td>\n",
              "      <td>0.0</td>\n",
              "      <td>0.0</td>\n",
              "      <td>0.0</td>\n",
              "      <td>0.0</td>\n",
              "      <td>0.0</td>\n",
              "      <td>0.0</td>\n",
              "      <td>0.0</td>\n",
              "      <td>0.0</td>\n",
              "      <td>0.0</td>\n",
              "      <td>...</td>\n",
              "      <td>0.0</td>\n",
              "      <td>0.0</td>\n",
              "      <td>0.0</td>\n",
              "      <td>0.0</td>\n",
              "      <td>0.0</td>\n",
              "      <td>0.0</td>\n",
              "      <td>0.0</td>\n",
              "      <td>0.0</td>\n",
              "      <td>0.0</td>\n",
              "      <td>0.0</td>\n",
              "    </tr>\n",
              "    <tr>\n",
              "      <th>557</th>\n",
              "      <td>0.0</td>\n",
              "      <td>0.0</td>\n",
              "      <td>0.0</td>\n",
              "      <td>0.0</td>\n",
              "      <td>0.0</td>\n",
              "      <td>0.0</td>\n",
              "      <td>0.0</td>\n",
              "      <td>0.0</td>\n",
              "      <td>0.0</td>\n",
              "      <td>0.0</td>\n",
              "      <td>...</td>\n",
              "      <td>0.0</td>\n",
              "      <td>0.0</td>\n",
              "      <td>0.0</td>\n",
              "      <td>0.0</td>\n",
              "      <td>0.0</td>\n",
              "      <td>0.0</td>\n",
              "      <td>0.0</td>\n",
              "      <td>0.0</td>\n",
              "      <td>0.0</td>\n",
              "      <td>0.0</td>\n",
              "    </tr>\n",
              "    <tr>\n",
              "      <th>558</th>\n",
              "      <td>0.0</td>\n",
              "      <td>0.0</td>\n",
              "      <td>0.0</td>\n",
              "      <td>0.0</td>\n",
              "      <td>0.0</td>\n",
              "      <td>0.0</td>\n",
              "      <td>0.0</td>\n",
              "      <td>0.0</td>\n",
              "      <td>0.0</td>\n",
              "      <td>0.0</td>\n",
              "      <td>...</td>\n",
              "      <td>0.0</td>\n",
              "      <td>0.0</td>\n",
              "      <td>0.0</td>\n",
              "      <td>0.0</td>\n",
              "      <td>0.0</td>\n",
              "      <td>0.0</td>\n",
              "      <td>0.0</td>\n",
              "      <td>0.0</td>\n",
              "      <td>0.0</td>\n",
              "      <td>0.0</td>\n",
              "    </tr>\n",
              "    <tr>\n",
              "      <th>559</th>\n",
              "      <td>0.0</td>\n",
              "      <td>0.0</td>\n",
              "      <td>0.0</td>\n",
              "      <td>0.0</td>\n",
              "      <td>0.0</td>\n",
              "      <td>0.0</td>\n",
              "      <td>0.0</td>\n",
              "      <td>0.0</td>\n",
              "      <td>0.0</td>\n",
              "      <td>0.0</td>\n",
              "      <td>...</td>\n",
              "      <td>0.0</td>\n",
              "      <td>0.0</td>\n",
              "      <td>0.0</td>\n",
              "      <td>0.0</td>\n",
              "      <td>0.0</td>\n",
              "      <td>0.0</td>\n",
              "      <td>0.0</td>\n",
              "      <td>0.0</td>\n",
              "      <td>0.0</td>\n",
              "      <td>0.0</td>\n",
              "    </tr>\n",
              "    <tr>\n",
              "      <th>560</th>\n",
              "      <td>0.0</td>\n",
              "      <td>0.0</td>\n",
              "      <td>0.0</td>\n",
              "      <td>0.0</td>\n",
              "      <td>0.0</td>\n",
              "      <td>0.0</td>\n",
              "      <td>0.0</td>\n",
              "      <td>0.0</td>\n",
              "      <td>0.0</td>\n",
              "      <td>0.0</td>\n",
              "      <td>...</td>\n",
              "      <td>0.0</td>\n",
              "      <td>0.0</td>\n",
              "      <td>0.0</td>\n",
              "      <td>0.0</td>\n",
              "      <td>0.0</td>\n",
              "      <td>0.0</td>\n",
              "      <td>0.0</td>\n",
              "      <td>0.0</td>\n",
              "      <td>0.0</td>\n",
              "      <td>0.0</td>\n",
              "    </tr>\n",
              "  </tbody>\n",
              "</table>\n",
              "<p>561 rows × 1437 columns</p>\n",
              "</div>\n",
              "      <button class=\"colab-df-convert\" onclick=\"convertToInteractive('df-c4c604dd-a493-4bae-bdde-a63e9d5977d0')\"\n",
              "              title=\"Convert this dataframe to an interactive table.\"\n",
              "              style=\"display:none;\">\n",
              "        \n",
              "  <svg xmlns=\"http://www.w3.org/2000/svg\" height=\"24px\"viewBox=\"0 0 24 24\"\n",
              "       width=\"24px\">\n",
              "    <path d=\"M0 0h24v24H0V0z\" fill=\"none\"/>\n",
              "    <path d=\"M18.56 5.44l.94 2.06.94-2.06 2.06-.94-2.06-.94-.94-2.06-.94 2.06-2.06.94zm-11 1L8.5 8.5l.94-2.06 2.06-.94-2.06-.94L8.5 2.5l-.94 2.06-2.06.94zm10 10l.94 2.06.94-2.06 2.06-.94-2.06-.94-.94-2.06-.94 2.06-2.06.94z\"/><path d=\"M17.41 7.96l-1.37-1.37c-.4-.4-.92-.59-1.43-.59-.52 0-1.04.2-1.43.59L10.3 9.45l-7.72 7.72c-.78.78-.78 2.05 0 2.83L4 21.41c.39.39.9.59 1.41.59.51 0 1.02-.2 1.41-.59l7.78-7.78 2.81-2.81c.8-.78.8-2.07 0-2.86zM5.41 20L4 18.59l7.72-7.72 1.47 1.35L5.41 20z\"/>\n",
              "  </svg>\n",
              "      </button>\n",
              "      \n",
              "  <style>\n",
              "    .colab-df-container {\n",
              "      display:flex;\n",
              "      flex-wrap:wrap;\n",
              "      gap: 12px;\n",
              "    }\n",
              "\n",
              "    .colab-df-convert {\n",
              "      background-color: #E8F0FE;\n",
              "      border: none;\n",
              "      border-radius: 50%;\n",
              "      cursor: pointer;\n",
              "      display: none;\n",
              "      fill: #1967D2;\n",
              "      height: 32px;\n",
              "      padding: 0 0 0 0;\n",
              "      width: 32px;\n",
              "    }\n",
              "\n",
              "    .colab-df-convert:hover {\n",
              "      background-color: #E2EBFA;\n",
              "      box-shadow: 0px 1px 2px rgba(60, 64, 67, 0.3), 0px 1px 3px 1px rgba(60, 64, 67, 0.15);\n",
              "      fill: #174EA6;\n",
              "    }\n",
              "\n",
              "    [theme=dark] .colab-df-convert {\n",
              "      background-color: #3B4455;\n",
              "      fill: #D2E3FC;\n",
              "    }\n",
              "\n",
              "    [theme=dark] .colab-df-convert:hover {\n",
              "      background-color: #434B5C;\n",
              "      box-shadow: 0px 1px 3px 1px rgba(0, 0, 0, 0.15);\n",
              "      filter: drop-shadow(0px 1px 2px rgba(0, 0, 0, 0.3));\n",
              "      fill: #FFFFFF;\n",
              "    }\n",
              "  </style>\n",
              "\n",
              "      <script>\n",
              "        const buttonEl =\n",
              "          document.querySelector('#df-c4c604dd-a493-4bae-bdde-a63e9d5977d0 button.colab-df-convert');\n",
              "        buttonEl.style.display =\n",
              "          google.colab.kernel.accessAllowed ? 'block' : 'none';\n",
              "\n",
              "        async function convertToInteractive(key) {\n",
              "          const element = document.querySelector('#df-c4c604dd-a493-4bae-bdde-a63e9d5977d0');\n",
              "          const dataTable =\n",
              "            await google.colab.kernel.invokeFunction('convertToInteractive',\n",
              "                                                     [key], {});\n",
              "          if (!dataTable) return;\n",
              "\n",
              "          const docLinkHtml = 'Like what you see? Visit the ' +\n",
              "            '<a target=\"_blank\" href=https://colab.research.google.com/notebooks/data_table.ipynb>data table notebook</a>'\n",
              "            + ' to learn more about interactive tables.';\n",
              "          element.innerHTML = '';\n",
              "          dataTable['output_type'] = 'display_data';\n",
              "          await google.colab.output.renderOutput(dataTable, element);\n",
              "          const docLink = document.createElement('div');\n",
              "          docLink.innerHTML = docLinkHtml;\n",
              "          element.appendChild(docLink);\n",
              "        }\n",
              "      </script>\n",
              "    </div>\n",
              "  </div>\n",
              "  "
            ]
          },
          "metadata": {},
          "execution_count": 82
        }
      ]
    },
    {
      "cell_type": "code",
      "source": [
        "# Compute the cosine similarity for the tfidf above output\n",
        "similar_songs = cosine_similarity(song_tfidf, song_tfidf)\n",
        "\n",
        "# Let us see the above array\n",
        "similar_songs"
      ],
      "metadata": {
        "colab": {
          "base_uri": "https://localhost:8080/"
        },
        "id": "O1NStNIFwsLK",
        "outputId": "51034622-1906-4c91-fcb4-0a8f3e1b63d8"
      },
      "execution_count": null,
      "outputs": [
        {
          "output_type": "execute_result",
          "data": {
            "text/plain": [
              "array([[1., 0., 0., ..., 0., 0., 0.],\n",
              "       [0., 1., 0., ..., 0., 0., 0.],\n",
              "       [0., 0., 1., ..., 0., 0., 0.],\n",
              "       ...,\n",
              "       [0., 0., 0., ..., 1., 0., 0.],\n",
              "       [0., 0., 0., ..., 0., 1., 0.],\n",
              "       [0., 0., 0., ..., 0., 0., 1.]])"
            ]
          },
          "metadata": {},
          "execution_count": 83
        }
      ]
    },
    {
      "cell_type": "markdown",
      "source": [
        "Finally, let's create a function to find most similar songs to recommend for a given song."
      ],
      "metadata": {
        "id": "zI8fZyRiwybN"
      }
    },
    {
      "cell_type": "code",
      "source": [
        "# Function that takes in song title as input and returns the top 10 recommended songs\n",
        "def recommendations(title, similar_songs):\n",
        "\n",
        "    recommended_songs = []\n",
        "\n",
        "    # Getting the index of the song that matches the title\n",
        "    idx = indices[indices == title].index[0]\n",
        "\n",
        "    # Creating a Series with the similarity scores in descending order\n",
        "    score_series = pd.Series(similar_songs[idx]).sort_values(ascending = False)\n",
        "\n",
        "    # Getting the indexes of the 10 most similar songs\n",
        "    top_10_indexes = list(score_series.iloc[1 : 11].index)\n",
        "    print(top_10_indexes)\n",
        "\n",
        "    # Populating the list with the titles of the best 10 matching songs\n",
        "    for i in top_10_indexes:\n",
        "        recommended_songs.append(list(df_small.index)[i])\n",
        "\n",
        "    return recommended_songs"
      ],
      "metadata": {
        "id": "Xyw9Hrn5w3KI"
      },
      "execution_count": null,
      "outputs": []
    },
    {
      "cell_type": "markdown",
      "source": [
        "Recommending 10 songs similar to Learn to Fly"
      ],
      "metadata": {
        "id": "bM9tTLuoxN3K"
      }
    },
    {
      "cell_type": "code",
      "source": [
        "# Make the recommendation for the song with title 'Learn To Fly'\n",
        "recommendations('Learn To Fly', similar_songs)"
      ],
      "metadata": {
        "colab": {
          "base_uri": "https://localhost:8080/"
        },
        "id": "LjlL-ib-xUKm",
        "outputId": "22ac0f2e-bdf7-480f-fc09-1f28ad1ec832"
      },
      "execution_count": null,
      "outputs": [
        {
          "output_type": "stream",
          "name": "stdout",
          "text": [
            "[509, 234, 423, 345, 394, 370, 371, 372, 373, 375]\n"
          ]
        },
        {
          "output_type": "execute_result",
          "data": {
            "text/plain": [
              "['Everlong',\n",
              " 'The Pretender',\n",
              " 'Nothing Better (Album)',\n",
              " 'From Left To Right',\n",
              " 'Lifespan Of A Fly',\n",
              " 'Under The Gun',\n",
              " 'I Need A Dollar',\n",
              " 'Feel The Love',\n",
              " 'All The Pretty Faces',\n",
              " 'Bones']"
            ]
          },
          "metadata": {},
          "execution_count": 85
        }
      ]
    },
    {
      "cell_type": "markdown",
      "source": [
        "**Observations and Insights:**\n",
        "\n",
        "The recommendation system is working well. The songs recommended are of either the same group (Foo Fighters) or of similar genre, for example, rock."
      ],
      "metadata": {
        "id": "N25sJE6Dxizo"
      }
    },
    {
      "cell_type": "markdown",
      "source": [
        "## **Conclusion and Recommendations: cf. pdf document**\n",
        "\n",
        "- **Refined Insights -** What are the most meaningful insights from the data relevant to the problem?\n",
        "\n",
        "- **Comparison of various techniques and their relative performance -** How do different techniques perform? Which one is performing relatively better? Is there scope to improve the performance further?\n",
        "\n",
        "**Popularity-Based Recommendation Systems**\n",
        "This method takes into account the count and sum of play counts of the songs to build\n",
        "the recommendation system. We can get the top_n_songs with this method. It is\n",
        "useful recommend the top 10 songs on a daily basis. This method can be used to fill\n",
        "in a category of recommendations like ‘Top songs of the week’ for example.\n",
        "However, we need a more personalised recommended system for the user.\n",
        "\n",
        "**Collaborative Filtering**\n",
        "The surprise library is used in these models. Precision@k and recall@k, RMSE and\n",
        "F1_Score@k allow to measure the performance of a model. To compare different\n",
        "models, we can use the RMSE and the F1_Score@k since it takes into account both\n",
        "the precision and the recall of the model. To optimize the model, we would like to\n",
        "minimize the RMSE.\n",
        "\n",
        "\n",
        "The threshold used is 1.5. The higher the threshold, the higher the precision, but the\n",
        "lower the recall. The ideal threshold setting is the highest possible recall and precision\n",
        "rate which implies making a smart compromise by finding a value which optimizes\n",
        "the F1_Score@k. We will also choose a fixed training and testing size. We will now\n",
        "implement the above in the user-user similarity-based collaborative filtering model,\n",
        "the item-item similarity-based collaborative filtering model and the matrix\n",
        "factorization model and compare those models.\n",
        "Finally, we have tuned the hyperparameters of those models and made optimized\n",
        "models.\n",
        "\n",
        "All the optimized models have a smaller RMSE than the baseline model. They are\n",
        "supposed to perform better, which is generally the case except for the user-user\n",
        "similarity based collaborative filtering. This might be because the play frequency was\n",
        "not taken into account.\n",
        "From the above results, we can conclude that the performance of item-item\n",
        "similarity-based optimized model works better since it provides a very close play\n",
        "count to the actual play count.\n",
        "Finally, we have also corrected the rating by taking into account the play frequency\n",
        "in all the above models.\n",
        "\n",
        "**Cluster Based Recommendation System**\n",
        "\n",
        "The optimized Cluster based model gives a good prediction. We will have to choose\n",
        "between this model and the item-item similarity-based optimized model to make a\n",
        "personalized recommendation system. From the corrected ratings, we can see that\n",
        "the cluster-based models give higher ratings than the item-item collaborative filtering\n",
        "models. Also, the RMSE is lower in the item-item similarity-based optimized model\n",
        "than in the cluster-based model. We will thus keep the item-item similarity optimized\n",
        "model for personal recommendations.\n",
        "\n",
        "\n",
        "\n",
        "- **Proposal for the final solution design -** What model do you propose to be adopted? Why is this the best solution to adopt?\n",
        "\n",
        "For the final solution design, I would propose to keep a mix of the content-based\n",
        "recommendation system and the item-item similarity optimized recommendation\n",
        "system as both models would complement each other. While the content-based\n",
        "recommendation system will find the key words and filter songs easily from the same\n",
        "artist or the same genre, the item-item similarity optimized recommendation system\n",
        "would find new songs for the user to discover and which the user might like. We might\n",
        "also include a top 10 song category using the popularity-based recommendation\n",
        "system so as to make the user also discover the trending songs. We must also explore\n",
        "different thresholds and their influence on the RMSE to find a better optimized model.\n",
        "Finally, we might improve the models if we get some more precise and extended data\n",
        "set on the songs like the timestamp or the loudness of the songs."
      ],
      "metadata": {
        "id": "ldXrEiksxoVg"
      }
    },
    {
      "cell_type": "code",
      "source": [],
      "metadata": {
        "id": "LujaRwYvx2qV"
      },
      "execution_count": null,
      "outputs": []
    }
  ]
}